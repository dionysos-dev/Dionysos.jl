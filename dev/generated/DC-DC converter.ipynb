{
 "cells": [
  {
   "cell_type": "markdown",
   "source": [
    "# Example: DC-DC converter\n",
    "\n",
    "\n",
    "We consider a boost DC-DC converter which has been widely studied from the point of view of hybrid control, see for example in  [1, V.A],[2],[3].\n",
    "This is a **safety problem** for a **switching system**.\n",
    "\n",
    "![Boost DC-DC converter.](https://github.com/dionysos-dev/Dionysos.jl/blob/master/docs/assets/dcdcboost.jpg?raw=true)\n",
    "\n",
    "The state of the system is given by $x(t) = \\begin{bmatrix} i_l(t) & v_c(t) \\end{bmatrix}^\\top$.\n",
    "The switching system has two modes consisting in two-dimensional affine dynamics:\n",
    "$$\n",
    "\\dot{x} = f_p(x) = A_p x + b_p,\\quad p=1,2\n",
    "$$\n",
    "with\n",
    "$$\n",
    "A_1 = \\begin{bmatrix} -\\frac{r_l}{x_l} &0 \\\\ 0 & -\\frac{1}{x_c}\\frac{1}{r_0+r_c}  \\end{bmatrix}, A_2= \\begin{bmatrix} -\\frac{1}{x_l}\\left(r_l+\\frac{r_0r_c}{r_0+r_c}\\right) & -\\frac{1}{x_l}\\frac{r_0}{r_0+r_c}  \\\\ \\frac{1}{x_c}\\frac{r_0}{r_0+r_c}   & -\\frac{1}{x_c}\\frac{1}{r_0+r_c}  \\end{bmatrix}, b = \\begin{bmatrix} \\frac{v_s}{x_l}\\\\0\\end{bmatrix}.\n",
    "$$\n",
    "The goal is to design a controller to keep the state of the system in a safety region around the reference desired value, using as input only the switching\n",
    "signal.\n",
    "\n",
    "\n",
    "In order to study the concrete system and its symbolic abstraction in a unified framework, we will solve the problem\n",
    "for the sampled system with a sampling time $\\tau$.\n",
    "\n",
    "The abstraction is based on a feedback refinment relation [4,V.2 Definition].\n",
    "Basically, this is equivalent to an alternating simulation relationship with the additional constraint that the input of the\n",
    "concrete and symbolic system preserving the relation must be identical.\n",
    "This allows to easily determine the controller of the concrete system from the abstraction controller by simply adding a quantization step.\n",
    "\n",
    "For the construction of the relations in the abstraction, it is necessary to over-approximate attainable sets of\n",
    "a particular cell. In this example, we consider the used of a growth bound function  [4, VIII.2, VIII.5] which is one of the possible methods to over-approximate\n",
    "attainable sets of a particular cell based on the state reach by its center. Therefore, it is used\n",
    "to compute the relations in the abstraction based on the feedback refinement relation."
   ],
   "metadata": {}
  },
  {
   "cell_type": "markdown",
   "source": [
    "First, let us import [StaticArrays](https://github.com/JuliaArrays/StaticArrays.jl)."
   ],
   "metadata": {}
  },
  {
   "outputs": [],
   "cell_type": "code",
   "source": [
    "using StaticArrays"
   ],
   "metadata": {},
   "execution_count": 1
  },
  {
   "cell_type": "markdown",
   "source": [
    "At this point, we import the useful Dionysos sub-module for this problem: [Abstraction](https://github.com/dionysos-dev/Dionysos.jl/blob/master/src/Abstraction/abstraction.jl)."
   ],
   "metadata": {}
  },
  {
   "outputs": [
    {
     "output_type": "execute_result",
     "data": {
      "text/plain": "Dionysos.Symbolic"
     },
     "metadata": {},
     "execution_count": 2
    }
   ],
   "cell_type": "code",
   "source": [
    "using Dionysos\n",
    "using Dionysos.Problem\n",
    "const DI = Dionysos\n",
    "const UT = DI.Utils\n",
    "const DO = DI.Domain\n",
    "const ST = DI.System\n",
    "const CO = DI.Control\n",
    "const SY = DI.Symbolic"
   ],
   "metadata": {},
   "execution_count": 2
  },
  {
   "cell_type": "markdown",
   "source": [
    "### Definition of the system\n",
    "we can import the module containing the DCDC problem like this"
   ],
   "metadata": {}
  },
  {
   "outputs": [
    {
     "output_type": "execute_result",
     "data": {
      "text/plain": "Main.var\"##313\".DCDC"
     },
     "metadata": {},
     "execution_count": 3
    }
   ],
   "cell_type": "code",
   "source": [
    "include(joinpath(dirname(dirname(pathof(Dionysos))), \"problems\", \"DCDC.jl\"))"
   ],
   "metadata": {},
   "execution_count": 3
  },
  {
   "cell_type": "markdown",
   "source": [
    "and we can instantiate the DC system with the provided system"
   ],
   "metadata": {}
  },
  {
   "outputs": [
    {
     "name": "stdout",
     "output_type": "stream",
     "text": [
      "compute_symmodel_from_controlsystem! started\n",
      "compute_symmodel_from_controlsystem! terminated with success: 3799110 transitions created\n",
      "  5.596290 seconds (47.97 M allocations: 1.814 GiB, 7.40% gc time, 7.42% compilation time)\n",
      "compute_controller_safe! started\n",
      "\n",
      "compute_controller_safe! terminated without covering init set\n",
      "  5.024358 seconds (19.81 M allocations: 689.748 MiB, 3.75% gc time, 11.57% compilation time)\n"
     ]
    }
   ],
   "cell_type": "code",
   "source": [
    "problem = DCDC.problem()\n",
    "\n",
    "x0 = SVector(0.0, 0.0)\n",
    "hx = SVector(2.0/4.0e3, 2.0/4.0e3)\n",
    "state_grid = DO.GridFree(x0, hx)\n",
    "u0 = SVector(1)\n",
    "hu = SVector(1)\n",
    "input_grid = DO.GridFree(u0, hu)\n",
    "\n",
    "using JuMP\n",
    "optimizer = MOI.instantiate(Abstraction.Optimizer)\n",
    "MOI.set(optimizer, MOI.RawOptimizerAttribute(\"problem\"), problem)\n",
    "MOI.set(optimizer, MOI.RawOptimizerAttribute(\"state_grid\"), state_grid)\n",
    "MOI.set(optimizer, MOI.RawOptimizerAttribute(\"input_grid\"), input_grid)\n",
    "MOI.optimize!(optimizer)\n",
    "\n",
    "controller = MOI.get(optimizer, MOI.RawOptimizerAttribute(\"controller\"));"
   ],
   "metadata": {},
   "execution_count": 4
  },
  {
   "cell_type": "markdown",
   "source": [
    "### Trajectory display\n",
    "We choose the number of steps `nsteps` for the sampled system, i.e. the total elapsed time: `nstep`*`tstep`\n",
    "as well as the true initial state `x0` which is contained in the initial state-space defined previously."
   ],
   "metadata": {}
  },
  {
   "outputs": [],
   "cell_type": "code",
   "source": [
    "#nstep = 300;\n",
    "#x0 = SVector(1.2, 5.6);"
   ],
   "metadata": {},
   "execution_count": 5
  },
  {
   "cell_type": "markdown",
   "source": [
    "To complete"
   ],
   "metadata": {}
  },
  {
   "cell_type": "markdown",
   "source": [
    "### References\n",
    "1. A. Girard, G. Pola and P. Tabuada, \"Approximately Bisimilar Symbolic Models for Incrementally Stable Switched Systems,\" in IEEE Transactions on Automatic Control, vol. 55, no. 1, pp. 116-126, Jan. 2010.\n",
    "2. S. Mouelhi, A. Girard, and G. Gössler. “CoSyMA: a tool for controller synthesis using multi-scale abstractions”. In: HSCC. ACM. 2013, pp. 83–88.\n",
    "3. A. Girard. “Controller synthesis for safety and reachability via approximate bisimulation”. In: Automatica 48.5 (2012), pp. 947–953.\n",
    "4. G. Reissig, A. Weber and M. Rungger, \"Feedback Refinement Relations for the Synthesis of Symbolic Controllers,\" in IEEE Transactions on Automatic Control, vol. 62, no. 4, pp. 1781-1796."
   ],
   "metadata": {}
  },
  {
   "cell_type": "markdown",
   "source": [
    "---\n",
    "\n",
    "*This notebook was generated using [Literate.jl](https://github.com/fredrikekre/Literate.jl).*"
   ],
   "metadata": {}
  }
 ],
 "nbformat_minor": 3,
 "metadata": {
  "language_info": {
   "file_extension": ".jl",
   "mimetype": "application/julia",
   "name": "julia",
   "version": "1.8.5"
  },
  "kernelspec": {
   "name": "julia-1.8",
   "display_name": "Julia 1.8.5",
   "language": "julia"
  }
 },
 "nbformat": 4
}
