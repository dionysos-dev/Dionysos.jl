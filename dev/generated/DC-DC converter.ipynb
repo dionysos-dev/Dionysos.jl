{
 "cells": [
  {
   "cell_type": "markdown",
   "source": [
    "# Example: DC-DC converter\n",
    "\n",
    "\n",
    "We consider a boost DC-DC converter which has been widely studied from the point of view of hybrid control, see for example in  [1, V.A],[2],[3].\n",
    "This is a **safety problem** for a **switching system**.\n",
    "\n",
    "![Boost DC-DC converter.](https://github.com/dionysos-dev/Dionysos.jl/blob/master/docs/assets/dcdcboost.jpg?raw=true)\n",
    "\n",
    "The state of the system is given by $x(t) = \\begin{bmatrix} i_l(t) & v_c(t) \\end{bmatrix}^\\top$.\n",
    "The switching system has two modes consisting in two-dimensional affine dynamics:\n",
    "$$\n",
    "\\dot{x} = f_p(x) = A_p x + b_p,\\quad p=1,2\n",
    "$$\n",
    "with\n",
    "$$\n",
    "A_1 = \\begin{bmatrix} -\\frac{r_l}{x_l} &0 \\\\ 0 & -\\frac{1}{x_c}\\frac{1}{r_0+r_c}  \\end{bmatrix}, A_2= \\begin{bmatrix} -\\frac{1}{x_l}\\left(r_l+\\frac{r_0r_c}{r_0+r_c}\\right) & -\\frac{1}{x_l}\\frac{r_0}{r_0+r_c}  \\\\ \\frac{1}{x_c}\\frac{r_0}{r_0+r_c}   & -\\frac{1}{x_c}\\frac{1}{r_0+r_c}  \\end{bmatrix}, b = \\begin{bmatrix} \\frac{v_s}{x_l}\\\\0\\end{bmatrix}.\n",
    "$$\n",
    "The goal is to design a controller to keep the state of the system in a safety region around the reference desired value, using as input only the switching\n",
    "signal.\n",
    "\n",
    "\n",
    "In order to study the concrete system and its symbolic abstraction in a unified framework, we will solve the problem\n",
    "for the sampled system with a sampling time $\\tau$.\n",
    "\n",
    "The abstraction is based on a feedback refinment relation [4,V.2 Definition].\n",
    "Basically, this is equivalent to an alternating simulation relationship with the additional constraint that the input of the\n",
    "concrete and symbolic system preserving the relation must be identical.\n",
    "This allows to easily determine the controller of the concrete system from the abstraction controller by simply adding a quantization step.\n",
    "\n",
    "For the construction of the relations in the abstraction, it is necessary to over-approximate attainable sets of\n",
    "a particular cell. In this example, we consider the used of a growth bound function  [4, VIII.2, VIII.5] which is one of the possible methods to over-approximate\n",
    "attainable sets of a particular cell based on the state reach by its center. Therefore, it is used\n",
    "to compute the relations in the abstraction based on the feedback refinement relation."
   ],
   "metadata": {}
  },
  {
   "cell_type": "markdown",
   "source": [
    "First, let us import [StaticArrays](https://github.com/JuliaArrays/StaticArrays.jl)."
   ],
   "metadata": {}
  },
  {
   "outputs": [],
   "cell_type": "code",
   "source": [
    "using StaticArrays"
   ],
   "metadata": {},
   "execution_count": 1
  },
  {
   "cell_type": "markdown",
   "source": [
    "At this point, we import the useful Dionysos sub-module for this problem: [Abstraction](https://github.com/dionysos-dev/Dionysos.jl/blob/master/src/Abstraction/abstraction.jl)."
   ],
   "metadata": {}
  },
  {
   "outputs": [
    {
     "output_type": "execute_result",
     "data": {
      "text/plain": "Dionysos.Symbolic"
     },
     "metadata": {},
     "execution_count": 2
    }
   ],
   "cell_type": "code",
   "source": [
    "using Dionysos\n",
    "const DI = Dionysos\n",
    "const UT = DI.Utils\n",
    "const DO = DI.Domain\n",
    "const ST = DI.System\n",
    "const CO = DI.Control\n",
    "const SY = DI.Symbolic"
   ],
   "metadata": {},
   "execution_count": 2
  },
  {
   "cell_type": "markdown",
   "source": [
    "### Definition of the system"
   ],
   "metadata": {}
  },
  {
   "cell_type": "markdown",
   "source": [
    "Definition of the parameters of the system:"
   ],
   "metadata": {}
  },
  {
   "outputs": [],
   "cell_type": "code",
   "source": [
    "vs = 1.0; rL = 0.05; xL = 3.0; rC = 0.005; xC = 70.0; r0 = 1.0;"
   ],
   "metadata": {},
   "execution_count": 3
  },
  {
   "cell_type": "markdown",
   "source": [
    "Definition of the dynamics functions $f_p$ of the system:"
   ],
   "metadata": {}
  },
  {
   "outputs": [],
   "cell_type": "code",
   "source": [
    "b = SVector(vs/xL, 0.0);\n",
    "A1 = SMatrix{2,2}(-rL/xL, 0.0, 0.0, -1.0/xC/(r0+rC));\n",
    "A2 = SMatrix{2,2}(-(rL+r0*rC/(r0+rC))/xL, 5.0*r0/(r0+rC)/xC,\n",
    "    -r0/(r0+rC)/xL/5.0, -1.0/xC/(r0+rC));\n",
    "F_sys = let b = b, A1 = A1, A2 = A2\n",
    "    (x, u) -> u[1] == 1 ? A1*x + b : A2*x + b\n",
    "end;"
   ],
   "metadata": {},
   "execution_count": 4
  },
  {
   "cell_type": "markdown",
   "source": [
    "Definition of the growth bound functions of $f_p$:"
   ],
   "metadata": {}
  },
  {
   "outputs": [],
   "cell_type": "code",
   "source": [
    "ngrowthbound = 5;\n",
    "A2_abs = SMatrix{2,2}(-(rL+r0*rC/(r0+rC))/xL, 5.0*r0/(r0+rC)/xC,\n",
    "                      r0/(r0+rC)/xL/5.0, -1.0/xC/(r0+rC));\n",
    "L_growthbound = let A1 = A1, A2_abs = A2_abs\n",
    "    u -> u[1] == 1 ? A1 : A2_abs\n",
    "end;"
   ],
   "metadata": {},
   "execution_count": 5
  },
  {
   "cell_type": "markdown",
   "source": [
    "Here it is considered that there is no system and measurement noise:"
   ],
   "metadata": {}
  },
  {
   "outputs": [],
   "cell_type": "code",
   "source": [
    "sysnoise = SVector(0.0, 0.0);\n",
    "measnoise = SVector(0.0, 0.0);"
   ],
   "metadata": {},
   "execution_count": 6
  },
  {
   "cell_type": "markdown",
   "source": [
    "Definition of the discretization time step parameters: `tstep` and `nsys`:"
   ],
   "metadata": {}
  },
  {
   "outputs": [],
   "cell_type": "code",
   "source": [
    "tstep = 0.5;\n",
    "nsys = 5;"
   ],
   "metadata": {},
   "execution_count": 7
  },
  {
   "cell_type": "markdown",
   "source": [
    "Finally, we build the control system:"
   ],
   "metadata": {}
  },
  {
   "outputs": [],
   "cell_type": "code",
   "source": [
    "contsys = ST.NewControlSystemGrowthRK4(tstep, F_sys, L_growthbound, sysnoise,\n",
    "                                       measnoise, nsys, ngrowthbound);"
   ],
   "metadata": {},
   "execution_count": 8
  },
  {
   "cell_type": "markdown",
   "source": [
    "### Definition of the control problem\n",
    "Definition of the state-space (limited to be rectangle):"
   ],
   "metadata": {}
  },
  {
   "outputs": [],
   "cell_type": "code",
   "source": [
    "_X_ = UT.HyperRectangle(SVector(1.15, 5.45), SVector(1.55, 5.85));"
   ],
   "metadata": {},
   "execution_count": 9
  },
  {
   "cell_type": "markdown",
   "source": [
    "Definition of the input-space, the later discretization of the input ensures that it can only take the values $1$ or $2$:"
   ],
   "metadata": {}
  },
  {
   "outputs": [],
   "cell_type": "code",
   "source": [
    "_U_ = UT.HyperRectangle(SVector(1), SVector(2));"
   ],
   "metadata": {},
   "execution_count": 10
  },
  {
   "cell_type": "markdown",
   "source": [
    "### Definition of the abstraction"
   ],
   "metadata": {}
  },
  {
   "cell_type": "markdown",
   "source": [
    "Definition of the grid of the state-space on which the abstraction is based (origin `x0` and state-space discretization `h`):"
   ],
   "metadata": {}
  },
  {
   "outputs": [],
   "cell_type": "code",
   "source": [
    "x0 = SVector(0.0, 0.0);\n",
    "h = SVector(2.0/4.0e3, 2.0/4.0e3);\n",
    "Xgrid = DO.GridFree(x0, h);"
   ],
   "metadata": {},
   "execution_count": 11
  },
  {
   "cell_type": "markdown",
   "source": [
    "Construction of the struct `DomainList` containing the feasible cells of the state-space.\n",
    "Note, we used `AB.INNER` to make sure to add cells entirely contained in the domain because we are working with a safety problem."
   ],
   "metadata": {}
  },
  {
   "outputs": [],
   "cell_type": "code",
   "source": [
    "Xfull = DO.DomainList(Xgrid);\n",
    "DO.add_set!(Xfull, _X_, DO.INNER)"
   ],
   "metadata": {},
   "execution_count": 12
  },
  {
   "cell_type": "markdown",
   "source": [
    "Definition of the grid of the input-space on which the abstraction is based (origin `u0` and input-space discretization `h`):"
   ],
   "metadata": {}
  },
  {
   "outputs": [],
   "cell_type": "code",
   "source": [
    "u0 = SVector(1);\n",
    "h = SVector(1);\n",
    "Ugrid = DO.GridFree(u0, h);"
   ],
   "metadata": {},
   "execution_count": 13
  },
  {
   "cell_type": "markdown",
   "source": [
    "Construction of the struct `DomainList` containing the quantized inputs:"
   ],
   "metadata": {}
  },
  {
   "outputs": [],
   "cell_type": "code",
   "source": [
    "Ufull = DO.DomainList(Ugrid);\n",
    "DO.add_set!(Ufull, _U_, DO.OUTER);"
   ],
   "metadata": {},
   "execution_count": 14
  },
  {
   "cell_type": "markdown",
   "source": [
    "Construction of the abstraction:"
   ],
   "metadata": {}
  },
  {
   "outputs": [
    {
     "name": "stdout",
     "output_type": "stream",
     "text": [
      "compute_symmodel_from_controlsystem! started\n",
      "compute_symmodel_from_controlsystem! terminated with success: 3776873 transitions created\n",
      "  5.740901 seconds (48.23 M allocations: 1.815 GiB, 9.89% gc time, 11.69% compilation time)\n"
     ]
    }
   ],
   "cell_type": "code",
   "source": [
    "symmodel = SY.NewSymbolicModelListList(Xfull, Ufull);\n",
    "@time SY.compute_symmodel_from_controlsystem!(symmodel, contsys)"
   ],
   "metadata": {},
   "execution_count": 15
  },
  {
   "cell_type": "markdown",
   "source": [
    "### Construction of the controller\n",
    "In this problem, we consider both: the initial state-space and the safety state-space are equal to the entire state-space.\n",
    "\n",
    "Computation of the initial symbolic states:"
   ],
   "metadata": {}
  },
  {
   "outputs": [],
   "cell_type": "code",
   "source": [
    "Xinit = DO.DomainList(Xgrid);\n",
    "union!(Xinit, Xfull)\n",
    "initlist = [SY.get_state_by_xpos(symmodel, pos) for pos in DO.enum_pos(Xinit)];"
   ],
   "metadata": {},
   "execution_count": 16
  },
  {
   "cell_type": "markdown",
   "source": [
    "Computation of the safety symbolic states:"
   ],
   "metadata": {}
  },
  {
   "outputs": [],
   "cell_type": "code",
   "source": [
    "Xsafe = DO.DomainList(Xgrid)\n",
    "union!(Xsafe, Xfull)\n",
    "safelist = [SY.get_state_by_xpos(symmodel, pos) for pos in DO.enum_pos(Xsafe)];"
   ],
   "metadata": {},
   "execution_count": 17
  },
  {
   "cell_type": "markdown",
   "source": [
    "Construction of the controller:"
   ],
   "metadata": {}
  },
  {
   "outputs": [
    {
     "name": "stdout",
     "output_type": "stream",
     "text": [
      "compute_controller_safe! started\n",
      "\n",
      "compute_controller_safe! terminated without covering init set\n",
      "  4.511378 seconds (20.01 M allocations: 694.642 MiB, 3.59% gc time, 13.93% compilation time)\n"
     ]
    }
   ],
   "cell_type": "code",
   "source": [
    "contr = CO.NewControllerList();\n",
    "@time CO.compute_controller_safe!(contr, symmodel.autom, initlist, safelist)"
   ],
   "metadata": {},
   "execution_count": 18
  },
  {
   "cell_type": "markdown",
   "source": [
    "### Trajectory display\n",
    "We choose the number of steps `nsteps` for the sampled system, i.e. the total elapsed time: `nstep`*`tstep`\n",
    "as well as the true initial state `x0` which is contained in the initial state-space defined previously."
   ],
   "metadata": {}
  },
  {
   "outputs": [],
   "cell_type": "code",
   "source": [
    "nstep = 300;\n",
    "x0 = SVector(1.2, 5.6);"
   ],
   "metadata": {},
   "execution_count": 19
  },
  {
   "cell_type": "markdown",
   "source": [
    "To complete"
   ],
   "metadata": {}
  },
  {
   "cell_type": "markdown",
   "source": [
    "### References\n",
    "1. A. Girard, G. Pola and P. Tabuada, \"Approximately Bisimilar Symbolic Models for Incrementally Stable Switched Systems,\" in IEEE Transactions on Automatic Control, vol. 55, no. 1, pp. 116-126, Jan. 2010.\n",
    "2. S. Mouelhi, A. Girard, and G. Gössler. “CoSyMA: a tool for controller synthesis using multi-scale abstractions”. In: HSCC. ACM. 2013, pp. 83–88.\n",
    "3. A. Girard. “Controller synthesis for safety and reachability via approximate bisimulation”. In: Automatica 48.5 (2012), pp. 947–953.\n",
    "4. G. Reissig, A. Weber and M. Rungger, \"Feedback Refinement Relations for the Synthesis of Symbolic Controllers,\" in IEEE Transactions on Automatic Control, vol. 62, no. 4, pp. 1781-1796."
   ],
   "metadata": {}
  },
  {
   "cell_type": "markdown",
   "source": [
    "---\n",
    "\n",
    "*This notebook was generated using [Literate.jl](https://github.com/fredrikekre/Literate.jl).*"
   ],
   "metadata": {}
  }
 ],
 "nbformat_minor": 3,
 "metadata": {
  "language_info": {
   "file_extension": ".jl",
   "mimetype": "application/julia",
   "name": "julia",
   "version": "1.7.3"
  },
  "kernelspec": {
   "name": "julia-1.7",
   "display_name": "Julia 1.7.3",
   "language": "julia"
  }
 },
 "nbformat": 4
}
