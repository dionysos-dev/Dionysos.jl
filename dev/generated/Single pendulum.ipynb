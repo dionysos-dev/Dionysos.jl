{
 "cells": [
  {
   "cell_type": "markdown",
   "source": [
    "# Example: Single Pendulum solved by [Uniform grid abstraction](https://github.com/dionysos-dev/Dionysos.jl/blob/master/docs/src/manual/manual.md#solvers).\n",
    "\n",
    "A simple pendulum is a typical example of a nonlinear dynamical system.\n",
    "The pendulum's state is represented by its angular position ($x_1$ in radians) and angular velocity ($x_2$ in radians per second), and it is influenced by\n",
    "gravitational forces ($g$ in meter per squared second), the length of the pendulum ($l$ in meter) and an external control input ($u$) that is a torque/force applied to modulate its behavior.\n",
    "The objective is to drive the pendulum from a specified initial state (near the stable downward position)\n",
    "to a target state (near the upright position), respecting constraints on both the state variables and the control input.\n",
    "\n",
    "The dynamics of the pendulum are given by:\n",
    "$$\n",
    "\\begin{align}\n",
    "\\dot{x}_1 & = x_2\\\\\n",
    "\\dot{x}_2 & = -\\frac{g}{l} \\sin(x_1) + u\n",
    "\\end{align}\n",
    "$$\n",
    "\n",
    "Considering this as a reachability problem, we will use it to showcase the capabilities of the Uniform grid abstraction solving typical problem in Dionysos.\n",
    "The initial and target sets are defined as intervals in the state space.\n",
    "\n",
    "$$\n",
    "\\begin{align}\n",
    "x_{1,\\text{initial}} & = \\frac{5.0 × \\pi}{180.0}[-1.0, 1.0]\\\\\n",
    "x_{2,\\text{initial}} & = 0.5 × [-1.0, 1.0]\\\\\n",
    "x_{1,\\text{target}} & = \\pi + \\frac{5.0 × \\pi}{180.0}[-1.0, 1.0]\\\\\n",
    "x_{2,\\text{target}} & = [-1.0, 1.0]\n",
    "\\end{align}\n",
    "$$"
   ],
   "metadata": {}
  },
  {
   "cell_type": "markdown",
   "source": [
    "First, let us import [StaticArrays](https://github.com/JuliaArrays/StaticArrays.jl) and [Plots](https://github.com/JuliaPlots/Plots.jl)."
   ],
   "metadata": {}
  },
  {
   "outputs": [],
   "cell_type": "code",
   "source": [
    "using StaticArrays, Plots"
   ],
   "metadata": {},
   "execution_count": 1
  },
  {
   "cell_type": "markdown",
   "source": [
    "At this point, we import Dionysos and JuMP."
   ],
   "metadata": {}
  },
  {
   "outputs": [],
   "cell_type": "code",
   "source": [
    "using Dionysos, JuMP"
   ],
   "metadata": {},
   "execution_count": 2
  },
  {
   "cell_type": "markdown",
   "source": [
    "Define the problem using JuMP\n",
    "We first create a JuMP model:"
   ],
   "metadata": {}
  },
  {
   "outputs": [
    {
     "output_type": "execute_result",
     "data": {
      "text/plain": "A JuMP Model\n├ solver: unknown\n├ objective_sense: FEASIBILITY_SENSE\n├ num_variables: 0\n├ num_constraints: 0\n└ Names registered in the model: none"
     },
     "metadata": {},
     "execution_count": 3
    }
   ],
   "cell_type": "code",
   "source": [
    "model = Model(Dionysos.Optimizer)"
   ],
   "metadata": {},
   "execution_count": 3
  },
  {
   "cell_type": "markdown",
   "source": [
    "Define the discretization step"
   ],
   "metadata": {}
  },
  {
   "outputs": [
    {
     "output_type": "execute_result",
     "data": {
      "text/plain": "9.81"
     },
     "metadata": {},
     "execution_count": 4
    }
   ],
   "cell_type": "code",
   "source": [
    "hx = 0.05\n",
    "l = 1.0\n",
    "g = 9.81"
   ],
   "metadata": {},
   "execution_count": 4
  },
  {
   "cell_type": "markdown",
   "source": [
    "Define the state variables: x1(t), x2(t)"
   ],
   "metadata": {}
  },
  {
   "outputs": [],
   "cell_type": "code",
   "source": [
    "x_low, x_upp = [-π, -10.0], [π + pi, 10.0]\n",
    "@variable(model, x_low[i] <= x[i = 1:2] <= x_upp[i])\n",
    "nothing #hide"
   ],
   "metadata": {},
   "execution_count": 5
  },
  {
   "cell_type": "markdown",
   "source": [
    "Define the control variables: $u_1(t)$, $u_2(t)$"
   ],
   "metadata": {}
  },
  {
   "outputs": [
    {
     "output_type": "execute_result",
     "data": {
      "text/plain": "u",
      "text/latex": "$ u $"
     },
     "metadata": {},
     "execution_count": 6
    }
   ],
   "cell_type": "code",
   "source": [
    "@variable(model, -3.0 <= u <= 3.0)"
   ],
   "metadata": {},
   "execution_count": 6
  },
  {
   "cell_type": "markdown",
   "source": [
    "Define the dynamics"
   ],
   "metadata": {}
  },
  {
   "outputs": [
    {
     "output_type": "execute_result",
     "data": {
      "text/plain": "∂(x[2]) - ((-9.81 * sin(x[1])) + u) = 0",
      "text/latex": "$$ {\\textsf{∂}\\left({x_{2}}\\right)} - {\\left({\\left({-9.81} * {\\textsf{sin}\\left({x_{1}}\\right)}\\right)} + {u}\\right)} = 0 $$"
     },
     "metadata": {},
     "execution_count": 7
    }
   ],
   "cell_type": "code",
   "source": [
    "@constraint(model, ∂(x[1]) == x[2])\n",
    "@constraint(model, ∂(x[2]) == -(g / l) * sin(x[1]) + u)"
   ],
   "metadata": {},
   "execution_count": 7
  },
  {
   "cell_type": "markdown",
   "source": [
    "Define the initial and target sets"
   ],
   "metadata": {}
  },
  {
   "outputs": [
    {
     "output_type": "execute_result",
     "data": {
      "text/plain": "final(x[2]) ∈ [-1, 1]",
      "text/latex": "$$ \\textsf{final}\\left({x_{2}}\\right) \\in [-1, 1] $$"
     },
     "metadata": {},
     "execution_count": 8
    }
   ],
   "cell_type": "code",
   "source": [
    "x1_initial, x2_initial = (5.0 * pi / 180.0) .* [-1, 1], 0.5 .* [-1, 1]\n",
    "x1_target, x2_target = pi .+ (5.0 * pi / 180.0) .* [-1, 1], 1.0 .* [-1, 1]\n",
    "\n",
    "@constraint(model, start(x[1]) in MOI.Interval(x1_initial...))\n",
    "@constraint(model, start(x[2]) in MOI.Interval(x2_initial...))\n",
    "\n",
    "@constraint(model, final(x[1]) in MOI.Interval(x1_target...))\n",
    "@constraint(model, final(x[2]) in MOI.Interval(x2_target...))"
   ],
   "metadata": {},
   "execution_count": 8
  },
  {
   "cell_type": "markdown",
   "source": [
    "### Definition of the abstraction"
   ],
   "metadata": {}
  },
  {
   "cell_type": "markdown",
   "source": [
    "Definition of the grid of the state-space on which the abstraction is based (origin `x0` and state-space discretization `h`):"
   ],
   "metadata": {}
  },
  {
   "cell_type": "markdown",
   "source": [
    "We define the growth bound function of $f$:"
   ],
   "metadata": {}
  },
  {
   "outputs": [],
   "cell_type": "code",
   "source": [
    "function jacobian_bound(u)\n",
    "    return SMatrix{2, 2}(0.0, 1.0, (g / l), 0)\n",
    "end\n",
    "set_attribute(model, \"jacobian_bound\", jacobian_bound)\n",
    "\n",
    "set_attribute(model, \"time_step\", 0.1)\n",
    "\n",
    "x0 = SVector(0.0, 0.0);\n",
    "h = SVector(hx, hx);\n",
    "set_attribute(model, \"state_grid\", Dionysos.Domain.GridFree(x0, h))"
   ],
   "metadata": {},
   "execution_count": 9
  },
  {
   "cell_type": "markdown",
   "source": [
    "Definition of the grid of the input-space on which the abstraction is based (origin `u0` and input-space discretization `h`):"
   ],
   "metadata": {}
  },
  {
   "outputs": [],
   "cell_type": "code",
   "source": [
    "u0 = SVector(0.0);\n",
    "h = SVector(0.3);\n",
    "set_attribute(model, \"input_grid\", Dionysos.Domain.GridFree(u0, h))"
   ],
   "metadata": {},
   "execution_count": 10
  },
  {
   "cell_type": "markdown",
   "source": [
    "Solving the problem"
   ],
   "metadata": {}
  },
  {
   "outputs": [
    {
     "name": "stdout",
     "output_type": "stream",
     "text": [
      ">>Setting up the model\n",
      ">>Model setup complete\n",
      "┌ Warning: Noise is not yet accounted for in system abstraction.\n",
      "└ @ Dionysos.Optim.Abstraction.UniformGridAbstraction ~/.julia/packages/Dionysos/2ZeUN/src/optim/abstraction/UniformGridAbstraction/empty_problem.jl:393\n",
      "compute_abstract_system_from_concrete_system!: started with Dionysos.System.DiscreteTimeGrowthBound\n",
      "compute_abstract_system_from_concrete_system! terminated with success: 9402115 transitions created\n",
      "┌ Warning: The `state_cost` is not yet fully implemented\n",
      "└ @ Dionysos.Optim.Abstraction.UniformGridAbstraction ~/.julia/packages/Dionysos/2ZeUN/src/optim/abstraction/UniformGridAbstraction/optimal_control_problem.jl:226\n",
      "compute_controller_reachability! started\n",
      "\n",
      " Reachability: terminated with true\n"
     ]
    }
   ],
   "cell_type": "code",
   "source": [
    "optimize!(model)"
   ],
   "metadata": {},
   "execution_count": 11
  },
  {
   "cell_type": "markdown",
   "source": [
    "Get the results"
   ],
   "metadata": {}
  },
  {
   "outputs": [],
   "cell_type": "code",
   "source": [
    "abstract_system = get_attribute(model, \"abstract_system\");\n",
    "abstract_problem = get_attribute(model, \"abstract_problem\");\n",
    "abstract_controller = get_attribute(model, \"abstract_controller\");\n",
    "concrete_controller = get_attribute(model, \"concrete_controller\")\n",
    "concrete_problem = get_attribute(model, \"concrete_problem\");\n",
    "concrete_system = concrete_problem.system;\n",
    "abstract_value_function = get_attribute(model, \"abstract_value_function\");"
   ],
   "metadata": {},
   "execution_count": 12
  },
  {
   "cell_type": "markdown",
   "source": [
    "### Trajectory display"
   ],
   "metadata": {}
  },
  {
   "outputs": [],
   "cell_type": "code",
   "source": [
    "nstep = 100\n",
    "function reached(x)\n",
    "    if x ∈ concrete_problem.target_set\n",
    "        return true\n",
    "    else\n",
    "        return false\n",
    "    end\n",
    "end\n",
    "x0 = SVector(Dionysos.Utils.sample(concrete_problem.initial_set)...)\n",
    "control_trajectory = Dionysos.System.get_closed_loop_trajectory(\n",
    "    get_attribute(model, \"discrete_time_system\"),\n",
    "    concrete_controller,\n",
    "    x0,\n",
    "    nstep;\n",
    "    stopping = reached,\n",
    ")\n",
    "\n",
    "using Plots"
   ],
   "metadata": {},
   "execution_count": 13
  },
  {
   "cell_type": "markdown",
   "source": [
    "Here we display the coordinate projection on the two first components of the state space along the trajectory."
   ],
   "metadata": {}
  },
  {
   "outputs": [],
   "cell_type": "code",
   "source": [
    "fig = plot(; aspect_ratio = :equal);"
   ],
   "metadata": {},
   "execution_count": 14
  },
  {
   "cell_type": "markdown",
   "source": [
    "We display the concrete domain"
   ],
   "metadata": {}
  },
  {
   "outputs": [],
   "cell_type": "code",
   "source": [
    "plot!(concrete_system.X; color = :grey, label = \"\");"
   ],
   "metadata": {},
   "execution_count": 15
  },
  {
   "cell_type": "markdown",
   "source": [
    "We display the specifications"
   ],
   "metadata": {}
  },
  {
   "outputs": [
    {
     "output_type": "execute_result",
     "data": {
      "text/plain": "Plot{Plots.GRBackend() n=142}",
      "image/png": "[encoded data removed]",
      "text/html": [
       "<img src=\"data:image/png;base64,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\" />"
      ],
      "image/svg+xml": [
       "<?xml version=\"1.0\" encoding=\"utf-8\"?>\n",
       "<svg xmlns=\"http://www.w3.org/2000/svg\" xmlns:xlink=\"http://www.w3.org/1999/xlink\" width=\"600\" height=\"400\" viewBox=\"0 0 2400 1600\">\n",
       "<defs>\n",
       "  <clipPath id=\"clip420\">\n",
       "    <rect x=\"0\" y=\"0\" width=\"2400\" height=\"1600\"/>\n",
       "  </clipPath>\n",
       "</defs>\n",
       "<path clip-path=\"url(#clip420)\" d=\"M0 1600 L2400 1600 L2400 0 L0 0  Z\" fill=\"#ffffff\" fill-rule=\"evenodd\" fill-opacity=\"1\"/>\n",
       "<defs>\n",
       "  <clipPath id=\"clip421\">\n",
       "    <rect x=\"480\" y=\"0\" width=\"1681\" height=\"1600\"/>\n",
       "  </clipPath>\n",
       "</defs>\n",
       "<path clip-path=\"url(#clip420)\" d=\"M178.867 1486.45 L2352.76 1486.45 L2352.76 47.2441 L178.867 47.2441  Z\" fill=\"#ffffff\" fill-rule=\"evenodd\" fill-opacity=\"1\"/>\n",
       "<defs>\n",
       "  <clipPath id=\"clip422\">\n",
       "    <rect x=\"178\" y=\"47\" width=\"2175\" height=\"1440\"/>\n",
       "  </clipPath>\n",
       "</defs>\n",
       "<polyline clip-path=\"url(#clip422)\" style=\"stroke:#000000; stroke-linecap:round; stroke-linejoin:round; stroke-width:2; stroke-opacity:0.1; fill:none\" points=\"480.305,1486.45 480.305,47.2441 \"/>\n",
       "<polyline clip-path=\"url(#clip422)\" style=\"stroke:#000000; stroke-linecap:round; stroke-linejoin:round; stroke-width:2; stroke-opacity:0.1; fill:none\" points=\"819.74,1486.45 819.74,47.2441 \"/>\n",
       "<polyline clip-path=\"url(#clip422)\" style=\"stroke:#000000; stroke-linecap:round; stroke-linejoin:round; stroke-width:2; stroke-opacity:0.1; fill:none\" points=\"1159.17,1486.45 1159.17,47.2441 \"/>\n",
       "<polyline clip-path=\"url(#clip422)\" style=\"stroke:#000000; stroke-linecap:round; stroke-linejoin:round; stroke-width:2; stroke-opacity:0.1; fill:none\" points=\"1498.61,1486.45 1498.61,47.2441 \"/>\n",
       "<polyline clip-path=\"url(#clip422)\" style=\"stroke:#000000; stroke-linecap:round; stroke-linejoin:round; stroke-width:2; stroke-opacity:0.1; fill:none\" points=\"1838.04,1486.45 1838.04,47.2441 \"/>\n",
       "<polyline clip-path=\"url(#clip422)\" style=\"stroke:#000000; stroke-linecap:round; stroke-linejoin:round; stroke-width:2; stroke-opacity:0.1; fill:none\" points=\"2177.48,1486.45 2177.48,47.2441 \"/>\n",
       "<polyline clip-path=\"url(#clip422)\" style=\"stroke:#000000; stroke-linecap:round; stroke-linejoin:round; stroke-width:2; stroke-opacity:0.1; fill:none\" points=\"178.867,1445.72 2352.76,1445.72 \"/>\n",
       "<polyline clip-path=\"url(#clip422)\" style=\"stroke:#000000; stroke-linecap:round; stroke-linejoin:round; stroke-width:2; stroke-opacity:0.1; fill:none\" points=\"178.867,1106.28 2352.76,1106.28 \"/>\n",
       "<polyline clip-path=\"url(#clip422)\" style=\"stroke:#000000; stroke-linecap:round; stroke-linejoin:round; stroke-width:2; stroke-opacity:0.1; fill:none\" points=\"178.867,766.846 2352.76,766.846 \"/>\n",
       "<polyline clip-path=\"url(#clip422)\" style=\"stroke:#000000; stroke-linecap:round; stroke-linejoin:round; stroke-width:2; stroke-opacity:0.1; fill:none\" points=\"178.867,427.411 2352.76,427.411 \"/>\n",
       "<polyline clip-path=\"url(#clip422)\" style=\"stroke:#000000; stroke-linecap:round; stroke-linejoin:round; stroke-width:2; stroke-opacity:0.1; fill:none\" points=\"178.867,87.9763 2352.76,87.9763 \"/>\n",
       "<polyline clip-path=\"url(#clip420)\" style=\"stroke:#000000; stroke-linecap:round; stroke-linejoin:round; stroke-width:4; stroke-opacity:1; fill:none\" points=\"178.867,1486.45 2352.76,1486.45 \"/>\n",
       "<polyline clip-path=\"url(#clip420)\" style=\"stroke:#000000; stroke-linecap:round; stroke-linejoin:round; stroke-width:4; stroke-opacity:1; fill:none\" points=\"480.305,1486.45 480.305,1467.55 \"/>\n",
       "<polyline clip-path=\"url(#clip420)\" style=\"stroke:#000000; stroke-linecap:round; stroke-linejoin:round; stroke-width:4; stroke-opacity:1; fill:none\" points=\"819.74,1486.45 819.74,1467.55 \"/>\n",
       "<polyline clip-path=\"url(#clip420)\" style=\"stroke:#000000; stroke-linecap:round; stroke-linejoin:round; stroke-width:4; stroke-opacity:1; fill:none\" points=\"1159.17,1486.45 1159.17,1467.55 \"/>\n",
       "<polyline clip-path=\"url(#clip420)\" style=\"stroke:#000000; stroke-linecap:round; stroke-linejoin:round; stroke-width:4; stroke-opacity:1; fill:none\" points=\"1498.61,1486.45 1498.61,1467.55 \"/>\n",
       "<polyline clip-path=\"url(#clip420)\" style=\"stroke:#000000; stroke-linecap:round; stroke-linejoin:round; stroke-width:4; stroke-opacity:1; fill:none\" points=\"1838.04,1486.45 1838.04,1467.55 \"/>\n",
       "<polyline clip-path=\"url(#clip420)\" style=\"stroke:#000000; stroke-linecap:round; stroke-linejoin:round; stroke-width:4; stroke-opacity:1; fill:none\" points=\"2177.48,1486.45 2177.48,1467.55 \"/>\n",
       "<path clip-path=\"url(#clip420)\" d=\"M434.368 1532.02 L464.043 1532.02 L464.043 1535.95 L434.368 1535.95 L434.368 1532.02 Z\" fill=\"#000000\" fill-rule=\"nonzero\" fill-opacity=\"1\" /><path clip-path=\"url(#clip420)\" d=\"M474.946 1544.91 L482.585 1544.91 L482.585 1518.55 L474.275 1520.21 L474.275 1515.95 L482.539 1514.29 L487.215 1514.29 L487.215 1544.91 L494.853 1544.91 L494.853 1548.85 L474.946 1548.85 L474.946 1544.91 Z\" fill=\"#000000\" fill-rule=\"nonzero\" fill-opacity=\"1\" /><path clip-path=\"url(#clip420)\" d=\"M514.298 1517.37 Q510.687 1517.37 508.858 1520.93 Q507.052 1524.47 507.052 1531.6 Q507.052 1538.71 508.858 1542.27 Q510.687 1545.82 514.298 1545.82 Q517.932 1545.82 519.738 1542.27 Q521.566 1538.71 521.566 1531.6 Q521.566 1524.47 519.738 1520.93 Q517.932 1517.37 514.298 1517.37 M514.298 1513.66 Q520.108 1513.66 523.164 1518.27 Q526.242 1522.85 526.242 1531.6 Q526.242 1540.33 523.164 1544.94 Q520.108 1549.52 514.298 1549.52 Q508.488 1549.52 505.409 1544.94 Q502.353 1540.33 502.353 1531.6 Q502.353 1522.85 505.409 1518.27 Q508.488 1513.66 514.298 1513.66 Z\" fill=\"#000000\" fill-rule=\"nonzero\" fill-opacity=\"1\" /><path clip-path=\"url(#clip420)\" d=\"M789.381 1532.02 L819.057 1532.02 L819.057 1535.95 L789.381 1535.95 L789.381 1532.02 Z\" fill=\"#000000\" fill-rule=\"nonzero\" fill-opacity=\"1\" /><path clip-path=\"url(#clip420)\" d=\"M829.196 1514.29 L847.552 1514.29 L847.552 1518.22 L833.478 1518.22 L833.478 1526.7 Q834.497 1526.35 835.515 1526.19 Q836.534 1526 837.552 1526 Q843.339 1526 846.719 1529.17 Q850.098 1532.34 850.098 1537.76 Q850.098 1543.34 846.626 1546.44 Q843.154 1549.52 836.835 1549.52 Q834.659 1549.52 832.39 1549.15 Q830.145 1548.78 827.737 1548.04 L827.737 1543.34 Q829.821 1544.47 832.043 1545.03 Q834.265 1545.58 836.742 1545.58 Q840.747 1545.58 843.085 1543.48 Q845.423 1541.37 845.423 1537.76 Q845.423 1534.15 843.085 1532.04 Q840.747 1529.94 836.742 1529.94 Q834.867 1529.94 832.992 1530.35 Q831.14 1530.77 829.196 1531.65 L829.196 1514.29 Z\" fill=\"#000000\" fill-rule=\"nonzero\" fill-opacity=\"1\" /><path clip-path=\"url(#clip420)\" d=\"M1159.17 1517.37 Q1155.56 1517.37 1153.73 1520.93 Q1151.93 1524.47 1151.93 1531.6 Q1151.93 1538.71 1153.73 1542.27 Q1155.56 1545.82 1159.17 1545.82 Q1162.81 1545.82 1164.61 1542.27 Q1166.44 1538.71 1166.44 1531.6 Q1166.44 1524.47 1164.61 1520.93 Q1162.81 1517.37 1159.17 1517.37 M1159.17 1513.66 Q1164.98 1513.66 1168.04 1518.27 Q1171.12 1522.85 1171.12 1531.6 Q1171.12 1540.33 1168.04 1544.94 Q1164.98 1549.52 1159.17 1549.52 Q1153.36 1549.52 1150.29 1544.94 Q1147.23 1540.33 1147.23 1531.6 Q1147.23 1522.85 1150.29 1518.27 Q1153.36 1513.66 1159.17 1513.66 Z\" fill=\"#000000\" fill-rule=\"nonzero\" fill-opacity=\"1\" /><path clip-path=\"url(#clip420)\" d=\"M1488.89 1514.29 L1507.24 1514.29 L1507.24 1518.22 L1493.17 1518.22 L1493.17 1526.7 Q1494.19 1526.35 1495.21 1526.19 Q1496.23 1526 1497.24 1526 Q1503.03 1526 1506.41 1529.17 Q1509.79 1532.34 1509.79 1537.76 Q1509.79 1543.34 1506.32 1546.44 Q1502.85 1549.52 1496.53 1549.52 Q1494.35 1549.52 1492.08 1549.15 Q1489.84 1548.78 1487.43 1548.04 L1487.43 1543.34 Q1489.51 1544.47 1491.73 1545.03 Q1493.96 1545.58 1496.43 1545.58 Q1500.44 1545.58 1502.78 1543.48 Q1505.11 1541.37 1505.11 1537.76 Q1505.11 1534.15 1502.78 1532.04 Q1500.44 1529.94 1496.43 1529.94 Q1494.56 1529.94 1492.68 1530.35 Q1490.83 1530.77 1488.89 1531.65 L1488.89 1514.29 Z\" fill=\"#000000\" fill-rule=\"nonzero\" fill-opacity=\"1\" /><path clip-path=\"url(#clip420)\" d=\"M1812.73 1544.91 L1820.37 1544.91 L1820.37 1518.55 L1812.06 1520.21 L1812.06 1515.95 L1820.32 1514.29 L1825 1514.29 L1825 1544.91 L1832.64 1544.91 L1832.64 1548.85 L1812.73 1548.85 L1812.73 1544.91 Z\" fill=\"#000000\" fill-rule=\"nonzero\" fill-opacity=\"1\" /><path clip-path=\"url(#clip420)\" d=\"M1852.08 1517.37 Q1848.47 1517.37 1846.64 1520.93 Q1844.84 1524.47 1844.84 1531.6 Q1844.84 1538.71 1846.64 1542.27 Q1848.47 1545.82 1852.08 1545.82 Q1855.72 1545.82 1857.52 1542.27 Q1859.35 1538.71 1859.35 1531.6 Q1859.35 1524.47 1857.52 1520.93 Q1855.72 1517.37 1852.08 1517.37 M1852.08 1513.66 Q1857.89 1513.66 1860.95 1518.27 Q1864.03 1522.85 1864.03 1531.6 Q1864.03 1540.33 1860.95 1544.94 Q1857.89 1549.52 1852.08 1549.52 Q1846.27 1549.52 1843.19 1544.94 Q1840.14 1540.33 1840.14 1531.6 Q1840.14 1522.85 1843.19 1518.27 Q1846.27 1513.66 1852.08 1513.66 Z\" fill=\"#000000\" fill-rule=\"nonzero\" fill-opacity=\"1\" /><path clip-path=\"url(#clip420)\" d=\"M2152.66 1544.91 L2160.3 1544.91 L2160.3 1518.55 L2151.99 1520.21 L2151.99 1515.95 L2160.26 1514.29 L2164.93 1514.29 L2164.93 1544.91 L2172.57 1544.91 L2172.57 1548.85 L2152.66 1548.85 L2152.66 1544.91 Z\" fill=\"#000000\" fill-rule=\"nonzero\" fill-opacity=\"1\" /><path clip-path=\"url(#clip420)\" d=\"M2182.06 1514.29 L2200.42 1514.29 L2200.42 1518.22 L2186.34 1518.22 L2186.34 1526.7 Q2187.36 1526.35 2188.38 1526.19 Q2189.4 1526 2190.42 1526 Q2196.21 1526 2199.59 1529.17 Q2202.97 1532.34 2202.97 1537.76 Q2202.97 1543.34 2199.49 1546.44 Q2196.02 1549.52 2189.7 1549.52 Q2187.53 1549.52 2185.26 1549.15 Q2183.01 1548.78 2180.6 1548.04 L2180.6 1543.34 Q2182.69 1544.47 2184.91 1545.03 Q2187.13 1545.58 2189.61 1545.58 Q2193.61 1545.58 2195.95 1543.48 Q2198.29 1541.37 2198.29 1537.76 Q2198.29 1534.15 2195.95 1532.04 Q2193.61 1529.94 2189.61 1529.94 Q2187.73 1529.94 2185.86 1530.35 Q2184.01 1530.77 2182.06 1531.65 L2182.06 1514.29 Z\" fill=\"#000000\" fill-rule=\"nonzero\" fill-opacity=\"1\" /><polyline clip-path=\"url(#clip420)\" style=\"stroke:#000000; stroke-linecap:round; stroke-linejoin:round; stroke-width:4; stroke-opacity:1; fill:none\" points=\"178.867,1486.45 178.867,47.2441 \"/>\n",
       "<polyline clip-path=\"url(#clip420)\" style=\"stroke:#000000; stroke-linecap:round; stroke-linejoin:round; stroke-width:4; stroke-opacity:1; fill:none\" points=\"178.867,1445.72 197.764,1445.72 \"/>\n",
       "<polyline clip-path=\"url(#clip420)\" style=\"stroke:#000000; stroke-linecap:round; stroke-linejoin:round; stroke-width:4; stroke-opacity:1; fill:none\" points=\"178.867,1106.28 197.764,1106.28 \"/>\n",
       "<polyline clip-path=\"url(#clip420)\" style=\"stroke:#000000; stroke-linecap:round; stroke-linejoin:round; stroke-width:4; stroke-opacity:1; fill:none\" points=\"178.867,766.846 197.764,766.846 \"/>\n",
       "<polyline clip-path=\"url(#clip420)\" style=\"stroke:#000000; stroke-linecap:round; stroke-linejoin:round; stroke-width:4; stroke-opacity:1; fill:none\" points=\"178.867,427.411 197.764,427.411 \"/>\n",
       "<polyline clip-path=\"url(#clip420)\" style=\"stroke:#000000; stroke-linecap:round; stroke-linejoin:round; stroke-width:4; stroke-opacity:1; fill:none\" points=\"178.867,87.9763 197.764,87.9763 \"/>\n",
       "<path clip-path=\"url(#clip420)\" d=\"M50.9921 1446.17 L80.6679 1446.17 L80.6679 1450.1 L50.9921 1450.1 L50.9921 1446.17 Z\" fill=\"#000000\" fill-rule=\"nonzero\" fill-opacity=\"1\" /><path clip-path=\"url(#clip420)\" d=\"M91.5706 1459.06 L99.2095 1459.06 L99.2095 1432.69 L90.8993 1434.36 L90.8993 1430.1 L99.1632 1428.44 L103.839 1428.44 L103.839 1459.06 L111.478 1459.06 L111.478 1463 L91.5706 1463 L91.5706 1459.06 Z\" fill=\"#000000\" fill-rule=\"nonzero\" fill-opacity=\"1\" /><path clip-path=\"url(#clip420)\" d=\"M130.922 1431.51 Q127.311 1431.51 125.482 1435.08 Q123.677 1438.62 123.677 1445.75 Q123.677 1452.86 125.482 1456.42 Q127.311 1459.96 130.922 1459.96 Q134.556 1459.96 136.362 1456.42 Q138.191 1452.86 138.191 1445.75 Q138.191 1438.62 136.362 1435.08 Q134.556 1431.51 130.922 1431.51 M130.922 1427.81 Q136.732 1427.81 139.788 1432.42 Q142.867 1437 142.867 1445.75 Q142.867 1454.48 139.788 1459.08 Q136.732 1463.67 130.922 1463.67 Q125.112 1463.67 122.033 1459.08 Q118.978 1454.48 118.978 1445.75 Q118.978 1437 122.033 1432.42 Q125.112 1427.81 130.922 1427.81 Z\" fill=\"#000000\" fill-rule=\"nonzero\" fill-opacity=\"1\" /><path clip-path=\"url(#clip420)\" d=\"M82.1494 1106.73 L111.825 1106.73 L111.825 1110.67 L82.1494 1110.67 L82.1494 1106.73 Z\" fill=\"#000000\" fill-rule=\"nonzero\" fill-opacity=\"1\" /><path clip-path=\"url(#clip420)\" d=\"M121.964 1089 L140.32 1089 L140.32 1092.94 L126.246 1092.94 L126.246 1101.41 Q127.265 1101.06 128.283 1100.9 Q129.302 1100.71 130.32 1100.71 Q136.107 1100.71 139.487 1103.89 Q142.867 1107.06 142.867 1112.47 Q142.867 1118.05 139.394 1121.15 Q135.922 1124.23 129.603 1124.23 Q127.427 1124.23 125.158 1123.86 Q122.913 1123.49 120.506 1122.75 L120.506 1118.05 Q122.589 1119.19 124.811 1119.74 Q127.033 1120.3 129.51 1120.3 Q133.515 1120.3 135.853 1118.19 Q138.191 1116.08 138.191 1112.47 Q138.191 1108.86 135.853 1106.76 Q133.515 1104.65 129.51 1104.65 Q127.635 1104.65 125.76 1105.07 Q123.908 1105.48 121.964 1106.36 L121.964 1089 Z\" fill=\"#000000\" fill-rule=\"nonzero\" fill-opacity=\"1\" /><path clip-path=\"url(#clip420)\" d=\"M130.922 752.645 Q127.311 752.645 125.482 756.209 Q123.677 759.751 123.677 766.881 Q123.677 773.987 125.482 777.552 Q127.311 781.094 130.922 781.094 Q134.556 781.094 136.362 777.552 Q138.191 773.987 138.191 766.881 Q138.191 759.751 136.362 756.209 Q134.556 752.645 130.922 752.645 M130.922 748.941 Q136.732 748.941 139.788 753.547 Q142.867 758.131 142.867 766.881 Q142.867 775.608 139.788 780.214 Q136.732 784.797 130.922 784.797 Q125.112 784.797 122.033 780.214 Q118.978 775.608 118.978 766.881 Q118.978 758.131 122.033 753.547 Q125.112 748.941 130.922 748.941 Z\" fill=\"#000000\" fill-rule=\"nonzero\" fill-opacity=\"1\" /><path clip-path=\"url(#clip420)\" d=\"M121.964 410.131 L140.32 410.131 L140.32 414.066 L126.246 414.066 L126.246 422.538 Q127.265 422.191 128.283 422.029 Q129.302 421.844 130.32 421.844 Q136.107 421.844 139.487 425.015 Q142.867 428.187 142.867 433.603 Q142.867 439.182 139.394 442.284 Q135.922 445.362 129.603 445.362 Q127.427 445.362 125.158 444.992 Q122.913 444.622 120.506 443.881 L120.506 439.182 Q122.589 440.316 124.811 440.872 Q127.033 441.427 129.51 441.427 Q133.515 441.427 135.853 439.321 Q138.191 437.214 138.191 433.603 Q138.191 429.992 135.853 427.886 Q133.515 425.779 129.51 425.779 Q127.635 425.779 125.76 426.196 Q123.908 426.613 121.964 427.492 L121.964 410.131 Z\" fill=\"#000000\" fill-rule=\"nonzero\" fill-opacity=\"1\" /><path clip-path=\"url(#clip420)\" d=\"M91.5706 101.321 L99.2095 101.321 L99.2095 74.9555 L90.8993 76.6222 L90.8993 72.3629 L99.1632 70.6963 L103.839 70.6963 L103.839 101.321 L111.478 101.321 L111.478 105.256 L91.5706 105.256 L91.5706 101.321 Z\" fill=\"#000000\" fill-rule=\"nonzero\" fill-opacity=\"1\" /><path clip-path=\"url(#clip420)\" d=\"M130.922 73.775 Q127.311 73.775 125.482 77.3398 Q123.677 80.8814 123.677 88.011 Q123.677 95.1174 125.482 98.6822 Q127.311 102.224 130.922 102.224 Q134.556 102.224 136.362 98.6822 Q138.191 95.1174 138.191 88.011 Q138.191 80.8814 136.362 77.3398 Q134.556 73.775 130.922 73.775 M130.922 70.0713 Q136.732 70.0713 139.788 74.6777 Q142.867 79.261 142.867 88.011 Q142.867 96.7378 139.788 101.344 Q136.732 105.928 130.922 105.928 Q125.112 105.928 122.033 101.344 Q118.978 96.7378 118.978 88.011 Q118.978 79.261 122.033 74.6777 Q125.112 70.0713 130.922 70.0713 Z\" fill=\"#000000\" fill-rule=\"nonzero\" fill-opacity=\"1\" /><path clip-path=\"url(#clip422)\" d=\"M945.901 1445.72 L1585.72 1445.72 L1585.72 87.9763 L945.901 87.9763 L945.901 1445.72 L945.901 1445.72  Z\" fill=\"#808080\" fill-rule=\"evenodd\" fill-opacity=\"1\"/>\n",
       "<polyline clip-path=\"url(#clip422)\" style=\"stroke:#000000; stroke-linecap:round; stroke-linejoin:round; stroke-width:4; stroke-opacity:1; fill:none\" points=\"945.901,1445.72 1585.72,1445.72 1585.72,87.9763 945.901,87.9763 945.901,1445.72 \"/>\n",
       "<path clip-path=\"url(#clip422)\" d=\"M1153.25 800.789 L1165.1 800.789 L1165.1 732.902 L1153.25 732.902 L1153.25 800.789 L1153.25 800.789  Z\" fill=\"#008000\" fill-rule=\"evenodd\" fill-opacity=\"1\"/>\n",
       "<polyline clip-path=\"url(#clip422)\" style=\"stroke:#000000; stroke-linecap:round; stroke-linejoin:round; stroke-width:4; stroke-opacity:1; fill:none\" points=\"1153.25,800.789 1165.1,800.789 1165.1,732.902 1153.25,732.902 1153.25,800.789 \"/>\n",
       "<path clip-path=\"url(#clip422)\" d=\"M1366.52 834.733 L1378.37 834.733 L1378.37 698.959 L1366.52 698.959 L1366.52 834.733 L1366.52 834.733  Z\" fill=\"#ff0000\" fill-rule=\"evenodd\" fill-opacity=\"1\"/>\n",
       "<polyline clip-path=\"url(#clip422)\" style=\"stroke:#000000; stroke-linecap:round; stroke-linejoin:round; stroke-width:4; stroke-opacity:1; fill:none\" points=\"1366.52,834.733 1378.37,834.733 1378.37,698.959 1366.52,698.959 1366.52,834.733 \"/>\n",
       "<circle clip-path=\"url(#clip422)\" cx=\"1159.34\" cy=\"749.303\" r=\"3.6\" fill=\"#000000\" fill-rule=\"evenodd\" fill-opacity=\"1\" stroke=\"none\"/>\n",
       "<polyline clip-path=\"url(#clip422)\" style=\"stroke:#000000; stroke-linecap:round; stroke-linejoin:round; stroke-width:4; stroke-opacity:1; fill:none\" points=\"1158.62,770.029 1159.34,749.303 \"/>\n",
       "<circle clip-path=\"url(#clip422)\" cx=\"1158.62\" cy=\"770.029\" r=\"3.6\" fill=\"#000000\" fill-rule=\"evenodd\" fill-opacity=\"0\" stroke=\"none\"/>\n",
       "<circle clip-path=\"url(#clip422)\" cx=\"1159.34\" cy=\"749.303\" r=\"3.6\" fill=\"#000000\" fill-rule=\"evenodd\" fill-opacity=\"0\" stroke=\"none\"/>\n",
       "<circle clip-path=\"url(#clip422)\" cx=\"1162.07\" cy=\"730.284\" r=\"3.6\" fill=\"#000000\" fill-rule=\"evenodd\" fill-opacity=\"1\" stroke=\"none\"/>\n",
       "<polyline clip-path=\"url(#clip422)\" style=\"stroke:#000000; stroke-linecap:round; stroke-linejoin:round; stroke-width:4; stroke-opacity:1; fill:none\" points=\"1159.34,749.303 1162.07,730.284 \"/>\n",
       "<circle clip-path=\"url(#clip422)\" cx=\"1159.34\" cy=\"749.303\" r=\"3.6\" fill=\"#000000\" fill-rule=\"evenodd\" fill-opacity=\"0\" stroke=\"none\"/>\n",
       "<circle clip-path=\"url(#clip422)\" cx=\"1162.07\" cy=\"730.284\" r=\"3.6\" fill=\"#000000\" fill-rule=\"evenodd\" fill-opacity=\"0\" stroke=\"none\"/>\n",
       "<circle clip-path=\"url(#clip422)\" cx=\"1166.54\" cy=\"714.818\" r=\"3.6\" fill=\"#000000\" fill-rule=\"evenodd\" fill-opacity=\"1\" stroke=\"none\"/>\n",
       "<polyline clip-path=\"url(#clip422)\" style=\"stroke:#000000; stroke-linecap:round; stroke-linejoin:round; stroke-width:4; stroke-opacity:1; fill:none\" points=\"1162.07,730.284 1166.54,714.818 \"/>\n",
       "<circle clip-path=\"url(#clip422)\" cx=\"1162.07\" cy=\"730.284\" r=\"3.6\" fill=\"#000000\" fill-rule=\"evenodd\" fill-opacity=\"0\" stroke=\"none\"/>\n",
       "<circle clip-path=\"url(#clip422)\" cx=\"1166.54\" cy=\"714.818\" r=\"3.6\" fill=\"#000000\" fill-rule=\"evenodd\" fill-opacity=\"0\" stroke=\"none\"/>\n",
       "<circle clip-path=\"url(#clip422)\" cx=\"1172.31\" cy=\"704.379\" r=\"3.6\" fill=\"#000000\" fill-rule=\"evenodd\" fill-opacity=\"1\" stroke=\"none\"/>\n",
       "<polyline clip-path=\"url(#clip422)\" style=\"stroke:#000000; stroke-linecap:round; stroke-linejoin:round; stroke-width:4; stroke-opacity:1; fill:none\" points=\"1166.54,714.818 1172.31,704.379 \"/>\n",
       "<circle clip-path=\"url(#clip422)\" cx=\"1166.54\" cy=\"714.818\" r=\"3.6\" fill=\"#000000\" fill-rule=\"evenodd\" fill-opacity=\"0\" stroke=\"none\"/>\n",
       "<circle clip-path=\"url(#clip422)\" cx=\"1172.31\" cy=\"704.379\" r=\"3.6\" fill=\"#000000\" fill-rule=\"evenodd\" fill-opacity=\"0\" stroke=\"none\"/>\n",
       "<circle clip-path=\"url(#clip422)\" cx=\"1177.72\" cy=\"721.949\" r=\"3.6\" fill=\"#000000\" fill-rule=\"evenodd\" fill-opacity=\"1\" stroke=\"none\"/>\n",
       "<polyline clip-path=\"url(#clip422)\" style=\"stroke:#000000; stroke-linecap:round; stroke-linejoin:round; stroke-width:4; stroke-opacity:1; fill:none\" points=\"1172.31,704.379 1177.72,721.949 \"/>\n",
       "<circle clip-path=\"url(#clip422)\" cx=\"1172.31\" cy=\"704.379\" r=\"3.6\" fill=\"#000000\" fill-rule=\"evenodd\" fill-opacity=\"0\" stroke=\"none\"/>\n",
       "<circle clip-path=\"url(#clip422)\" cx=\"1177.72\" cy=\"721.949\" r=\"3.6\" fill=\"#000000\" fill-rule=\"evenodd\" fill-opacity=\"0\" stroke=\"none\"/>\n",
       "<circle clip-path=\"url(#clip422)\" cx=\"1180.24\" cy=\"761.779\" r=\"3.6\" fill=\"#000000\" fill-rule=\"evenodd\" fill-opacity=\"1\" stroke=\"none\"/>\n",
       "<polyline clip-path=\"url(#clip422)\" style=\"stroke:#000000; stroke-linecap:round; stroke-linejoin:round; stroke-width:4; stroke-opacity:1; fill:none\" points=\"1177.72,721.949 1180.24,761.779 \"/>\n",
       "<circle clip-path=\"url(#clip422)\" cx=\"1177.72\" cy=\"721.949\" r=\"3.6\" fill=\"#000000\" fill-rule=\"evenodd\" fill-opacity=\"0\" stroke=\"none\"/>\n",
       "<circle clip-path=\"url(#clip422)\" cx=\"1180.24\" cy=\"761.779\" r=\"3.6\" fill=\"#000000\" fill-rule=\"evenodd\" fill-opacity=\"0\" stroke=\"none\"/>\n",
       "<circle clip-path=\"url(#clip422)\" cx=\"1178.92\" cy=\"798.071\" r=\"3.6\" fill=\"#000000\" fill-rule=\"evenodd\" fill-opacity=\"1\" stroke=\"none\"/>\n",
       "<polyline clip-path=\"url(#clip422)\" style=\"stroke:#000000; stroke-linecap:round; stroke-linejoin:round; stroke-width:4; stroke-opacity:1; fill:none\" points=\"1180.24,761.779 1178.92,798.071 \"/>\n",
       "<circle clip-path=\"url(#clip422)\" cx=\"1180.24\" cy=\"761.779\" r=\"3.6\" fill=\"#000000\" fill-rule=\"evenodd\" fill-opacity=\"0\" stroke=\"none\"/>\n",
       "<circle clip-path=\"url(#clip422)\" cx=\"1178.92\" cy=\"798.071\" r=\"3.6\" fill=\"#000000\" fill-rule=\"evenodd\" fill-opacity=\"0\" stroke=\"none\"/>\n",
       "<circle clip-path=\"url(#clip422)\" cx=\"1173.89\" cy=\"835.45\" r=\"3.6\" fill=\"#000000\" fill-rule=\"evenodd\" fill-opacity=\"1\" stroke=\"none\"/>\n",
       "<polyline clip-path=\"url(#clip422)\" style=\"stroke:#000000; stroke-linecap:round; stroke-linejoin:round; stroke-width:4; stroke-opacity:1; fill:none\" points=\"1178.92,798.071 1173.89,835.45 \"/>\n",
       "<circle clip-path=\"url(#clip422)\" cx=\"1178.92\" cy=\"798.071\" r=\"3.6\" fill=\"#000000\" fill-rule=\"evenodd\" fill-opacity=\"0\" stroke=\"none\"/>\n",
       "<circle clip-path=\"url(#clip422)\" cx=\"1173.89\" cy=\"835.45\" r=\"3.6\" fill=\"#000000\" fill-rule=\"evenodd\" fill-opacity=\"0\" stroke=\"none\"/>\n",
       "<circle clip-path=\"url(#clip422)\" cx=\"1165.42\" cy=\"866.297\" r=\"3.6\" fill=\"#000000\" fill-rule=\"evenodd\" fill-opacity=\"1\" stroke=\"none\"/>\n",
       "<polyline clip-path=\"url(#clip422)\" style=\"stroke:#000000; stroke-linecap:round; stroke-linejoin:round; stroke-width:4; stroke-opacity:1; fill:none\" points=\"1173.89,835.45 1165.42,866.297 \"/>\n",
       "<circle clip-path=\"url(#clip422)\" cx=\"1173.89\" cy=\"835.45\" r=\"3.6\" fill=\"#000000\" fill-rule=\"evenodd\" fill-opacity=\"0\" stroke=\"none\"/>\n",
       "<circle clip-path=\"url(#clip422)\" cx=\"1165.42\" cy=\"866.297\" r=\"3.6\" fill=\"#000000\" fill-rule=\"evenodd\" fill-opacity=\"0\" stroke=\"none\"/>\n",
       "<circle clip-path=\"url(#clip422)\" cx=\"1154.32\" cy=\"887.516\" r=\"3.6\" fill=\"#000000\" fill-rule=\"evenodd\" fill-opacity=\"1\" stroke=\"none\"/>\n",
       "<polyline clip-path=\"url(#clip422)\" style=\"stroke:#000000; stroke-linecap:round; stroke-linejoin:round; stroke-width:4; stroke-opacity:1; fill:none\" points=\"1165.42,866.297 1154.32,887.516 \"/>\n",
       "<circle clip-path=\"url(#clip422)\" cx=\"1165.42\" cy=\"866.297\" r=\"3.6\" fill=\"#000000\" fill-rule=\"evenodd\" fill-opacity=\"0\" stroke=\"none\"/>\n",
       "<circle clip-path=\"url(#clip422)\" cx=\"1154.32\" cy=\"887.516\" r=\"3.6\" fill=\"#000000\" fill-rule=\"evenodd\" fill-opacity=\"0\" stroke=\"none\"/>\n",
       "<circle clip-path=\"url(#clip422)\" cx=\"1141.67\" cy=\"897.059\" r=\"3.6\" fill=\"#000000\" fill-rule=\"evenodd\" fill-opacity=\"1\" stroke=\"none\"/>\n",
       "<polyline clip-path=\"url(#clip422)\" style=\"stroke:#000000; stroke-linecap:round; stroke-linejoin:round; stroke-width:4; stroke-opacity:1; fill:none\" points=\"1154.32,887.516 1141.67,897.059 \"/>\n",
       "<circle clip-path=\"url(#clip422)\" cx=\"1154.32\" cy=\"887.516\" r=\"3.6\" fill=\"#000000\" fill-rule=\"evenodd\" fill-opacity=\"0\" stroke=\"none\"/>\n",
       "<circle clip-path=\"url(#clip422)\" cx=\"1141.67\" cy=\"897.059\" r=\"3.6\" fill=\"#000000\" fill-rule=\"evenodd\" fill-opacity=\"0\" stroke=\"none\"/>\n",
       "<circle clip-path=\"url(#clip422)\" cx=\"1128.69\" cy=\"894.388\" r=\"3.6\" fill=\"#000000\" fill-rule=\"evenodd\" fill-opacity=\"1\" stroke=\"none\"/>\n",
       "<polyline clip-path=\"url(#clip422)\" style=\"stroke:#000000; stroke-linecap:round; stroke-linejoin:round; stroke-width:4; stroke-opacity:1; fill:none\" points=\"1141.67,897.059 1128.69,894.388 \"/>\n",
       "<circle clip-path=\"url(#clip422)\" cx=\"1141.67\" cy=\"897.059\" r=\"3.6\" fill=\"#000000\" fill-rule=\"evenodd\" fill-opacity=\"0\" stroke=\"none\"/>\n",
       "<circle clip-path=\"url(#clip422)\" cx=\"1128.69\" cy=\"894.388\" r=\"3.6\" fill=\"#000000\" fill-rule=\"evenodd\" fill-opacity=\"0\" stroke=\"none\"/>\n",
       "<circle clip-path=\"url(#clip422)\" cx=\"1118.36\" cy=\"844.385\" r=\"3.6\" fill=\"#000000\" fill-rule=\"evenodd\" fill-opacity=\"1\" stroke=\"none\"/>\n",
       "<polyline clip-path=\"url(#clip422)\" style=\"stroke:#000000; stroke-linecap:round; stroke-linejoin:round; stroke-width:4; stroke-opacity:1; fill:none\" points=\"1128.69,894.388 1118.36,844.385 \"/>\n",
       "<circle clip-path=\"url(#clip422)\" cx=\"1128.69\" cy=\"894.388\" r=\"3.6\" fill=\"#000000\" fill-rule=\"evenodd\" fill-opacity=\"0\" stroke=\"none\"/>\n",
       "<circle clip-path=\"url(#clip422)\" cx=\"1118.36\" cy=\"844.385\" r=\"3.6\" fill=\"#000000\" fill-rule=\"evenodd\" fill-opacity=\"0\" stroke=\"none\"/>\n",
       "<circle clip-path=\"url(#clip422)\" cx=\"1113.59\" cy=\"784.055\" r=\"3.6\" fill=\"#000000\" fill-rule=\"evenodd\" fill-opacity=\"1\" stroke=\"none\"/>\n",
       "<polyline clip-path=\"url(#clip422)\" style=\"stroke:#000000; stroke-linecap:round; stroke-linejoin:round; stroke-width:4; stroke-opacity:1; fill:none\" points=\"1118.36,844.385 1113.59,784.055 \"/>\n",
       "<circle clip-path=\"url(#clip422)\" cx=\"1118.36\" cy=\"844.385\" r=\"3.6\" fill=\"#000000\" fill-rule=\"evenodd\" fill-opacity=\"0\" stroke=\"none\"/>\n",
       "<circle clip-path=\"url(#clip422)\" cx=\"1113.59\" cy=\"784.055\" r=\"3.6\" fill=\"#000000\" fill-rule=\"evenodd\" fill-opacity=\"0\" stroke=\"none\"/>\n",
       "<circle clip-path=\"url(#clip422)\" cx=\"1114.96\" cy=\"722.389\" r=\"3.6\" fill=\"#000000\" fill-rule=\"evenodd\" fill-opacity=\"1\" stroke=\"none\"/>\n",
       "<polyline clip-path=\"url(#clip422)\" style=\"stroke:#000000; stroke-linecap:round; stroke-linejoin:round; stroke-width:4; stroke-opacity:1; fill:none\" points=\"1113.59,784.055 1114.96,722.389 \"/>\n",
       "<circle clip-path=\"url(#clip422)\" cx=\"1113.59\" cy=\"784.055\" r=\"3.6\" fill=\"#000000\" fill-rule=\"evenodd\" fill-opacity=\"0\" stroke=\"none\"/>\n",
       "<circle clip-path=\"url(#clip422)\" cx=\"1114.96\" cy=\"722.389\" r=\"3.6\" fill=\"#000000\" fill-rule=\"evenodd\" fill-opacity=\"0\" stroke=\"none\"/>\n",
       "<circle clip-path=\"url(#clip422)\" cx=\"1122.37\" cy=\"664.224\" r=\"3.6\" fill=\"#000000\" fill-rule=\"evenodd\" fill-opacity=\"1\" stroke=\"none\"/>\n",
       "<polyline clip-path=\"url(#clip422)\" style=\"stroke:#000000; stroke-linecap:round; stroke-linejoin:round; stroke-width:4; stroke-opacity:1; fill:none\" points=\"1114.96,722.389 1122.37,664.224 \"/>\n",
       "<circle clip-path=\"url(#clip422)\" cx=\"1114.96\" cy=\"722.389\" r=\"3.6\" fill=\"#000000\" fill-rule=\"evenodd\" fill-opacity=\"0\" stroke=\"none\"/>\n",
       "<circle clip-path=\"url(#clip422)\" cx=\"1122.37\" cy=\"664.224\" r=\"3.6\" fill=\"#000000\" fill-rule=\"evenodd\" fill-opacity=\"0\" stroke=\"none\"/>\n",
       "<circle clip-path=\"url(#clip422)\" cx=\"1135.2\" cy=\"614.708\" r=\"3.6\" fill=\"#000000\" fill-rule=\"evenodd\" fill-opacity=\"1\" stroke=\"none\"/>\n",
       "<polyline clip-path=\"url(#clip422)\" style=\"stroke:#000000; stroke-linecap:round; stroke-linejoin:round; stroke-width:4; stroke-opacity:1; fill:none\" points=\"1122.37,664.224 1135.2,614.708 \"/>\n",
       "<circle clip-path=\"url(#clip422)\" cx=\"1122.37\" cy=\"664.224\" r=\"3.6\" fill=\"#000000\" fill-rule=\"evenodd\" fill-opacity=\"0\" stroke=\"none\"/>\n",
       "<circle clip-path=\"url(#clip422)\" cx=\"1135.2\" cy=\"614.708\" r=\"3.6\" fill=\"#000000\" fill-rule=\"evenodd\" fill-opacity=\"0\" stroke=\"none\"/>\n",
       "<circle clip-path=\"url(#clip422)\" cx=\"1152.33\" cy=\"579.109\" r=\"3.6\" fill=\"#000000\" fill-rule=\"evenodd\" fill-opacity=\"1\" stroke=\"none\"/>\n",
       "<polyline clip-path=\"url(#clip422)\" style=\"stroke:#000000; stroke-linecap:round; stroke-linejoin:round; stroke-width:4; stroke-opacity:1; fill:none\" points=\"1135.2,614.708 1152.33,579.109 \"/>\n",
       "<circle clip-path=\"url(#clip422)\" cx=\"1135.2\" cy=\"614.708\" r=\"3.6\" fill=\"#000000\" fill-rule=\"evenodd\" fill-opacity=\"0\" stroke=\"none\"/>\n",
       "<circle clip-path=\"url(#clip422)\" cx=\"1152.33\" cy=\"579.109\" r=\"3.6\" fill=\"#000000\" fill-rule=\"evenodd\" fill-opacity=\"0\" stroke=\"none\"/>\n",
       "<circle clip-path=\"url(#clip422)\" cx=\"1171.63\" cy=\"571.608\" r=\"3.6\" fill=\"#000000\" fill-rule=\"evenodd\" fill-opacity=\"1\" stroke=\"none\"/>\n",
       "<polyline clip-path=\"url(#clip422)\" style=\"stroke:#000000; stroke-linecap:round; stroke-linejoin:round; stroke-width:4; stroke-opacity:1; fill:none\" points=\"1152.33,579.109 1171.63,571.608 \"/>\n",
       "<circle clip-path=\"url(#clip422)\" cx=\"1152.33\" cy=\"579.109\" r=\"3.6\" fill=\"#000000\" fill-rule=\"evenodd\" fill-opacity=\"0\" stroke=\"none\"/>\n",
       "<circle clip-path=\"url(#clip422)\" cx=\"1171.63\" cy=\"571.608\" r=\"3.6\" fill=\"#000000\" fill-rule=\"evenodd\" fill-opacity=\"0\" stroke=\"none\"/>\n",
       "<circle clip-path=\"url(#clip422)\" cx=\"1190.65\" cy=\"584.671\" r=\"3.6\" fill=\"#000000\" fill-rule=\"evenodd\" fill-opacity=\"1\" stroke=\"none\"/>\n",
       "<polyline clip-path=\"url(#clip422)\" style=\"stroke:#000000; stroke-linecap:round; stroke-linejoin:round; stroke-width:4; stroke-opacity:1; fill:none\" points=\"1171.63,571.608 1190.65,584.671 \"/>\n",
       "<circle clip-path=\"url(#clip422)\" cx=\"1171.63\" cy=\"571.608\" r=\"3.6\" fill=\"#000000\" fill-rule=\"evenodd\" fill-opacity=\"0\" stroke=\"none\"/>\n",
       "<circle clip-path=\"url(#clip422)\" cx=\"1190.65\" cy=\"584.671\" r=\"3.6\" fill=\"#000000\" fill-rule=\"evenodd\" fill-opacity=\"0\" stroke=\"none\"/>\n",
       "<circle clip-path=\"url(#clip422)\" cx=\"1207.34\" cy=\"617.591\" r=\"3.6\" fill=\"#000000\" fill-rule=\"evenodd\" fill-opacity=\"1\" stroke=\"none\"/>\n",
       "<polyline clip-path=\"url(#clip422)\" style=\"stroke:#000000; stroke-linecap:round; stroke-linejoin:round; stroke-width:4; stroke-opacity:1; fill:none\" points=\"1190.65,584.671 1207.34,617.591 \"/>\n",
       "<circle clip-path=\"url(#clip422)\" cx=\"1190.65\" cy=\"584.671\" r=\"3.6\" fill=\"#000000\" fill-rule=\"evenodd\" fill-opacity=\"0\" stroke=\"none\"/>\n",
       "<circle clip-path=\"url(#clip422)\" cx=\"1207.34\" cy=\"617.591\" r=\"3.6\" fill=\"#000000\" fill-rule=\"evenodd\" fill-opacity=\"0\" stroke=\"none\"/>\n",
       "<circle clip-path=\"url(#clip422)\" cx=\"1219.53\" cy=\"673.73\" r=\"3.6\" fill=\"#000000\" fill-rule=\"evenodd\" fill-opacity=\"1\" stroke=\"none\"/>\n",
       "<polyline clip-path=\"url(#clip422)\" style=\"stroke:#000000; stroke-linecap:round; stroke-linejoin:round; stroke-width:4; stroke-opacity:1; fill:none\" points=\"1207.34,617.591 1219.53,673.73 \"/>\n",
       "<circle clip-path=\"url(#clip422)\" cx=\"1207.34\" cy=\"617.591\" r=\"3.6\" fill=\"#000000\" fill-rule=\"evenodd\" fill-opacity=\"0\" stroke=\"none\"/>\n",
       "<circle clip-path=\"url(#clip422)\" cx=\"1219.53\" cy=\"673.73\" r=\"3.6\" fill=\"#000000\" fill-rule=\"evenodd\" fill-opacity=\"0\" stroke=\"none\"/>\n",
       "<circle clip-path=\"url(#clip422)\" cx=\"1225.16\" cy=\"747.845\" r=\"3.6\" fill=\"#000000\" fill-rule=\"evenodd\" fill-opacity=\"1\" stroke=\"none\"/>\n",
       "<polyline clip-path=\"url(#clip422)\" style=\"stroke:#000000; stroke-linecap:round; stroke-linejoin:round; stroke-width:4; stroke-opacity:1; fill:none\" points=\"1219.53,673.73 1225.16,747.845 \"/>\n",
       "<circle clip-path=\"url(#clip422)\" cx=\"1219.53\" cy=\"673.73\" r=\"3.6\" fill=\"#000000\" fill-rule=\"evenodd\" fill-opacity=\"0\" stroke=\"none\"/>\n",
       "<circle clip-path=\"url(#clip422)\" cx=\"1225.16\" cy=\"747.845\" r=\"3.6\" fill=\"#000000\" fill-rule=\"evenodd\" fill-opacity=\"0\" stroke=\"none\"/>\n",
       "<circle clip-path=\"url(#clip422)\" cx=\"1223.39\" cy=\"821.03\" r=\"3.6\" fill=\"#000000\" fill-rule=\"evenodd\" fill-opacity=\"1\" stroke=\"none\"/>\n",
       "<polyline clip-path=\"url(#clip422)\" style=\"stroke:#000000; stroke-linecap:round; stroke-linejoin:round; stroke-width:4; stroke-opacity:1; fill:none\" points=\"1225.16,747.845 1223.39,821.03 \"/>\n",
       "<circle clip-path=\"url(#clip422)\" cx=\"1225.16\" cy=\"747.845\" r=\"3.6\" fill=\"#000000\" fill-rule=\"evenodd\" fill-opacity=\"0\" stroke=\"none\"/>\n",
       "<circle clip-path=\"url(#clip422)\" cx=\"1223.39\" cy=\"821.03\" r=\"3.6\" fill=\"#000000\" fill-rule=\"evenodd\" fill-opacity=\"0\" stroke=\"none\"/>\n",
       "<circle clip-path=\"url(#clip422)\" cx=\"1214.33\" cy=\"893.024\" r=\"3.6\" fill=\"#000000\" fill-rule=\"evenodd\" fill-opacity=\"1\" stroke=\"none\"/>\n",
       "<polyline clip-path=\"url(#clip422)\" style=\"stroke:#000000; stroke-linecap:round; stroke-linejoin:round; stroke-width:4; stroke-opacity:1; fill:none\" points=\"1223.39,821.03 1214.33,893.024 \"/>\n",
       "<circle clip-path=\"url(#clip422)\" cx=\"1223.39\" cy=\"821.03\" r=\"3.6\" fill=\"#000000\" fill-rule=\"evenodd\" fill-opacity=\"0\" stroke=\"none\"/>\n",
       "<circle clip-path=\"url(#clip422)\" cx=\"1214.33\" cy=\"893.024\" r=\"3.6\" fill=\"#000000\" fill-rule=\"evenodd\" fill-opacity=\"0\" stroke=\"none\"/>\n",
       "<circle clip-path=\"url(#clip422)\" cx=\"1198.44\" cy=\"956.358\" r=\"3.6\" fill=\"#000000\" fill-rule=\"evenodd\" fill-opacity=\"1\" stroke=\"none\"/>\n",
       "<polyline clip-path=\"url(#clip422)\" style=\"stroke:#000000; stroke-linecap:round; stroke-linejoin:round; stroke-width:4; stroke-opacity:1; fill:none\" points=\"1214.33,893.024 1198.44,956.358 \"/>\n",
       "<circle clip-path=\"url(#clip422)\" cx=\"1214.33\" cy=\"893.024\" r=\"3.6\" fill=\"#000000\" fill-rule=\"evenodd\" fill-opacity=\"0\" stroke=\"none\"/>\n",
       "<circle clip-path=\"url(#clip422)\" cx=\"1198.44\" cy=\"956.358\" r=\"3.6\" fill=\"#000000\" fill-rule=\"evenodd\" fill-opacity=\"0\" stroke=\"none\"/>\n",
       "<circle clip-path=\"url(#clip422)\" cx=\"1176.94\" cy=\"1004.13\" r=\"3.6\" fill=\"#000000\" fill-rule=\"evenodd\" fill-opacity=\"1\" stroke=\"none\"/>\n",
       "<polyline clip-path=\"url(#clip422)\" style=\"stroke:#000000; stroke-linecap:round; stroke-linejoin:round; stroke-width:4; stroke-opacity:1; fill:none\" points=\"1198.44,956.358 1176.94,1004.13 \"/>\n",
       "<circle clip-path=\"url(#clip422)\" cx=\"1198.44\" cy=\"956.358\" r=\"3.6\" fill=\"#000000\" fill-rule=\"evenodd\" fill-opacity=\"0\" stroke=\"none\"/>\n",
       "<circle clip-path=\"url(#clip422)\" cx=\"1176.94\" cy=\"1004.13\" r=\"3.6\" fill=\"#000000\" fill-rule=\"evenodd\" fill-opacity=\"0\" stroke=\"none\"/>\n",
       "<circle clip-path=\"url(#clip422)\" cx=\"1151.73\" cy=\"1029.73\" r=\"3.6\" fill=\"#000000\" fill-rule=\"evenodd\" fill-opacity=\"1\" stroke=\"none\"/>\n",
       "<polyline clip-path=\"url(#clip422)\" style=\"stroke:#000000; stroke-linecap:round; stroke-linejoin:round; stroke-width:4; stroke-opacity:1; fill:none\" points=\"1176.94,1004.13 1151.73,1029.73 \"/>\n",
       "<circle clip-path=\"url(#clip422)\" cx=\"1176.94\" cy=\"1004.13\" r=\"3.6\" fill=\"#000000\" fill-rule=\"evenodd\" fill-opacity=\"0\" stroke=\"none\"/>\n",
       "<circle clip-path=\"url(#clip422)\" cx=\"1151.73\" cy=\"1029.73\" r=\"3.6\" fill=\"#000000\" fill-rule=\"evenodd\" fill-opacity=\"0\" stroke=\"none\"/>\n",
       "<circle clip-path=\"url(#clip422)\" cx=\"1125.71\" cy=\"1020.2\" r=\"3.6\" fill=\"#000000\" fill-rule=\"evenodd\" fill-opacity=\"1\" stroke=\"none\"/>\n",
       "<polyline clip-path=\"url(#clip422)\" style=\"stroke:#000000; stroke-linecap:round; stroke-linejoin:round; stroke-width:4; stroke-opacity:1; fill:none\" points=\"1151.73,1029.73 1125.71,1020.2 \"/>\n",
       "<circle clip-path=\"url(#clip422)\" cx=\"1151.73\" cy=\"1029.73\" r=\"3.6\" fill=\"#000000\" fill-rule=\"evenodd\" fill-opacity=\"0\" stroke=\"none\"/>\n",
       "<circle clip-path=\"url(#clip422)\" cx=\"1125.71\" cy=\"1020.2\" r=\"3.6\" fill=\"#000000\" fill-rule=\"evenodd\" fill-opacity=\"0\" stroke=\"none\"/>\n",
       "<circle clip-path=\"url(#clip422)\" cx=\"1103.3\" cy=\"958.898\" r=\"3.6\" fill=\"#000000\" fill-rule=\"evenodd\" fill-opacity=\"1\" stroke=\"none\"/>\n",
       "<polyline clip-path=\"url(#clip422)\" style=\"stroke:#000000; stroke-linecap:round; stroke-linejoin:round; stroke-width:4; stroke-opacity:1; fill:none\" points=\"1125.71,1020.2 1103.3,958.898 \"/>\n",
       "<circle clip-path=\"url(#clip422)\" cx=\"1125.71\" cy=\"1020.2\" r=\"3.6\" fill=\"#000000\" fill-rule=\"evenodd\" fill-opacity=\"0\" stroke=\"none\"/>\n",
       "<circle clip-path=\"url(#clip422)\" cx=\"1103.3\" cy=\"958.898\" r=\"3.6\" fill=\"#000000\" fill-rule=\"evenodd\" fill-opacity=\"0\" stroke=\"none\"/>\n",
       "<circle clip-path=\"url(#clip422)\" cx=\"1087.74\" cy=\"884.602\" r=\"3.6\" fill=\"#000000\" fill-rule=\"evenodd\" fill-opacity=\"1\" stroke=\"none\"/>\n",
       "<polyline clip-path=\"url(#clip422)\" style=\"stroke:#000000; stroke-linecap:round; stroke-linejoin:round; stroke-width:4; stroke-opacity:1; fill:none\" points=\"1103.3,958.898 1087.74,884.602 \"/>\n",
       "<circle clip-path=\"url(#clip422)\" cx=\"1103.3\" cy=\"958.898\" r=\"3.6\" fill=\"#000000\" fill-rule=\"evenodd\" fill-opacity=\"0\" stroke=\"none\"/>\n",
       "<circle clip-path=\"url(#clip422)\" cx=\"1087.74\" cy=\"884.602\" r=\"3.6\" fill=\"#000000\" fill-rule=\"evenodd\" fill-opacity=\"0\" stroke=\"none\"/>\n",
       "<circle clip-path=\"url(#clip422)\" cx=\"1079.94\" cy=\"804.338\" r=\"3.6\" fill=\"#000000\" fill-rule=\"evenodd\" fill-opacity=\"1\" stroke=\"none\"/>\n",
       "<polyline clip-path=\"url(#clip422)\" style=\"stroke:#000000; stroke-linecap:round; stroke-linejoin:round; stroke-width:4; stroke-opacity:1; fill:none\" points=\"1087.74,884.602 1079.94,804.338 \"/>\n",
       "<circle clip-path=\"url(#clip422)\" cx=\"1087.74\" cy=\"884.602\" r=\"3.6\" fill=\"#000000\" fill-rule=\"evenodd\" fill-opacity=\"0\" stroke=\"none\"/>\n",
       "<circle clip-path=\"url(#clip422)\" cx=\"1079.94\" cy=\"804.338\" r=\"3.6\" fill=\"#000000\" fill-rule=\"evenodd\" fill-opacity=\"0\" stroke=\"none\"/>\n",
       "<circle clip-path=\"url(#clip422)\" cx=\"1080.29\" cy=\"722.534\" r=\"3.6\" fill=\"#000000\" fill-rule=\"evenodd\" fill-opacity=\"1\" stroke=\"none\"/>\n",
       "<polyline clip-path=\"url(#clip422)\" style=\"stroke:#000000; stroke-linecap:round; stroke-linejoin:round; stroke-width:4; stroke-opacity:1; fill:none\" points=\"1079.94,804.338 1080.29,722.534 \"/>\n",
       "<circle clip-path=\"url(#clip422)\" cx=\"1079.94\" cy=\"804.338\" r=\"3.6\" fill=\"#000000\" fill-rule=\"evenodd\" fill-opacity=\"0\" stroke=\"none\"/>\n",
       "<circle clip-path=\"url(#clip422)\" cx=\"1080.29\" cy=\"722.534\" r=\"3.6\" fill=\"#000000\" fill-rule=\"evenodd\" fill-opacity=\"0\" stroke=\"none\"/>\n",
       "<circle clip-path=\"url(#clip422)\" cx=\"1088.75\" cy=\"642.569\" r=\"3.6\" fill=\"#000000\" fill-rule=\"evenodd\" fill-opacity=\"1\" stroke=\"none\"/>\n",
       "<polyline clip-path=\"url(#clip422)\" style=\"stroke:#000000; stroke-linecap:round; stroke-linejoin:round; stroke-width:4; stroke-opacity:1; fill:none\" points=\"1080.29,722.534 1088.75,642.569 \"/>\n",
       "<circle clip-path=\"url(#clip422)\" cx=\"1080.29\" cy=\"722.534\" r=\"3.6\" fill=\"#000000\" fill-rule=\"evenodd\" fill-opacity=\"0\" stroke=\"none\"/>\n",
       "<circle clip-path=\"url(#clip422)\" cx=\"1088.75\" cy=\"642.569\" r=\"3.6\" fill=\"#000000\" fill-rule=\"evenodd\" fill-opacity=\"0\" stroke=\"none\"/>\n",
       "<circle clip-path=\"url(#clip422)\" cx=\"1104.93\" cy=\"569.053\" r=\"3.6\" fill=\"#000000\" fill-rule=\"evenodd\" fill-opacity=\"1\" stroke=\"none\"/>\n",
       "<polyline clip-path=\"url(#clip422)\" style=\"stroke:#000000; stroke-linecap:round; stroke-linejoin:round; stroke-width:4; stroke-opacity:1; fill:none\" points=\"1088.75,642.569 1104.93,569.053 \"/>\n",
       "<circle clip-path=\"url(#clip422)\" cx=\"1088.75\" cy=\"642.569\" r=\"3.6\" fill=\"#000000\" fill-rule=\"evenodd\" fill-opacity=\"0\" stroke=\"none\"/>\n",
       "<circle clip-path=\"url(#clip422)\" cx=\"1104.93\" cy=\"569.053\" r=\"3.6\" fill=\"#000000\" fill-rule=\"evenodd\" fill-opacity=\"0\" stroke=\"none\"/>\n",
       "<circle clip-path=\"url(#clip422)\" cx=\"1127.85\" cy=\"509.233\" r=\"3.6\" fill=\"#000000\" fill-rule=\"evenodd\" fill-opacity=\"1\" stroke=\"none\"/>\n",
       "<polyline clip-path=\"url(#clip422)\" style=\"stroke:#000000; stroke-linecap:round; stroke-linejoin:round; stroke-width:4; stroke-opacity:1; fill:none\" points=\"1104.93,569.053 1127.85,509.233 \"/>\n",
       "<circle clip-path=\"url(#clip422)\" cx=\"1104.93\" cy=\"569.053\" r=\"3.6\" fill=\"#000000\" fill-rule=\"evenodd\" fill-opacity=\"0\" stroke=\"none\"/>\n",
       "<circle clip-path=\"url(#clip422)\" cx=\"1127.85\" cy=\"509.233\" r=\"3.6\" fill=\"#000000\" fill-rule=\"evenodd\" fill-opacity=\"0\" stroke=\"none\"/>\n",
       "<circle clip-path=\"url(#clip422)\" cx=\"1155.7\" cy=\"471.809\" r=\"3.6\" fill=\"#000000\" fill-rule=\"evenodd\" fill-opacity=\"1\" stroke=\"none\"/>\n",
       "<polyline clip-path=\"url(#clip422)\" style=\"stroke:#000000; stroke-linecap:round; stroke-linejoin:round; stroke-width:4; stroke-opacity:1; fill:none\" points=\"1127.85,509.233 1155.7,471.809 \"/>\n",
       "<circle clip-path=\"url(#clip422)\" cx=\"1127.85\" cy=\"509.233\" r=\"3.6\" fill=\"#000000\" fill-rule=\"evenodd\" fill-opacity=\"0\" stroke=\"none\"/>\n",
       "<circle clip-path=\"url(#clip422)\" cx=\"1155.7\" cy=\"471.809\" r=\"3.6\" fill=\"#000000\" fill-rule=\"evenodd\" fill-opacity=\"0\" stroke=\"none\"/>\n",
       "<circle clip-path=\"url(#clip422)\" cx=\"1185.91\" cy=\"462.631\" r=\"3.6\" fill=\"#000000\" fill-rule=\"evenodd\" fill-opacity=\"1\" stroke=\"none\"/>\n",
       "<polyline clip-path=\"url(#clip422)\" style=\"stroke:#000000; stroke-linecap:round; stroke-linejoin:round; stroke-width:4; stroke-opacity:1; fill:none\" points=\"1155.7,471.809 1185.91,462.631 \"/>\n",
       "<circle clip-path=\"url(#clip422)\" cx=\"1155.7\" cy=\"471.809\" r=\"3.6\" fill=\"#000000\" fill-rule=\"evenodd\" fill-opacity=\"0\" stroke=\"none\"/>\n",
       "<circle clip-path=\"url(#clip422)\" cx=\"1185.91\" cy=\"462.631\" r=\"3.6\" fill=\"#000000\" fill-rule=\"evenodd\" fill-opacity=\"0\" stroke=\"none\"/>\n",
       "<circle clip-path=\"url(#clip422)\" cx=\"1214.83\" cy=\"496.475\" r=\"3.6\" fill=\"#000000\" fill-rule=\"evenodd\" fill-opacity=\"1\" stroke=\"none\"/>\n",
       "<polyline clip-path=\"url(#clip422)\" style=\"stroke:#000000; stroke-linecap:round; stroke-linejoin:round; stroke-width:4; stroke-opacity:1; fill:none\" points=\"1185.91,462.631 1214.83,496.475 \"/>\n",
       "<circle clip-path=\"url(#clip422)\" cx=\"1185.91\" cy=\"462.631\" r=\"3.6\" fill=\"#000000\" fill-rule=\"evenodd\" fill-opacity=\"0\" stroke=\"none\"/>\n",
       "<circle clip-path=\"url(#clip422)\" cx=\"1214.83\" cy=\"496.475\" r=\"3.6\" fill=\"#000000\" fill-rule=\"evenodd\" fill-opacity=\"0\" stroke=\"none\"/>\n",
       "<circle clip-path=\"url(#clip422)\" cx=\"1238.26\" cy=\"570.621\" r=\"3.6\" fill=\"#000000\" fill-rule=\"evenodd\" fill-opacity=\"1\" stroke=\"none\"/>\n",
       "<polyline clip-path=\"url(#clip422)\" style=\"stroke:#000000; stroke-linecap:round; stroke-linejoin:round; stroke-width:4; stroke-opacity:1; fill:none\" points=\"1214.83,496.475 1238.26,570.621 \"/>\n",
       "<circle clip-path=\"url(#clip422)\" cx=\"1214.83\" cy=\"496.475\" r=\"3.6\" fill=\"#000000\" fill-rule=\"evenodd\" fill-opacity=\"0\" stroke=\"none\"/>\n",
       "<circle clip-path=\"url(#clip422)\" cx=\"1238.26\" cy=\"570.621\" r=\"3.6\" fill=\"#000000\" fill-rule=\"evenodd\" fill-opacity=\"0\" stroke=\"none\"/>\n",
       "<circle clip-path=\"url(#clip422)\" cx=\"1253.71\" cy=\"654.822\" r=\"3.6\" fill=\"#000000\" fill-rule=\"evenodd\" fill-opacity=\"1\" stroke=\"none\"/>\n",
       "<polyline clip-path=\"url(#clip422)\" style=\"stroke:#000000; stroke-linecap:round; stroke-linejoin:round; stroke-width:4; stroke-opacity:1; fill:none\" points=\"1238.26,570.621 1253.71,654.822 \"/>\n",
       "<circle clip-path=\"url(#clip422)\" cx=\"1238.26\" cy=\"570.621\" r=\"3.6\" fill=\"#000000\" fill-rule=\"evenodd\" fill-opacity=\"0\" stroke=\"none\"/>\n",
       "<circle clip-path=\"url(#clip422)\" cx=\"1253.71\" cy=\"654.822\" r=\"3.6\" fill=\"#000000\" fill-rule=\"evenodd\" fill-opacity=\"0\" stroke=\"none\"/>\n",
       "<circle clip-path=\"url(#clip422)\" cx=\"1260.6\" cy=\"741.302\" r=\"3.6\" fill=\"#000000\" fill-rule=\"evenodd\" fill-opacity=\"1\" stroke=\"none\"/>\n",
       "<polyline clip-path=\"url(#clip422)\" style=\"stroke:#000000; stroke-linecap:round; stroke-linejoin:round; stroke-width:4; stroke-opacity:1; fill:none\" points=\"1253.71,654.822 1260.6,741.302 \"/>\n",
       "<circle clip-path=\"url(#clip422)\" cx=\"1253.71\" cy=\"654.822\" r=\"3.6\" fill=\"#000000\" fill-rule=\"evenodd\" fill-opacity=\"0\" stroke=\"none\"/>\n",
       "<circle clip-path=\"url(#clip422)\" cx=\"1260.6\" cy=\"741.302\" r=\"3.6\" fill=\"#000000\" fill-rule=\"evenodd\" fill-opacity=\"0\" stroke=\"none\"/>\n",
       "<circle clip-path=\"url(#clip422)\" cx=\"1258.81\" cy=\"828.053\" r=\"3.6\" fill=\"#000000\" fill-rule=\"evenodd\" fill-opacity=\"1\" stroke=\"none\"/>\n",
       "<polyline clip-path=\"url(#clip422)\" style=\"stroke:#000000; stroke-linecap:round; stroke-linejoin:round; stroke-width:4; stroke-opacity:1; fill:none\" points=\"1260.6,741.302 1258.81,828.053 \"/>\n",
       "<circle clip-path=\"url(#clip422)\" cx=\"1260.6\" cy=\"741.302\" r=\"3.6\" fill=\"#000000\" fill-rule=\"evenodd\" fill-opacity=\"0\" stroke=\"none\"/>\n",
       "<circle clip-path=\"url(#clip422)\" cx=\"1258.81\" cy=\"828.053\" r=\"3.6\" fill=\"#000000\" fill-rule=\"evenodd\" fill-opacity=\"0\" stroke=\"none\"/>\n",
       "<circle clip-path=\"url(#clip422)\" cx=\"1248.38\" cy=\"913.998\" r=\"3.6\" fill=\"#000000\" fill-rule=\"evenodd\" fill-opacity=\"1\" stroke=\"none\"/>\n",
       "<polyline clip-path=\"url(#clip422)\" style=\"stroke:#000000; stroke-linecap:round; stroke-linejoin:round; stroke-width:4; stroke-opacity:1; fill:none\" points=\"1258.81,828.053 1248.38,913.998 \"/>\n",
       "<circle clip-path=\"url(#clip422)\" cx=\"1258.81\" cy=\"828.053\" r=\"3.6\" fill=\"#000000\" fill-rule=\"evenodd\" fill-opacity=\"0\" stroke=\"none\"/>\n",
       "<circle clip-path=\"url(#clip422)\" cx=\"1248.38\" cy=\"913.998\" r=\"3.6\" fill=\"#000000\" fill-rule=\"evenodd\" fill-opacity=\"0\" stroke=\"none\"/>\n",
       "<circle clip-path=\"url(#clip422)\" cx=\"1229.51\" cy=\"995.871\" r=\"3.6\" fill=\"#000000\" fill-rule=\"evenodd\" fill-opacity=\"1\" stroke=\"none\"/>\n",
       "<polyline clip-path=\"url(#clip422)\" style=\"stroke:#000000; stroke-linecap:round; stroke-linejoin:round; stroke-width:4; stroke-opacity:1; fill:none\" points=\"1248.38,913.998 1229.51,995.871 \"/>\n",
       "<circle clip-path=\"url(#clip422)\" cx=\"1248.38\" cy=\"913.998\" r=\"3.6\" fill=\"#000000\" fill-rule=\"evenodd\" fill-opacity=\"0\" stroke=\"none\"/>\n",
       "<circle clip-path=\"url(#clip422)\" cx=\"1229.51\" cy=\"995.871\" r=\"3.6\" fill=\"#000000\" fill-rule=\"evenodd\" fill-opacity=\"0\" stroke=\"none\"/>\n",
       "<circle clip-path=\"url(#clip422)\" cx=\"1202.97\" cy=\"1065.92\" r=\"3.6\" fill=\"#000000\" fill-rule=\"evenodd\" fill-opacity=\"1\" stroke=\"none\"/>\n",
       "<polyline clip-path=\"url(#clip422)\" style=\"stroke:#000000; stroke-linecap:round; stroke-linejoin:round; stroke-width:4; stroke-opacity:1; fill:none\" points=\"1229.51,995.871 1202.97,1065.92 \"/>\n",
       "<circle clip-path=\"url(#clip422)\" cx=\"1229.51\" cy=\"995.871\" r=\"3.6\" fill=\"#000000\" fill-rule=\"evenodd\" fill-opacity=\"0\" stroke=\"none\"/>\n",
       "<circle clip-path=\"url(#clip422)\" cx=\"1202.97\" cy=\"1065.92\" r=\"3.6\" fill=\"#000000\" fill-rule=\"evenodd\" fill-opacity=\"0\" stroke=\"none\"/>\n",
       "<circle clip-path=\"url(#clip422)\" cx=\"1170.48\" cy=\"1112.67\" r=\"3.6\" fill=\"#000000\" fill-rule=\"evenodd\" fill-opacity=\"1\" stroke=\"none\"/>\n",
       "<polyline clip-path=\"url(#clip422)\" style=\"stroke:#000000; stroke-linecap:round; stroke-linejoin:round; stroke-width:4; stroke-opacity:1; fill:none\" points=\"1202.97,1065.92 1170.48,1112.67 \"/>\n",
       "<circle clip-path=\"url(#clip422)\" cx=\"1202.97\" cy=\"1065.92\" r=\"3.6\" fill=\"#000000\" fill-rule=\"evenodd\" fill-opacity=\"0\" stroke=\"none\"/>\n",
       "<circle clip-path=\"url(#clip422)\" cx=\"1170.48\" cy=\"1112.67\" r=\"3.6\" fill=\"#000000\" fill-rule=\"evenodd\" fill-opacity=\"0\" stroke=\"none\"/>\n",
       "<circle clip-path=\"url(#clip422)\" cx=\"1134.9\" cy=\"1126.87\" r=\"3.6\" fill=\"#000000\" fill-rule=\"evenodd\" fill-opacity=\"1\" stroke=\"none\"/>\n",
       "<polyline clip-path=\"url(#clip422)\" style=\"stroke:#000000; stroke-linecap:round; stroke-linejoin:round; stroke-width:4; stroke-opacity:1; fill:none\" points=\"1170.48,1112.67 1134.9,1126.87 \"/>\n",
       "<circle clip-path=\"url(#clip422)\" cx=\"1170.48\" cy=\"1112.67\" r=\"3.6\" fill=\"#000000\" fill-rule=\"evenodd\" fill-opacity=\"0\" stroke=\"none\"/>\n",
       "<circle clip-path=\"url(#clip422)\" cx=\"1134.9\" cy=\"1126.87\" r=\"3.6\" fill=\"#000000\" fill-rule=\"evenodd\" fill-opacity=\"0\" stroke=\"none\"/>\n",
       "<circle clip-path=\"url(#clip422)\" cx=\"1100.16\" cy=\"1096.89\" r=\"3.6\" fill=\"#000000\" fill-rule=\"evenodd\" fill-opacity=\"1\" stroke=\"none\"/>\n",
       "<polyline clip-path=\"url(#clip422)\" style=\"stroke:#000000; stroke-linecap:round; stroke-linejoin:round; stroke-width:4; stroke-opacity:1; fill:none\" points=\"1134.9,1126.87 1100.16,1096.89 \"/>\n",
       "<circle clip-path=\"url(#clip422)\" cx=\"1134.9\" cy=\"1126.87\" r=\"3.6\" fill=\"#000000\" fill-rule=\"evenodd\" fill-opacity=\"0\" stroke=\"none\"/>\n",
       "<circle clip-path=\"url(#clip422)\" cx=\"1100.16\" cy=\"1096.89\" r=\"3.6\" fill=\"#000000\" fill-rule=\"evenodd\" fill-opacity=\"0\" stroke=\"none\"/>\n",
       "<circle clip-path=\"url(#clip422)\" cx=\"1070.39\" cy=\"1029.97\" r=\"3.6\" fill=\"#000000\" fill-rule=\"evenodd\" fill-opacity=\"1\" stroke=\"none\"/>\n",
       "<polyline clip-path=\"url(#clip422)\" style=\"stroke:#000000; stroke-linecap:round; stroke-linejoin:round; stroke-width:4; stroke-opacity:1; fill:none\" points=\"1100.16,1096.89 1070.39,1029.97 \"/>\n",
       "<circle clip-path=\"url(#clip422)\" cx=\"1100.16\" cy=\"1096.89\" r=\"3.6\" fill=\"#000000\" fill-rule=\"evenodd\" fill-opacity=\"0\" stroke=\"none\"/>\n",
       "<circle clip-path=\"url(#clip422)\" cx=\"1070.39\" cy=\"1029.97\" r=\"3.6\" fill=\"#000000\" fill-rule=\"evenodd\" fill-opacity=\"0\" stroke=\"none\"/>\n",
       "<circle clip-path=\"url(#clip422)\" cx=\"1048.38\" cy=\"943.567\" r=\"3.6\" fill=\"#000000\" fill-rule=\"evenodd\" fill-opacity=\"1\" stroke=\"none\"/>\n",
       "<polyline clip-path=\"url(#clip422)\" style=\"stroke:#000000; stroke-linecap:round; stroke-linejoin:round; stroke-width:4; stroke-opacity:1; fill:none\" points=\"1070.39,1029.97 1048.38,943.567 \"/>\n",
       "<circle clip-path=\"url(#clip422)\" cx=\"1070.39\" cy=\"1029.97\" r=\"3.6\" fill=\"#000000\" fill-rule=\"evenodd\" fill-opacity=\"0\" stroke=\"none\"/>\n",
       "<circle clip-path=\"url(#clip422)\" cx=\"1048.38\" cy=\"943.567\" r=\"3.6\" fill=\"#000000\" fill-rule=\"evenodd\" fill-opacity=\"0\" stroke=\"none\"/>\n",
       "<circle clip-path=\"url(#clip422)\" cx=\"1034.92\" cy=\"859.716\" r=\"3.6\" fill=\"#000000\" fill-rule=\"evenodd\" fill-opacity=\"1\" stroke=\"none\"/>\n",
       "<polyline clip-path=\"url(#clip422)\" style=\"stroke:#000000; stroke-linecap:round; stroke-linejoin:round; stroke-width:4; stroke-opacity:1; fill:none\" points=\"1048.38,943.567 1034.92,859.716 \"/>\n",
       "<circle clip-path=\"url(#clip422)\" cx=\"1048.38\" cy=\"943.567\" r=\"3.6\" fill=\"#000000\" fill-rule=\"evenodd\" fill-opacity=\"0\" stroke=\"none\"/>\n",
       "<circle clip-path=\"url(#clip422)\" cx=\"1034.92\" cy=\"859.716\" r=\"3.6\" fill=\"#000000\" fill-rule=\"evenodd\" fill-opacity=\"0\" stroke=\"none\"/>\n",
       "<circle clip-path=\"url(#clip422)\" cx=\"1028.82\" cy=\"796.36\" r=\"3.6\" fill=\"#000000\" fill-rule=\"evenodd\" fill-opacity=\"1\" stroke=\"none\"/>\n",
       "<polyline clip-path=\"url(#clip422)\" style=\"stroke:#000000; stroke-linecap:round; stroke-linejoin:round; stroke-width:4; stroke-opacity:1; fill:none\" points=\"1034.92,859.716 1028.82,796.36 \"/>\n",
       "<circle clip-path=\"url(#clip422)\" cx=\"1034.92\" cy=\"859.716\" r=\"3.6\" fill=\"#000000\" fill-rule=\"evenodd\" fill-opacity=\"0\" stroke=\"none\"/>\n",
       "<circle clip-path=\"url(#clip422)\" cx=\"1028.82\" cy=\"796.36\" r=\"3.6\" fill=\"#000000\" fill-rule=\"evenodd\" fill-opacity=\"0\" stroke=\"none\"/>\n",
       "<circle clip-path=\"url(#clip422)\" cx=\"1029.5\" cy=\"723.694\" r=\"3.6\" fill=\"#000000\" fill-rule=\"evenodd\" fill-opacity=\"1\" stroke=\"none\"/>\n",
       "<polyline clip-path=\"url(#clip422)\" style=\"stroke:#000000; stroke-linecap:round; stroke-linejoin:round; stroke-width:4; stroke-opacity:1; fill:none\" points=\"1028.82,796.36 1029.5,723.694 \"/>\n",
       "<circle clip-path=\"url(#clip422)\" cx=\"1028.82\" cy=\"796.36\" r=\"3.6\" fill=\"#000000\" fill-rule=\"evenodd\" fill-opacity=\"0\" stroke=\"none\"/>\n",
       "<circle clip-path=\"url(#clip422)\" cx=\"1029.5\" cy=\"723.694\" r=\"3.6\" fill=\"#000000\" fill-rule=\"evenodd\" fill-opacity=\"0\" stroke=\"none\"/>\n",
       "<circle clip-path=\"url(#clip422)\" cx=\"1037.6\" cy=\"647.679\" r=\"3.6\" fill=\"#000000\" fill-rule=\"evenodd\" fill-opacity=\"1\" stroke=\"none\"/>\n",
       "<polyline clip-path=\"url(#clip422)\" style=\"stroke:#000000; stroke-linecap:round; stroke-linejoin:round; stroke-width:4; stroke-opacity:1; fill:none\" points=\"1029.5,723.694 1037.6,647.679 \"/>\n",
       "<circle clip-path=\"url(#clip422)\" cx=\"1029.5\" cy=\"723.694\" r=\"3.6\" fill=\"#000000\" fill-rule=\"evenodd\" fill-opacity=\"0\" stroke=\"none\"/>\n",
       "<circle clip-path=\"url(#clip422)\" cx=\"1037.6\" cy=\"647.679\" r=\"3.6\" fill=\"#000000\" fill-rule=\"evenodd\" fill-opacity=\"0\" stroke=\"none\"/>\n",
       "<circle clip-path=\"url(#clip422)\" cx=\"1053.82\" cy=\"561.285\" r=\"3.6\" fill=\"#000000\" fill-rule=\"evenodd\" fill-opacity=\"1\" stroke=\"none\"/>\n",
       "<polyline clip-path=\"url(#clip422)\" style=\"stroke:#000000; stroke-linecap:round; stroke-linejoin:round; stroke-width:4; stroke-opacity:1; fill:none\" points=\"1037.6,647.679 1053.82,561.285 \"/>\n",
       "<circle clip-path=\"url(#clip422)\" cx=\"1037.6\" cy=\"647.679\" r=\"3.6\" fill=\"#000000\" fill-rule=\"evenodd\" fill-opacity=\"0\" stroke=\"none\"/>\n",
       "<circle clip-path=\"url(#clip422)\" cx=\"1053.82\" cy=\"561.285\" r=\"3.6\" fill=\"#000000\" fill-rule=\"evenodd\" fill-opacity=\"0\" stroke=\"none\"/>\n",
       "<circle clip-path=\"url(#clip422)\" cx=\"1078.68\" cy=\"475.905\" r=\"3.6\" fill=\"#000000\" fill-rule=\"evenodd\" fill-opacity=\"1\" stroke=\"none\"/>\n",
       "<polyline clip-path=\"url(#clip422)\" style=\"stroke:#000000; stroke-linecap:round; stroke-linejoin:round; stroke-width:4; stroke-opacity:1; fill:none\" points=\"1053.82,561.285 1078.68,475.905 \"/>\n",
       "<circle clip-path=\"url(#clip422)\" cx=\"1053.82\" cy=\"561.285\" r=\"3.6\" fill=\"#000000\" fill-rule=\"evenodd\" fill-opacity=\"0\" stroke=\"none\"/>\n",
       "<circle clip-path=\"url(#clip422)\" cx=\"1078.68\" cy=\"475.905\" r=\"3.6\" fill=\"#000000\" fill-rule=\"evenodd\" fill-opacity=\"0\" stroke=\"none\"/>\n",
       "<circle clip-path=\"url(#clip422)\" cx=\"1111.64\" cy=\"401.818\" r=\"3.6\" fill=\"#000000\" fill-rule=\"evenodd\" fill-opacity=\"1\" stroke=\"none\"/>\n",
       "<polyline clip-path=\"url(#clip422)\" style=\"stroke:#000000; stroke-linecap:round; stroke-linejoin:round; stroke-width:4; stroke-opacity:1; fill:none\" points=\"1078.68,475.905 1111.64,401.818 \"/>\n",
       "<circle clip-path=\"url(#clip422)\" cx=\"1078.68\" cy=\"475.905\" r=\"3.6\" fill=\"#000000\" fill-rule=\"evenodd\" fill-opacity=\"0\" stroke=\"none\"/>\n",
       "<circle clip-path=\"url(#clip422)\" cx=\"1111.64\" cy=\"401.818\" r=\"3.6\" fill=\"#000000\" fill-rule=\"evenodd\" fill-opacity=\"0\" stroke=\"none\"/>\n",
       "<circle clip-path=\"url(#clip422)\" cx=\"1150.78\" cy=\"354.806\" r=\"3.6\" fill=\"#000000\" fill-rule=\"evenodd\" fill-opacity=\"1\" stroke=\"none\"/>\n",
       "<polyline clip-path=\"url(#clip422)\" style=\"stroke:#000000; stroke-linecap:round; stroke-linejoin:round; stroke-width:4; stroke-opacity:1; fill:none\" points=\"1111.64,401.818 1150.78,354.806 \"/>\n",
       "<circle clip-path=\"url(#clip422)\" cx=\"1111.64\" cy=\"401.818\" r=\"3.6\" fill=\"#000000\" fill-rule=\"evenodd\" fill-opacity=\"0\" stroke=\"none\"/>\n",
       "<circle clip-path=\"url(#clip422)\" cx=\"1150.78\" cy=\"354.806\" r=\"3.6\" fill=\"#000000\" fill-rule=\"evenodd\" fill-opacity=\"0\" stroke=\"none\"/>\n",
       "<circle clip-path=\"url(#clip422)\" cx=\"1192.64\" cy=\"348.46\" r=\"3.6\" fill=\"#000000\" fill-rule=\"evenodd\" fill-opacity=\"1\" stroke=\"none\"/>\n",
       "<polyline clip-path=\"url(#clip422)\" style=\"stroke:#000000; stroke-linecap:round; stroke-linejoin:round; stroke-width:4; stroke-opacity:1; fill:none\" points=\"1150.78,354.806 1192.64,348.46 \"/>\n",
       "<circle clip-path=\"url(#clip422)\" cx=\"1150.78\" cy=\"354.806\" r=\"3.6\" fill=\"#000000\" fill-rule=\"evenodd\" fill-opacity=\"0\" stroke=\"none\"/>\n",
       "<circle clip-path=\"url(#clip422)\" cx=\"1192.64\" cy=\"348.46\" r=\"3.6\" fill=\"#000000\" fill-rule=\"evenodd\" fill-opacity=\"0\" stroke=\"none\"/>\n",
       "<circle clip-path=\"url(#clip422)\" cx=\"1232.57\" cy=\"391.121\" r=\"3.6\" fill=\"#000000\" fill-rule=\"evenodd\" fill-opacity=\"1\" stroke=\"none\"/>\n",
       "<polyline clip-path=\"url(#clip422)\" style=\"stroke:#000000; stroke-linecap:round; stroke-linejoin:round; stroke-width:4; stroke-opacity:1; fill:none\" points=\"1192.64,348.46 1232.57,391.121 \"/>\n",
       "<circle clip-path=\"url(#clip422)\" cx=\"1192.64\" cy=\"348.46\" r=\"3.6\" fill=\"#000000\" fill-rule=\"evenodd\" fill-opacity=\"0\" stroke=\"none\"/>\n",
       "<circle clip-path=\"url(#clip422)\" cx=\"1232.57\" cy=\"391.121\" r=\"3.6\" fill=\"#000000\" fill-rule=\"evenodd\" fill-opacity=\"0\" stroke=\"none\"/>\n",
       "<circle clip-path=\"url(#clip422)\" cx=\"1266.9\" cy=\"457.332\" r=\"3.6\" fill=\"#000000\" fill-rule=\"evenodd\" fill-opacity=\"1\" stroke=\"none\"/>\n",
       "<polyline clip-path=\"url(#clip422)\" style=\"stroke:#000000; stroke-linecap:round; stroke-linejoin:round; stroke-width:4; stroke-opacity:1; fill:none\" points=\"1232.57,391.121 1266.9,457.332 \"/>\n",
       "<circle clip-path=\"url(#clip422)\" cx=\"1232.57\" cy=\"391.121\" r=\"3.6\" fill=\"#000000\" fill-rule=\"evenodd\" fill-opacity=\"0\" stroke=\"none\"/>\n",
       "<circle clip-path=\"url(#clip422)\" cx=\"1266.9\" cy=\"457.332\" r=\"3.6\" fill=\"#000000\" fill-rule=\"evenodd\" fill-opacity=\"0\" stroke=\"none\"/>\n",
       "<circle clip-path=\"url(#clip422)\" cx=\"1294.98\" cy=\"513.57\" r=\"3.6\" fill=\"#000000\" fill-rule=\"evenodd\" fill-opacity=\"1\" stroke=\"none\"/>\n",
       "<polyline clip-path=\"url(#clip422)\" style=\"stroke:#000000; stroke-linecap:round; stroke-linejoin:round; stroke-width:4; stroke-opacity:1; fill:none\" points=\"1266.9,457.332 1294.98,513.57 \"/>\n",
       "<circle clip-path=\"url(#clip422)\" cx=\"1266.9\" cy=\"457.332\" r=\"3.6\" fill=\"#000000\" fill-rule=\"evenodd\" fill-opacity=\"0\" stroke=\"none\"/>\n",
       "<circle clip-path=\"url(#clip422)\" cx=\"1294.98\" cy=\"513.57\" r=\"3.6\" fill=\"#000000\" fill-rule=\"evenodd\" fill-opacity=\"0\" stroke=\"none\"/>\n",
       "<circle clip-path=\"url(#clip422)\" cx=\"1317.07\" cy=\"576.436\" r=\"3.6\" fill=\"#000000\" fill-rule=\"evenodd\" fill-opacity=\"1\" stroke=\"none\"/>\n",
       "<polyline clip-path=\"url(#clip422)\" style=\"stroke:#000000; stroke-linecap:round; stroke-linejoin:round; stroke-width:4; stroke-opacity:1; fill:none\" points=\"1294.98,513.57 1317.07,576.436 \"/>\n",
       "<circle clip-path=\"url(#clip422)\" cx=\"1294.98\" cy=\"513.57\" r=\"3.6\" fill=\"#000000\" fill-rule=\"evenodd\" fill-opacity=\"0\" stroke=\"none\"/>\n",
       "<circle clip-path=\"url(#clip422)\" cx=\"1317.07\" cy=\"576.436\" r=\"3.6\" fill=\"#000000\" fill-rule=\"evenodd\" fill-opacity=\"0\" stroke=\"none\"/>\n",
       "<circle clip-path=\"url(#clip422)\" cx=\"1333.28\" cy=\"630.929\" r=\"3.6\" fill=\"#000000\" fill-rule=\"evenodd\" fill-opacity=\"1\" stroke=\"none\"/>\n",
       "<polyline clip-path=\"url(#clip422)\" style=\"stroke:#000000; stroke-linecap:round; stroke-linejoin:round; stroke-width:4; stroke-opacity:1; fill:none\" points=\"1317.07,576.436 1333.28,630.929 \"/>\n",
       "<circle clip-path=\"url(#clip422)\" cx=\"1317.07\" cy=\"576.436\" r=\"3.6\" fill=\"#000000\" fill-rule=\"evenodd\" fill-opacity=\"0\" stroke=\"none\"/>\n",
       "<circle clip-path=\"url(#clip422)\" cx=\"1333.28\" cy=\"630.929\" r=\"3.6\" fill=\"#000000\" fill-rule=\"evenodd\" fill-opacity=\"0\" stroke=\"none\"/>\n",
       "<circle clip-path=\"url(#clip422)\" cx=\"1345.44\" cy=\"657.807\" r=\"3.6\" fill=\"#000000\" fill-rule=\"evenodd\" fill-opacity=\"1\" stroke=\"none\"/>\n",
       "<polyline clip-path=\"url(#clip422)\" style=\"stroke:#000000; stroke-linecap:round; stroke-linejoin:round; stroke-width:4; stroke-opacity:1; fill:none\" points=\"1333.28,630.929 1345.44,657.807 \"/>\n",
       "<circle clip-path=\"url(#clip422)\" cx=\"1333.28\" cy=\"630.929\" r=\"3.6\" fill=\"#000000\" fill-rule=\"evenodd\" fill-opacity=\"0\" stroke=\"none\"/>\n",
       "<circle clip-path=\"url(#clip422)\" cx=\"1345.44\" cy=\"657.807\" r=\"3.6\" fill=\"#000000\" fill-rule=\"evenodd\" fill-opacity=\"0\" stroke=\"none\"/>\n",
       "<circle clip-path=\"url(#clip422)\" cx=\"1354.8\" cy=\"687.218\" r=\"3.6\" fill=\"#000000\" fill-rule=\"evenodd\" fill-opacity=\"1\" stroke=\"none\"/>\n",
       "<polyline clip-path=\"url(#clip422)\" style=\"stroke:#000000; stroke-linecap:round; stroke-linejoin:round; stroke-width:4; stroke-opacity:1; fill:none\" points=\"1345.44,657.807 1354.8,687.218 \"/>\n",
       "<circle clip-path=\"url(#clip422)\" cx=\"1345.44\" cy=\"657.807\" r=\"3.6\" fill=\"#000000\" fill-rule=\"evenodd\" fill-opacity=\"0\" stroke=\"none\"/>\n",
       "<circle clip-path=\"url(#clip422)\" cx=\"1354.8\" cy=\"687.218\" r=\"3.6\" fill=\"#000000\" fill-rule=\"evenodd\" fill-opacity=\"0\" stroke=\"none\"/>\n",
       "<circle clip-path=\"url(#clip422)\" cx=\"1361.93\" cy=\"702.839\" r=\"3.6\" fill=\"#000000\" fill-rule=\"evenodd\" fill-opacity=\"1\" stroke=\"none\"/>\n",
       "<polyline clip-path=\"url(#clip422)\" style=\"stroke:#000000; stroke-linecap:round; stroke-linejoin:round; stroke-width:4; stroke-opacity:1; fill:none\" points=\"1354.8,687.218 1361.93,702.839 \"/>\n",
       "<circle clip-path=\"url(#clip422)\" cx=\"1354.8\" cy=\"687.218\" r=\"3.6\" fill=\"#000000\" fill-rule=\"evenodd\" fill-opacity=\"0\" stroke=\"none\"/>\n",
       "<circle clip-path=\"url(#clip422)\" cx=\"1361.93\" cy=\"702.839\" r=\"3.6\" fill=\"#000000\" fill-rule=\"evenodd\" fill-opacity=\"0\" stroke=\"none\"/>\n",
       "<circle clip-path=\"url(#clip422)\" cx=\"1368.12\" cy=\"706.006\" r=\"3.6\" fill=\"#000000\" fill-rule=\"evenodd\" fill-opacity=\"1\" stroke=\"none\"/>\n",
       "<polyline clip-path=\"url(#clip422)\" style=\"stroke:#000000; stroke-linecap:round; stroke-linejoin:round; stroke-width:4; stroke-opacity:1; fill:none\" points=\"1361.93,702.839 1368.12,706.006 \"/>\n",
       "<circle clip-path=\"url(#clip422)\" cx=\"1361.93\" cy=\"702.839\" r=\"3.6\" fill=\"#000000\" fill-rule=\"evenodd\" fill-opacity=\"0\" stroke=\"none\"/>\n",
       "<circle clip-path=\"url(#clip422)\" cx=\"1368.12\" cy=\"706.006\" r=\"3.6\" fill=\"#000000\" fill-rule=\"evenodd\" fill-opacity=\"0\" stroke=\"none\"/>\n",
       "<circle clip-path=\"url(#clip422)\" cx=\"1158.62\" cy=\"770.029\" r=\"3.6\" fill=\"#000000\" fill-rule=\"evenodd\" fill-opacity=\"1\" stroke=\"none\"/>\n",
       "<path clip-path=\"url(#clip420)\" d=\"M1829.71 250.738 L2280.29 250.738 L2280.29 95.2176 L1829.71 95.2176  Z\" fill=\"#ffffff\" fill-rule=\"evenodd\" fill-opacity=\"1\"/>\n",
       "<polyline clip-path=\"url(#clip420)\" style=\"stroke:#000000; stroke-linecap:round; stroke-linejoin:round; stroke-width:4; stroke-opacity:1; fill:none\" points=\"1829.71,250.738 2280.29,250.738 2280.29,95.2176 1829.71,95.2176 1829.71,250.738 \"/>\n",
       "<path clip-path=\"url(#clip420)\" d=\"M1853.87 167.794 L1998.79 167.794 L1998.79 126.322 L1853.87 126.322 L1853.87 167.794  Z\" fill=\"#008000\" fill-rule=\"evenodd\" fill-opacity=\"1\"/>\n",
       "<polyline clip-path=\"url(#clip420)\" style=\"stroke:#000000; stroke-linecap:round; stroke-linejoin:round; stroke-width:4; stroke-opacity:1; fill:none\" points=\"1853.87,167.794 1998.79,167.794 1998.79,126.322 1853.87,126.322 1853.87,167.794 \"/>\n",
       "<path clip-path=\"url(#clip420)\" d=\"M2022.95 129.778 L2027.62 129.778 L2027.62 164.338 L2022.95 164.338 L2022.95 129.778 Z\" fill=\"#000000\" fill-rule=\"nonzero\" fill-opacity=\"1\" /><path clip-path=\"url(#clip420)\" d=\"M2058.29 148.689 L2058.29 164.338 L2054.03 164.338 L2054.03 148.828 Q2054.03 145.148 2052.6 143.319 Q2051.16 141.49 2048.29 141.49 Q2044.84 141.49 2042.85 143.69 Q2040.86 145.889 2040.86 149.685 L2040.86 164.338 L2036.58 164.338 L2036.58 138.412 L2040.86 138.412 L2040.86 142.44 Q2042.39 140.102 2044.45 138.944 Q2046.53 137.787 2049.24 137.787 Q2053.71 137.787 2056 140.565 Q2058.29 143.319 2058.29 148.689 Z\" fill=\"#000000\" fill-rule=\"nonzero\" fill-opacity=\"1\" /><path clip-path=\"url(#clip420)\" d=\"M2066.79 138.412 L2071.05 138.412 L2071.05 164.338 L2066.79 164.338 L2066.79 138.412 M2066.79 128.319 L2071.05 128.319 L2071.05 133.713 L2066.79 133.713 L2066.79 128.319 Z\" fill=\"#000000\" fill-rule=\"nonzero\" fill-opacity=\"1\" /><path clip-path=\"url(#clip420)\" d=\"M2084.17 131.051 L2084.17 138.412 L2092.95 138.412 L2092.95 141.722 L2084.17 141.722 L2084.17 155.796 Q2084.17 158.967 2085.03 159.87 Q2085.91 160.773 2088.57 160.773 L2092.95 160.773 L2092.95 164.338 L2088.57 164.338 Q2083.64 164.338 2081.76 162.509 Q2079.89 160.657 2079.89 155.796 L2079.89 141.722 L2076.76 141.722 L2076.76 138.412 L2079.89 138.412 L2079.89 131.051 L2084.17 131.051 Z\" fill=\"#000000\" fill-rule=\"nonzero\" fill-opacity=\"1\" /><path clip-path=\"url(#clip420)\" d=\"M2098.55 138.412 L2102.81 138.412 L2102.81 164.338 L2098.55 164.338 L2098.55 138.412 M2098.55 128.319 L2102.81 128.319 L2102.81 133.713 L2098.55 133.713 L2098.55 128.319 Z\" fill=\"#000000\" fill-rule=\"nonzero\" fill-opacity=\"1\" /><path clip-path=\"url(#clip420)\" d=\"M2123.5 151.305 Q2118.34 151.305 2116.35 152.486 Q2114.36 153.666 2114.36 156.514 Q2114.36 158.782 2115.84 160.125 Q2117.34 161.444 2119.91 161.444 Q2123.45 161.444 2125.58 158.944 Q2127.74 156.421 2127.74 152.254 L2127.74 151.305 L2123.5 151.305 M2132 149.546 L2132 164.338 L2127.74 164.338 L2127.74 160.402 Q2126.28 162.763 2124.1 163.898 Q2121.93 165.009 2118.78 165.009 Q2114.8 165.009 2112.44 162.787 Q2110.1 160.541 2110.1 156.791 Q2110.1 152.416 2113.01 150.194 Q2115.95 147.972 2121.76 147.972 L2127.74 147.972 L2127.74 147.555 Q2127.74 144.615 2125.79 143.018 Q2123.87 141.398 2120.38 141.398 Q2118.15 141.398 2116.05 141.93 Q2113.94 142.463 2112 143.527 L2112 139.592 Q2114.33 138.69 2116.53 138.25 Q2118.73 137.787 2120.82 137.787 Q2126.44 137.787 2129.22 140.703 Q2132 143.62 2132 149.546 Z\" fill=\"#000000\" fill-rule=\"nonzero\" fill-opacity=\"1\" /><path clip-path=\"url(#clip420)\" d=\"M2140.77 128.319 L2145.03 128.319 L2145.03 164.338 L2140.77 164.338 L2140.77 128.319 Z\" fill=\"#000000\" fill-rule=\"nonzero\" fill-opacity=\"1\" /><path clip-path=\"url(#clip420)\" d=\"M2185.54 139.176 L2185.54 143.203 Q2183.73 142.277 2181.79 141.815 Q2179.84 141.352 2177.76 141.352 Q2174.59 141.352 2172.99 142.324 Q2171.42 143.296 2171.42 145.24 Q2171.42 146.722 2172.55 147.578 Q2173.69 148.412 2177.11 149.176 L2178.57 149.5 Q2183.11 150.472 2185 152.254 Q2186.93 154.014 2186.93 157.185 Q2186.93 160.796 2184.06 162.902 Q2181.21 165.009 2176.21 165.009 Q2174.13 165.009 2171.86 164.592 Q2169.61 164.199 2167.11 163.388 L2167.11 158.99 Q2169.47 160.217 2171.76 160.842 Q2174.06 161.444 2176.3 161.444 Q2179.31 161.444 2180.93 160.426 Q2182.55 159.384 2182.55 157.509 Q2182.55 155.773 2181.37 154.847 Q2180.21 153.921 2176.25 153.064 L2174.77 152.717 Q2170.81 151.884 2169.06 150.171 Q2167.3 148.435 2167.3 145.426 Q2167.3 141.768 2169.89 139.778 Q2172.48 137.787 2177.25 137.787 Q2179.61 137.787 2181.69 138.134 Q2183.78 138.481 2185.54 139.176 Z\" fill=\"#000000\" fill-rule=\"nonzero\" fill-opacity=\"1\" /><path clip-path=\"url(#clip420)\" d=\"M2215.88 150.31 L2215.88 152.393 L2196.3 152.393 Q2196.58 156.791 2198.94 159.106 Q2201.32 161.398 2205.56 161.398 Q2208.01 161.398 2210.31 160.796 Q2212.62 160.194 2214.89 158.99 L2214.89 163.018 Q2212.6 163.99 2210.19 164.5 Q2207.78 165.009 2205.31 165.009 Q2199.1 165.009 2195.47 161.398 Q2191.86 157.787 2191.86 151.629 Q2191.86 145.264 2195.28 141.537 Q2198.73 137.787 2204.56 137.787 Q2209.8 137.787 2212.83 141.166 Q2215.88 144.523 2215.88 150.31 M2211.62 149.06 Q2211.58 145.565 2209.66 143.481 Q2207.76 141.398 2204.61 141.398 Q2201.05 141.398 2198.89 143.412 Q2196.76 145.426 2196.44 149.083 L2211.62 149.06 Z\" fill=\"#000000\" fill-rule=\"nonzero\" fill-opacity=\"1\" /><path clip-path=\"url(#clip420)\" d=\"M2227.09 131.051 L2227.09 138.412 L2235.86 138.412 L2235.86 141.722 L2227.09 141.722 L2227.09 155.796 Q2227.09 158.967 2227.94 159.87 Q2228.82 160.773 2231.49 160.773 L2235.86 160.773 L2235.86 164.338 L2231.49 164.338 Q2226.56 164.338 2224.68 162.509 Q2222.81 160.657 2222.81 155.796 L2222.81 141.722 L2219.68 141.722 L2219.68 138.412 L2222.81 138.412 L2222.81 131.051 L2227.09 131.051 Z\" fill=\"#000000\" fill-rule=\"nonzero\" fill-opacity=\"1\" /><path clip-path=\"url(#clip420)\" d=\"M1853.87 219.634 L1998.79 219.634 L1998.79 178.162 L1853.87 178.162 L1853.87 219.634  Z\" fill=\"#ff0000\" fill-rule=\"evenodd\" fill-opacity=\"1\"/>\n",
       "<polyline clip-path=\"url(#clip420)\" style=\"stroke:#000000; stroke-linecap:round; stroke-linejoin:round; stroke-width:4; stroke-opacity:1; fill:none\" points=\"1853.87,219.634 1998.79,219.634 1998.79,178.162 1853.87,178.162 1853.87,219.634 \"/>\n",
       "<path clip-path=\"url(#clip420)\" d=\"M2022.95 181.618 L2052.18 181.618 L2052.18 185.553 L2039.91 185.553 L2039.91 216.178 L2035.21 216.178 L2035.21 185.553 L2022.95 185.553 L2022.95 181.618 Z\" fill=\"#000000\" fill-rule=\"nonzero\" fill-opacity=\"1\" /><path clip-path=\"url(#clip420)\" d=\"M2060.45 203.145 Q2055.28 203.145 2053.29 204.326 Q2051.3 205.506 2051.3 208.354 Q2051.3 210.622 2052.78 211.965 Q2054.29 213.284 2056.86 213.284 Q2060.4 213.284 2062.53 210.784 Q2064.68 208.261 2064.68 204.094 L2064.68 203.145 L2060.45 203.145 M2068.94 201.386 L2068.94 216.178 L2064.68 216.178 L2064.68 212.242 Q2063.22 214.603 2061.05 215.738 Q2058.87 216.849 2055.72 216.849 Q2051.74 216.849 2049.38 214.627 Q2047.04 212.381 2047.04 208.631 Q2047.04 204.256 2049.96 202.034 Q2052.9 199.812 2058.71 199.812 L2064.68 199.812 L2064.68 199.395 Q2064.68 196.455 2062.74 194.858 Q2060.82 193.238 2057.32 193.238 Q2055.1 193.238 2052.99 193.77 Q2050.89 194.303 2048.94 195.367 L2048.94 191.432 Q2051.28 190.53 2053.48 190.09 Q2055.68 189.627 2057.76 189.627 Q2063.39 189.627 2066.16 192.543 Q2068.94 195.46 2068.94 201.386 Z\" fill=\"#000000\" fill-rule=\"nonzero\" fill-opacity=\"1\" /><path clip-path=\"url(#clip420)\" d=\"M2092.74 194.233 Q2092.02 193.817 2091.16 193.631 Q2090.33 193.423 2089.31 193.423 Q2085.7 193.423 2083.76 195.784 Q2081.83 198.122 2081.83 202.52 L2081.83 216.178 L2077.55 216.178 L2077.55 190.252 L2081.83 190.252 L2081.83 194.28 Q2083.18 191.918 2085.33 190.784 Q2087.48 189.627 2090.56 189.627 Q2091 189.627 2091.53 189.696 Q2092.07 189.743 2092.71 189.858 L2092.74 194.233 Z\" fill=\"#000000\" fill-rule=\"nonzero\" fill-opacity=\"1\" /><path clip-path=\"url(#clip420)\" d=\"M2113.43 202.914 Q2113.43 198.284 2111.51 195.738 Q2109.61 193.192 2106.16 193.192 Q2102.74 193.192 2100.82 195.738 Q2098.92 198.284 2098.92 202.914 Q2098.92 207.52 2100.82 210.066 Q2102.74 212.613 2106.16 212.613 Q2109.61 212.613 2111.51 210.066 Q2113.43 207.52 2113.43 202.914 M2117.69 212.96 Q2117.69 219.58 2114.75 222.798 Q2111.81 226.039 2105.75 226.039 Q2103.5 226.039 2101.51 225.691 Q2099.52 225.367 2097.64 224.673 L2097.64 220.529 Q2099.52 221.548 2101.35 222.034 Q2103.18 222.52 2105.07 222.52 Q2109.26 222.52 2111.35 220.321 Q2113.43 218.145 2113.43 213.724 L2113.43 211.617 Q2112.11 213.909 2110.05 215.043 Q2107.99 216.178 2105.12 216.178 Q2100.35 216.178 2097.44 212.543 Q2094.52 208.909 2094.52 202.914 Q2094.52 196.895 2097.44 193.261 Q2100.35 189.627 2105.12 189.627 Q2107.99 189.627 2110.05 190.761 Q2112.11 191.895 2113.43 194.187 L2113.43 190.252 L2117.69 190.252 L2117.69 212.96 Z\" fill=\"#000000\" fill-rule=\"nonzero\" fill-opacity=\"1\" /><path clip-path=\"url(#clip420)\" d=\"M2148.64 202.15 L2148.64 204.233 L2129.06 204.233 Q2129.33 208.631 2131.69 210.946 Q2134.08 213.238 2138.32 213.238 Q2140.77 213.238 2143.06 212.636 Q2145.38 212.034 2147.64 210.83 L2147.64 214.858 Q2145.35 215.83 2142.94 216.34 Q2140.54 216.849 2138.06 216.849 Q2131.86 216.849 2128.22 213.238 Q2124.61 209.627 2124.61 203.469 Q2124.61 197.104 2128.04 193.377 Q2131.49 189.627 2137.32 189.627 Q2142.55 189.627 2145.58 193.006 Q2148.64 196.363 2148.64 202.15 M2144.38 200.9 Q2144.33 197.405 2142.41 195.321 Q2140.51 193.238 2137.37 193.238 Q2133.8 193.238 2131.65 195.252 Q2129.52 197.266 2129.19 200.923 L2144.38 200.9 Z\" fill=\"#000000\" fill-rule=\"nonzero\" fill-opacity=\"1\" /><path clip-path=\"url(#clip420)\" d=\"M2159.84 182.891 L2159.84 190.252 L2168.62 190.252 L2168.62 193.562 L2159.84 193.562 L2159.84 207.636 Q2159.84 210.807 2160.7 211.71 Q2161.58 212.613 2164.24 212.613 L2168.62 212.613 L2168.62 216.178 L2164.24 216.178 Q2159.31 216.178 2157.44 214.349 Q2155.56 212.497 2155.56 207.636 L2155.56 193.562 L2152.44 193.562 L2152.44 190.252 L2155.56 190.252 L2155.56 182.891 L2159.84 182.891 Z\" fill=\"#000000\" fill-rule=\"nonzero\" fill-opacity=\"1\" /><path clip-path=\"url(#clip420)\" d=\"M2205.81 191.016 L2205.81 195.043 Q2204.01 194.117 2202.06 193.655 Q2200.12 193.192 2198.04 193.192 Q2194.87 193.192 2193.27 194.164 Q2191.69 195.136 2191.69 197.08 Q2191.69 198.562 2192.83 199.418 Q2193.96 200.252 2197.39 201.016 L2198.85 201.34 Q2203.38 202.312 2205.28 204.094 Q2207.2 205.854 2207.2 209.025 Q2207.2 212.636 2204.33 214.742 Q2201.49 216.849 2196.49 216.849 Q2194.4 216.849 2192.13 216.432 Q2189.89 216.039 2187.39 215.228 L2187.39 210.83 Q2189.75 212.057 2192.04 212.682 Q2194.33 213.284 2196.58 213.284 Q2199.59 213.284 2201.21 212.266 Q2202.83 211.224 2202.83 209.349 Q2202.83 207.613 2201.65 206.687 Q2200.49 205.761 2196.53 204.904 L2195.05 204.557 Q2191.09 203.724 2189.33 202.011 Q2187.57 200.275 2187.57 197.266 Q2187.57 193.608 2190.17 191.618 Q2192.76 189.627 2197.53 189.627 Q2199.89 189.627 2201.97 189.974 Q2204.06 190.321 2205.81 191.016 Z\" fill=\"#000000\" fill-rule=\"nonzero\" fill-opacity=\"1\" /><path clip-path=\"url(#clip420)\" d=\"M2236.16 202.15 L2236.16 204.233 L2216.58 204.233 Q2216.86 208.631 2219.22 210.946 Q2221.6 213.238 2225.84 213.238 Q2228.29 213.238 2230.58 212.636 Q2232.9 212.034 2235.17 210.83 L2235.17 214.858 Q2232.87 215.83 2230.47 216.34 Q2228.06 216.849 2225.58 216.849 Q2219.38 216.849 2215.75 213.238 Q2212.13 209.627 2212.13 203.469 Q2212.13 197.104 2215.56 193.377 Q2219.01 189.627 2224.84 189.627 Q2230.07 189.627 2233.11 193.006 Q2236.16 196.363 2236.16 202.15 M2231.9 200.9 Q2231.86 197.405 2229.94 195.321 Q2228.04 193.238 2224.89 193.238 Q2221.32 193.238 2219.17 195.252 Q2217.04 197.266 2216.72 200.923 L2231.9 200.9 Z\" fill=\"#000000\" fill-rule=\"nonzero\" fill-opacity=\"1\" /><path clip-path=\"url(#clip420)\" d=\"M2247.37 182.891 L2247.37 190.252 L2256.14 190.252 L2256.14 193.562 L2247.37 193.562 L2247.37 207.636 Q2247.37 210.807 2248.22 211.71 Q2249.1 212.613 2251.76 212.613 L2256.14 212.613 L2256.14 216.178 L2251.76 216.178 Q2246.83 216.178 2244.96 214.349 Q2243.08 212.497 2243.08 207.636 L2243.08 193.562 L2239.96 193.562 L2239.96 190.252 L2243.08 190.252 L2243.08 182.891 L2247.37 182.891 Z\" fill=\"#000000\" fill-rule=\"nonzero\" fill-opacity=\"1\" /></svg>\n"
      ]
     },
     "metadata": {},
     "execution_count": 16
    }
   ],
   "cell_type": "code",
   "source": [
    "plot!(concrete_problem.initial_set; color = :green, opacity = 1.0, label = \"Initial set\");\n",
    "plot!(concrete_problem.target_set; color = :red, opacity = 1.0, label = \"Target set\");\n",
    "plot!(control_trajectory; markersize = 1, arrows = false)"
   ],
   "metadata": {},
   "execution_count": 16
  },
  {
   "cell_type": "markdown",
   "source": [
    "---\n",
    "\n",
    "*This notebook was generated using [Literate.jl](https://github.com/fredrikekre/Literate.jl).*"
   ],
   "metadata": {}
  }
 ],
 "nbformat_minor": 3,
 "metadata": {
  "language_info": {
   "file_extension": ".jl",
   "mimetype": "application/julia",
   "name": "julia",
   "version": "1.11.6"
  },
  "kernelspec": {
   "name": "julia-1.11",
   "display_name": "Julia 1.11.6",
   "language": "julia"
  }
 },
 "nbformat": 4
}
