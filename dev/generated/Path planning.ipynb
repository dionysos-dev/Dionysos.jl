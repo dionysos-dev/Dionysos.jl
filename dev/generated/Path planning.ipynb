{
 "cells": [
  {
   "cell_type": "markdown",
   "source": [
    "# Example: Path planning problem\n",
    "\n",
    "\n",
    "This example was borrowed from [1, IX. Examples, A] whose dynamics comes from the model given in [2, Ch. 2.4].\n",
    "This is a **reachability problem** for a **continuous system**.\n",
    "\n",
    "Let us consider the 3-dimensional state space control system of the form\n",
    "$$\n",
    "\\dot{x} = f(x, u)\n",
    "$$\n",
    "with $f: \\mathbb{R}^3 × U ↦ \\mathbb{R}^3$ given by\n",
    "$$\n",
    "f(x,(u_1,u_2)) = \\begin{bmatrix} u_1 \\cos(α+x_3)\\cos(α^{-1}) \\\\ u_1 \\sin(α+x_3)\\cos(α^{-1}) \\\\ u_1 \\tan(u_2)  \\end{bmatrix}\n",
    "$$\n",
    "and with $U = [−1, 1] \\times [−1, 1]$ and $α = \\arctan(\\tan(u_2)/2)$. Here, $(x_1, x_2)$ is the position and $x_3$ is the\n",
    "orientation of the vehicle in the 2-dimensional plane. The control inputs $u_1$ and $u_2$ are the rear\n",
    "wheel velocity and the steering angle.\n",
    "The control objective is to drive the vehicle which is situated in a maze made of obstacles from an initial position to a target position.\n",
    "\n",
    "\n",
    "In order to study the concrete system and its symbolic abstraction in a unified framework, we will solve the problem\n",
    "for the sampled system with a sampling time $\\tau$.\n",
    "\n",
    "The abstraction is based on a feedback refinment relation [1,V.2 Definition].\n",
    "Basically, this is equivalent to an alternating simulation relationship with the additional constraint that the input of the\n",
    "concrete and symbolic system preserving the relation must be identical.\n",
    "This allows to easily determine the controller of the concrete system from the abstraction controller by simply adding a quantization step.\n",
    "\n",
    "For the construction of the relations in the abstraction, it is necessary to over-approximate attainable sets of\n",
    "a particular cell. In this example, we consider the used of a growth bound function  [1, VIII.2, VIII.5] which is one of the possible methods to over-approximate\n",
    "attainable sets of a particular cell based on the state reach by its center. Therefore, it is used\n",
    "to compute the relations in the abstraction based on the feedback refinement relation.\n",
    "\n",
    "For this reachability problem, the abstraction controller is built by solving a fixed-point equation which consists in computing the the pre-image\n",
    "of the target set."
   ],
   "metadata": {}
  },
  {
   "cell_type": "markdown",
   "source": [
    "First, let us import [StaticArrays](https://github.com/JuliaArrays/StaticArrays.jl) and [Plots]."
   ],
   "metadata": {}
  },
  {
   "outputs": [],
   "cell_type": "code",
   "source": [
    "using StaticArrays, Plots"
   ],
   "metadata": {},
   "execution_count": 1
  },
  {
   "cell_type": "markdown",
   "source": [
    "At this point, we import the useful Dionysos sub-module for this problem."
   ],
   "metadata": {}
  },
  {
   "outputs": [
    {
     "output_type": "execute_result",
     "data": {
      "text/plain": "Dionysos.Control"
     },
     "metadata": {},
     "execution_count": 2
    }
   ],
   "cell_type": "code",
   "source": [
    "using Dionysos\n",
    "using Dionysos.Problem\n",
    "const DI = Dionysos\n",
    "const UT = DI.Utils\n",
    "const DO = DI.Domain\n",
    "const ST = DI.System\n",
    "const SY = DI.Symbolic\n",
    "const CO = DI.Control"
   ],
   "metadata": {},
   "execution_count": 2
  },
  {
   "cell_type": "markdown",
   "source": [
    "And the file defining the hybrid system for this problem"
   ],
   "metadata": {}
  },
  {
   "outputs": [
    {
     "output_type": "execute_result",
     "data": {
      "text/plain": "Main.var\"##357\".PathPlanning"
     },
     "metadata": {},
     "execution_count": 3
    }
   ],
   "cell_type": "code",
   "source": [
    "include(joinpath(dirname(dirname(pathof(Dionysos))), \"problems\", \"PathPlanning.jl\"))"
   ],
   "metadata": {},
   "execution_count": 3
  },
  {
   "cell_type": "markdown",
   "source": [
    "### Definition of the problem"
   ],
   "metadata": {}
  },
  {
   "cell_type": "markdown",
   "source": [
    "Now we instantiate the problem using the function provided by [PathPlanning.jl](https://github.com/dionysos-dev/Dionysos.jl/blob/master/problems/PathPlanning.jl)"
   ],
   "metadata": {}
  },
  {
   "outputs": [],
   "cell_type": "code",
   "source": [
    "problem = PathPlanning.problem();"
   ],
   "metadata": {},
   "execution_count": 4
  },
  {
   "cell_type": "markdown",
   "source": [
    "`F_sys` is the function, `_X_` the state domain and `_U_` the input domain"
   ],
   "metadata": {}
  },
  {
   "outputs": [],
   "cell_type": "code",
   "source": [
    "F_sys = problem.system.f;\n",
    "_X_ = problem.system.X;\n",
    "_U_ = problem.system.U;"
   ],
   "metadata": {},
   "execution_count": 5
  },
  {
   "cell_type": "markdown",
   "source": [
    "### Definition of the abstraction"
   ],
   "metadata": {}
  },
  {
   "cell_type": "markdown",
   "source": [
    "Definition of the grid of the state-space on which the abstraction is based (origin `x0` and state-space discretization `h`):"
   ],
   "metadata": {}
  },
  {
   "outputs": [],
   "cell_type": "code",
   "source": [
    "x0 = SVector(0.0, 0.0, 0.0);\n",
    "h = SVector(0.2, 0.2, 0.2);\n",
    "state_grid = DO.GridFree(x0, h);"
   ],
   "metadata": {},
   "execution_count": 6
  },
  {
   "cell_type": "markdown",
   "source": [
    "Definition of the grid of the input-space on which the abstraction is based (origin `u0` and input-space discretization `h`):"
   ],
   "metadata": {}
  },
  {
   "outputs": [],
   "cell_type": "code",
   "source": [
    "u0 = SVector(0.0, 0.0);\n",
    "h = SVector(0.3, 0.3);\n",
    "input_grid = DO.GridFree(u0, h);"
   ],
   "metadata": {},
   "execution_count": 7
  },
  {
   "cell_type": "markdown",
   "source": [
    "We now solve the optimal control problem with the `Abstraction.Optimizer`."
   ],
   "metadata": {}
  },
  {
   "outputs": [
    {
     "name": "stdout",
     "output_type": "stream",
     "text": [
      "compute_symmodel_from_controlsystem! started\n",
      "compute_symmodel_from_controlsystem! terminated with success: 19907665 transitions created\n",
      " 17.563201 seconds (144.69 M allocations: 6.501 GiB, 12.05% gc time, 1.54% compilation time)\n",
      "compute_controller_reach! started\n",
      "\n",
      "compute_controller_reach! terminated with success\n",
      " 22.201928 seconds (96.49 M allocations: 3.342 GiB, 3.22% gc time, 0.75% compilation time)\n"
     ]
    },
    {
     "output_type": "execute_result",
     "data": {
      "text/plain": "(::Dionysos.Problem.Abstraction.var\"#controller#10\"{Dionysos.Problem.Abstraction.var\"#controller#9#11\"{Dionysos.Problem.Abstraction.Optimizer{Float64}, Dionysos.Symbolic.SymbolicModelList{3, 2, Dionysos.Domain.DomainList{3, Float64, Dionysos.Domain.GridFree{3, Float64}}, Dionysos.Domain.DomainList{2, Float64, Dionysos.Domain.GridFree{2, Float64}}, Dionysos.Symbolic.AutomatonList{Dionysos.Utils.SortedTupleSet{3, Tuple{Int64, Int64, Int64}}}}}}) (generic function with 1 method)"
     },
     "metadata": {},
     "execution_count": 8
    }
   ],
   "cell_type": "code",
   "source": [
    "using JuMP\n",
    "optimizer = MOI.instantiate(Abstraction.Optimizer)\n",
    "MOI.set(optimizer, MOI.RawOptimizerAttribute(\"problem\"), problem)\n",
    "MOI.set(optimizer, MOI.RawOptimizerAttribute(\"state_grid\"), state_grid)\n",
    "MOI.set(optimizer, MOI.RawOptimizerAttribute(\"input_grid\"), input_grid)\n",
    "MOI.optimize!(optimizer)\n",
    "\n",
    "abstract_controller = MOI.get(optimizer, MOI.RawOptimizerAttribute(\"abstract_controller\"))\n",
    "controller = MOI.get(optimizer, MOI.RawOptimizerAttribute(\"controller\"))"
   ],
   "metadata": {},
   "execution_count": 8
  },
  {
   "cell_type": "markdown",
   "source": [
    "### Trajectory display\n",
    "We choose a stopping criterion `reached` and the maximal number of steps `nsteps` for the sampled system, i.e. the total elapsed time: `nstep`*`tstep`\n",
    "as well as the true initial state `x0` which is contained in the initial state-space `_I_` defined previously."
   ],
   "metadata": {}
  },
  {
   "outputs": [
    {
     "output_type": "execute_result",
     "data": {
      "text/plain": "(StaticArraysCore.SVector{3, Float64}[[0.4, 0.4, 0.0], [0.6361574895418133, 0.6123493106253217, 0.3402427187385915], [0.9064210490168157, 0.651822817167465, 0.25672193134399335], [1.1675724772687568, 0.7203788637423042, 0.25672193134399335], [1.4499083843635785, 0.5749518196456666, -0.08352078739459817], [1.7213375033055254, 0.6053949254206925, 8.326672684688674e-17], [1.9892807883414971, 0.6583755379403946, 0.08352078739459834], [2.251870227895831, 0.7335242939738218, 0.1670415747891966], [2.520047068676991, 0.5633956025123956, -0.17320114394939495], [2.789266734935189, 0.7318692232652173, 0.16704157478919657], [3.0574435757163494, 0.5617405318037911, -0.17320114394939495]], Any[[0.8999999999999999, 0.8999999999999999], [0.8999999999999999, -0.3], [0.8999999999999999, 0.0], [0.8999999999999999, -0.8999999999999999], [0.8999999999999999, 0.3], [0.8999999999999999, 0.3], [0.8999999999999999, 0.3], [0.8999999999999999, -0.8999999999999999], [0.8999999999999999, 0.8999999999999999], [0.8999999999999999, -0.8999999999999999]])"
     },
     "metadata": {},
     "execution_count": 9
    }
   ],
   "cell_type": "code",
   "source": [
    "nstep = 100\n",
    "function reached(x)\n",
    "    if x∈problem.target_set\n",
    "        return true\n",
    "    else\n",
    "        return false\n",
    "    end\n",
    "end\n",
    "\n",
    "x0 = SVector(0.4, 0.4, 0.0)\n",
    "x_traj, u_traj = CO.get_closed_loop_trajectory(problem.system.f, controller, x0, nstep; stopping=reached)"
   ],
   "metadata": {},
   "execution_count": 9
  },
  {
   "cell_type": "markdown",
   "source": [
    "Here we display the coordinate projection on the two first components of the state space along the trajectory."
   ],
   "metadata": {}
  },
  {
   "outputs": [
    {
     "name": "stdout",
     "output_type": "stream",
     "text": [
      "qt.qpa.xcb: could not connect to display \n",
      "qt.qpa.plugin: Could not load the Qt platform plugin \"xcb\" in \"\" even though it was found.\n",
      "This application failed to start because no Qt platform plugin could be initialized. Reinstalling the application may fix this problem.\n",
      "\n",
      "Available platform plugins are: linuxfb, minimal, offscreen, vnc, xcb.\n",
      "\n",
      "Aborted (core dumped)\n",
      "connect: Connection refused\n",
      "GKS: can't connect to GKS socket application\n",
      "\n",
      "GKS: Open failed in routine OPEN_WS\n",
      "GKS: GKS not in proper state. GKS must be either in the state WSOP or WSAC in routine ACTIVATE_WS\n",
      "qt.qpa.xcb: could not connect to display \n",
      "qt.qpa.plugin: Could not load the Qt platform plugin \"xcb\" in \"\" even though it was found.\n",
      "This application failed to start because no Qt platform plugin could be initialized. Reinstalling the application may fix this problem.\n",
      "\n",
      "Available platform plugins are: linuxfb, minimal, offscreen, vnc, xcb.\n",
      "\n",
      "Aborted (core dumped)\n",
      "connect: Connection refused\n",
      "GKS: can't connect to GKS socket application\n",
      "\n",
      "GKS: Open failed in routine OPEN_WS\n",
      "GKS: GKS not in proper state. GKS must be either in the state WSOP or WSAC in routine ACTIVATE_WS\n",
      "qt.qpa.xcb: could not connect to display \n",
      "qt.qpa.plugin: Could not load the Qt platform plugin \"xcb\" in \"\" even though it was found.\n",
      "This application failed to start because no Qt platform plugin could be initialized. Reinstalling the application may fix this problem.\n",
      "\n",
      "Available platform plugins are: linuxfb, minimal, offscreen, vnc, xcb.\n",
      "\n",
      "Aborted (core dumped)\n",
      "connect: Connection refused\n",
      "GKS: can't connect to GKS socket application\n",
      "\n",
      "GKS: Open failed in routine OPEN_WS\n",
      "GKS: GKS not in proper state. GKS must be either in the state WSOP or WSAC in routine ACTIVATE_WS\n"
     ]
    },
    {
     "output_type": "display_data",
     "data": {
      "text/plain": "Plot{Plots.GRBackend() n=27}",
      "image/png": "[encoded data removed]",
      "text/html": [
       "<?xml version=\"1.0\" encoding=\"utf-8\"?>\n",
       "<svg xmlns=\"http://www.w3.org/2000/svg\" xmlns:xlink=\"http://www.w3.org/1999/xlink\" width=\"600\" height=\"400\" viewBox=\"0 0 2400 1600\">\n",
       "<defs>\n",
       "  <clipPath id=\"clip320\">\n",
       "    <rect x=\"0\" y=\"0\" width=\"2400\" height=\"1600\"/>\n",
       "  </clipPath>\n",
       "</defs>\n",
       "<path clip-path=\"url(#clip320)\" d=\"M0 1600 L2400 1600 L2400 0 L0 0  Z\" fill=\"#ffffff\" fill-rule=\"evenodd\" fill-opacity=\"1\"/>\n",
       "<defs>\n",
       "  <clipPath id=\"clip321\">\n",
       "    <rect x=\"480\" y=\"0\" width=\"1681\" height=\"1600\"/>\n",
       "  </clipPath>\n",
       "</defs>\n",
       "<path clip-path=\"url(#clip320)\" d=\"M86.9921 1521.01 L2352.76 1521.01 L2352.76 47.2441 L86.9921 47.2441  Z\" fill=\"#ffffff\" fill-rule=\"evenodd\" fill-opacity=\"1\"/>\n",
       "<defs>\n",
       "  <clipPath id=\"clip322\">\n",
       "    <rect x=\"86\" y=\"47\" width=\"2267\" height=\"1475\"/>\n",
       "  </clipPath>\n",
       "</defs>\n",
       "<polyline clip-path=\"url(#clip322)\" style=\"stroke:#000000; stroke-linecap:round; stroke-linejoin:round; stroke-width:2; stroke-opacity:0.1; fill:none\" points=\"246.634,1521.01 246.634,47.2441 \"/>\n",
       "<polyline clip-path=\"url(#clip322)\" style=\"stroke:#000000; stroke-linecap:round; stroke-linejoin:round; stroke-width:2; stroke-opacity:0.1; fill:none\" points=\"941.805,1521.01 941.805,47.2441 \"/>\n",
       "<polyline clip-path=\"url(#clip322)\" style=\"stroke:#000000; stroke-linecap:round; stroke-linejoin:round; stroke-width:2; stroke-opacity:0.1; fill:none\" points=\"1636.98,1521.01 1636.98,47.2441 \"/>\n",
       "<polyline clip-path=\"url(#clip322)\" style=\"stroke:#000000; stroke-linecap:round; stroke-linejoin:round; stroke-width:2; stroke-opacity:0.1; fill:none\" points=\"2332.15,1521.01 2332.15,47.2441 \"/>\n",
       "<polyline clip-path=\"url(#clip320)\" style=\"stroke:#000000; stroke-linecap:round; stroke-linejoin:round; stroke-width:4; stroke-opacity:1; fill:none\" points=\"86.9921,1521.01 2352.76,1521.01 \"/>\n",
       "<polyline clip-path=\"url(#clip320)\" style=\"stroke:#000000; stroke-linecap:round; stroke-linejoin:round; stroke-width:4; stroke-opacity:1; fill:none\" points=\"246.634,1521.01 246.634,1502.11 \"/>\n",
       "<polyline clip-path=\"url(#clip320)\" style=\"stroke:#000000; stroke-linecap:round; stroke-linejoin:round; stroke-width:4; stroke-opacity:1; fill:none\" points=\"941.805,1521.01 941.805,1502.11 \"/>\n",
       "<polyline clip-path=\"url(#clip320)\" style=\"stroke:#000000; stroke-linecap:round; stroke-linejoin:round; stroke-width:4; stroke-opacity:1; fill:none\" points=\"1636.98,1521.01 1636.98,1502.11 \"/>\n",
       "<polyline clip-path=\"url(#clip320)\" style=\"stroke:#000000; stroke-linecap:round; stroke-linejoin:round; stroke-width:4; stroke-opacity:1; fill:none\" points=\"2332.15,1521.01 2332.15,1502.11 \"/>\n",
       "<path clip-path=\"url(#clip320)\" d=\"M216.275 1566.58 L245.951 1566.58 L245.951 1570.51 L216.275 1570.51 L216.275 1566.58 Z\" fill=\"#000000\" fill-rule=\"nonzero\" fill-opacity=\"1\" /><path clip-path=\"url(#clip320)\" d=\"M256.09 1548.85 L274.446 1548.85 L274.446 1552.78 L260.372 1552.78 L260.372 1561.26 Q261.391 1560.91 262.409 1560.75 Q263.428 1560.56 264.446 1560.56 Q270.233 1560.56 273.613 1563.73 Q276.992 1566.9 276.992 1572.32 Q276.992 1577.9 273.52 1581 Q270.048 1584.08 263.729 1584.08 Q261.553 1584.08 259.284 1583.71 Q257.039 1583.34 254.631 1582.6 L254.631 1577.9 Q256.715 1579.03 258.937 1579.59 Q261.159 1580.14 263.636 1580.14 Q267.641 1580.14 269.979 1578.04 Q272.317 1575.93 272.317 1572.32 Q272.317 1568.71 269.979 1566.6 Q267.641 1564.5 263.636 1564.5 Q261.761 1564.5 259.886 1564.91 Q258.034 1565.33 256.09 1566.21 L256.09 1548.85 Z\" fill=\"#000000\" fill-rule=\"nonzero\" fill-opacity=\"1\" /><path clip-path=\"url(#clip320)\" d=\"M941.805 1551.93 Q938.194 1551.93 936.366 1555.49 Q934.56 1559.03 934.56 1566.16 Q934.56 1573.27 936.366 1576.83 Q938.194 1580.38 941.805 1580.38 Q945.44 1580.38 947.245 1576.83 Q949.074 1573.27 949.074 1566.16 Q949.074 1559.03 947.245 1555.49 Q945.44 1551.93 941.805 1551.93 M941.805 1548.22 Q947.616 1548.22 950.671 1552.83 Q953.75 1557.41 953.75 1566.16 Q953.75 1574.89 950.671 1579.5 Q947.616 1584.08 941.805 1584.08 Q935.995 1584.08 932.917 1579.5 Q929.861 1574.89 929.861 1566.16 Q929.861 1557.41 932.917 1552.83 Q935.995 1548.22 941.805 1548.22 Z\" fill=\"#000000\" fill-rule=\"nonzero\" fill-opacity=\"1\" /><path clip-path=\"url(#clip320)\" d=\"M1627.25 1548.85 L1645.61 1548.85 L1645.61 1552.78 L1631.54 1552.78 L1631.54 1561.26 Q1632.56 1560.91 1633.57 1560.75 Q1634.59 1560.56 1635.61 1560.56 Q1641.4 1560.56 1644.78 1563.73 Q1648.16 1566.9 1648.16 1572.32 Q1648.16 1577.9 1644.69 1581 Q1641.21 1584.08 1634.89 1584.08 Q1632.72 1584.08 1630.45 1583.71 Q1628.2 1583.34 1625.8 1582.6 L1625.8 1577.9 Q1627.88 1579.03 1630.1 1579.59 Q1632.32 1580.14 1634.8 1580.14 Q1638.81 1580.14 1641.14 1578.04 Q1643.48 1575.93 1643.48 1572.32 Q1643.48 1568.71 1641.14 1566.6 Q1638.81 1564.5 1634.8 1564.5 Q1632.93 1564.5 1631.05 1564.91 Q1629.2 1565.33 1627.25 1566.21 L1627.25 1548.85 Z\" fill=\"#000000\" fill-rule=\"nonzero\" fill-opacity=\"1\" /><path clip-path=\"url(#clip320)\" d=\"M2306.84 1579.47 L2314.48 1579.47 L2314.48 1553.11 L2306.16 1554.77 L2306.16 1550.51 L2314.43 1548.85 L2319.1 1548.85 L2319.1 1579.47 L2326.74 1579.47 L2326.74 1583.41 L2306.84 1583.41 L2306.84 1579.47 Z\" fill=\"#000000\" fill-rule=\"nonzero\" fill-opacity=\"1\" /><path clip-path=\"url(#clip320)\" d=\"M2346.19 1551.93 Q2342.58 1551.93 2340.75 1555.49 Q2338.94 1559.03 2338.94 1566.16 Q2338.94 1573.27 2340.75 1576.83 Q2342.58 1580.38 2346.19 1580.38 Q2349.82 1580.38 2351.63 1576.83 Q2353.46 1573.27 2353.46 1566.16 Q2353.46 1559.03 2351.63 1555.49 Q2349.82 1551.93 2346.19 1551.93 M2346.19 1548.22 Q2352 1548.22 2355.05 1552.83 Q2358.13 1557.41 2358.13 1566.16 Q2358.13 1574.89 2355.05 1579.5 Q2352 1584.08 2346.19 1584.08 Q2340.38 1584.08 2337.3 1579.5 Q2334.24 1574.89 2334.24 1566.16 Q2334.24 1557.41 2337.3 1552.83 Q2340.38 1548.22 2346.19 1548.22 Z\" fill=\"#000000\" fill-rule=\"nonzero\" fill-opacity=\"1\" /><polyline clip-path=\"url(#clip322)\" style=\"stroke:#000000; stroke-linecap:round; stroke-linejoin:round; stroke-width:2; stroke-opacity:0.1; fill:none\" points=\"86.9921,1479.3 2352.76,1479.3 \"/>\n",
       "<polyline clip-path=\"url(#clip322)\" style=\"stroke:#000000; stroke-linecap:round; stroke-linejoin:round; stroke-width:2; stroke-opacity:0.1; fill:none\" points=\"86.9921,1131.71 2352.76,1131.71 \"/>\n",
       "<polyline clip-path=\"url(#clip322)\" style=\"stroke:#000000; stroke-linecap:round; stroke-linejoin:round; stroke-width:2; stroke-opacity:0.1; fill:none\" points=\"86.9921,784.126 2352.76,784.126 \"/>\n",
       "<polyline clip-path=\"url(#clip322)\" style=\"stroke:#000000; stroke-linecap:round; stroke-linejoin:round; stroke-width:2; stroke-opacity:0.1; fill:none\" points=\"86.9921,436.54 2352.76,436.54 \"/>\n",
       "<polyline clip-path=\"url(#clip322)\" style=\"stroke:#000000; stroke-linecap:round; stroke-linejoin:round; stroke-width:2; stroke-opacity:0.1; fill:none\" points=\"86.9921,88.9544 2352.76,88.9544 \"/>\n",
       "<polyline clip-path=\"url(#clip320)\" style=\"stroke:#000000; stroke-linecap:round; stroke-linejoin:round; stroke-width:4; stroke-opacity:1; fill:none\" points=\"86.9921,1521.01 86.9921,47.2441 \"/>\n",
       "<polyline clip-path=\"url(#clip320)\" style=\"stroke:#000000; stroke-linecap:round; stroke-linejoin:round; stroke-width:4; stroke-opacity:1; fill:none\" points=\"86.9921,1479.3 105.89,1479.3 \"/>\n",
       "<polyline clip-path=\"url(#clip320)\" style=\"stroke:#000000; stroke-linecap:round; stroke-linejoin:round; stroke-width:4; stroke-opacity:1; fill:none\" points=\"86.9921,1131.71 105.89,1131.71 \"/>\n",
       "<polyline clip-path=\"url(#clip320)\" style=\"stroke:#000000; stroke-linecap:round; stroke-linejoin:round; stroke-width:4; stroke-opacity:1; fill:none\" points=\"86.9921,784.126 105.89,784.126 \"/>\n",
       "<polyline clip-path=\"url(#clip320)\" style=\"stroke:#000000; stroke-linecap:round; stroke-linejoin:round; stroke-width:4; stroke-opacity:1; fill:none\" points=\"86.9921,436.54 105.89,436.54 \"/>\n",
       "<polyline clip-path=\"url(#clip320)\" style=\"stroke:#000000; stroke-linecap:round; stroke-linejoin:round; stroke-width:4; stroke-opacity:1; fill:none\" points=\"86.9921,88.9544 105.89,88.9544 \"/>\n",
       "<path clip-path=\"url(#clip320)\" d=\"M-6.18349 1465.1 Q-9.79459 1465.1 -11.6233 1468.66 Q-13.4288 1472.2 -13.4288 1479.33 Q-13.4288 1486.44 -11.6233 1490 Q-9.79459 1493.55 -6.18349 1493.55 Q-2.54925 1493.55 -0.743708 1490 Q1.08499 1486.44 1.08499 1479.33 Q1.08499 1472.2 -0.743708 1468.66 Q-2.54925 1465.1 -6.18349 1465.1 M-6.18349 1461.39 Q-0.37334 1461.39 2.6822 1466 Q5.76089 1470.58 5.76089 1479.33 Q5.76089 1488.06 2.6822 1492.67 Q-0.37334 1497.25 -6.18349 1497.25 Q-11.9936 1497.25 -15.0723 1492.67 Q-18.1279 1488.06 -18.1279 1479.33 Q-18.1279 1470.58 -15.0723 1466 Q-11.9936 1461.39 -6.18349 1461.39 Z\" fill=\"#000000\" fill-rule=\"nonzero\" fill-opacity=\"1\" /><path clip-path=\"url(#clip320)\" d=\"M13.9784 1490.7 L18.8627 1490.7 L18.8627 1496.58 L13.9784 1496.58 L13.9784 1490.7 Z\" fill=\"#000000\" fill-rule=\"nonzero\" fill-opacity=\"1\" /><path clip-path=\"url(#clip320)\" d=\"M39.0477 1465.1 Q35.4367 1465.1 33.608 1468.66 Q31.8024 1472.2 31.8024 1479.33 Q31.8024 1486.44 33.608 1490 Q35.4367 1493.55 39.0477 1493.55 Q42.682 1493.55 44.4875 1490 Q46.3162 1486.44 46.3162 1479.33 Q46.3162 1472.2 44.4875 1468.66 Q42.682 1465.1 39.0477 1465.1 M39.0477 1461.39 Q44.8579 1461.39 47.9134 1466 Q50.9921 1470.58 50.9921 1479.33 Q50.9921 1488.06 47.9134 1492.67 Q44.8579 1497.25 39.0477 1497.25 Q33.2376 1497.25 30.1589 1492.67 Q27.1034 1488.06 27.1034 1479.33 Q27.1034 1470.58 30.1589 1466 Q33.2376 1461.39 39.0477 1461.39 Z\" fill=\"#000000\" fill-rule=\"nonzero\" fill-opacity=\"1\" /><path clip-path=\"url(#clip320)\" d=\"M-11.1603 1145.06 L5.15904 1145.06 L5.15904 1148.99 L-16.7853 1148.99 L-16.7853 1145.06 Q-14.1233 1142.3 -9.53996 1137.67 Q-4.9335 1133.02 -3.75295 1131.68 Q-1.50759 1129.15 -0.627968 1127.42 Q0.274805 1125.66 0.274805 1123.97 Q0.274805 1121.21 -1.66963 1119.48 Q-3.59091 1117.74 -6.69275 1117.74 Q-8.89181 1117.74 -11.3455 1118.51 Q-13.776 1119.27 -16.5538 1120.82 L-16.5538 1116.1 Q-13.7297 1114.96 -11.2761 1114.39 Q-8.82237 1113.81 -6.78534 1113.81 Q-1.415 1113.81 1.77943 1116.49 Q4.97385 1119.18 4.97385 1123.67 Q4.97385 1125.8 4.16367 1127.72 Q3.37664 1129.62 1.27017 1132.21 Q0.69147 1132.88 -2.41037 1136.1 Q-5.5122 1139.29 -11.1603 1145.06 Z\" fill=\"#000000\" fill-rule=\"nonzero\" fill-opacity=\"1\" /><path clip-path=\"url(#clip320)\" d=\"M14.9738 1143.11 L19.858 1143.11 L19.858 1148.99 L14.9738 1148.99 L14.9738 1143.11 Z\" fill=\"#000000\" fill-rule=\"nonzero\" fill-opacity=\"1\" /><path clip-path=\"url(#clip320)\" d=\"M30.0895 1114.43 L48.4458 1114.43 L48.4458 1118.37 L34.3718 1118.37 L34.3718 1126.84 Q35.3904 1126.49 36.4089 1126.33 Q37.4274 1126.14 38.4459 1126.14 Q44.2329 1126.14 47.6125 1129.32 Q50.9921 1132.49 50.9921 1137.9 Q50.9921 1143.48 47.5199 1146.58 Q44.0477 1149.66 37.7283 1149.66 Q35.5524 1149.66 33.2839 1149.29 Q31.0385 1148.92 28.6311 1148.18 L28.6311 1143.48 Q30.7145 1144.62 32.9367 1145.17 Q35.1589 1145.73 37.6357 1145.73 Q41.6403 1145.73 43.9783 1143.62 Q46.3162 1141.51 46.3162 1137.9 Q46.3162 1134.29 43.9783 1132.19 Q41.6403 1130.08 37.6357 1130.08 Q35.7607 1130.08 33.8857 1130.5 Q32.0339 1130.91 30.0895 1131.79 L30.0895 1114.43 Z\" fill=\"#000000\" fill-rule=\"nonzero\" fill-opacity=\"1\" /><path clip-path=\"url(#clip320)\" d=\"M-16.1371 766.846 L2.21924 766.846 L2.21924 770.781 L-11.8548 770.781 L-11.8548 779.253 Q-10.8362 778.906 -9.81773 778.744 Q-8.79922 778.559 -7.78071 778.559 Q-1.9937 778.559 1.38591 781.73 Q4.76552 784.901 4.76552 790.318 Q4.76552 795.897 1.29332 798.999 Q-2.17889 802.077 -8.4983 802.077 Q-10.6742 802.077 -12.9427 801.707 Q-15.1881 801.337 -17.5955 800.596 L-17.5955 795.897 Q-15.5121 797.031 -13.2899 797.587 Q-11.0677 798.142 -8.59089 798.142 Q-4.58628 798.142 -2.24833 796.036 Q0.089621 793.929 0.089621 790.318 Q0.089621 786.707 -2.24833 784.601 Q-4.58628 782.494 -8.59089 782.494 Q-10.4659 782.494 -12.3409 782.911 Q-14.1927 783.327 -16.1371 784.207 L-16.1371 766.846 Z\" fill=\"#000000\" fill-rule=\"nonzero\" fill-opacity=\"1\" /><path clip-path=\"url(#clip320)\" d=\"M13.9784 795.526 L18.8627 795.526 L18.8627 801.406 L13.9784 801.406 L13.9784 795.526 Z\" fill=\"#000000\" fill-rule=\"nonzero\" fill-opacity=\"1\" /><path clip-path=\"url(#clip320)\" d=\"M39.0477 769.925 Q35.4367 769.925 33.608 773.489 Q31.8024 777.031 31.8024 784.161 Q31.8024 791.267 33.608 794.832 Q35.4367 798.374 39.0477 798.374 Q42.682 798.374 44.4875 794.832 Q46.3162 791.267 46.3162 784.161 Q46.3162 777.031 44.4875 773.489 Q42.682 769.925 39.0477 769.925 M39.0477 766.221 Q44.8579 766.221 47.9134 770.827 Q50.9921 775.411 50.9921 784.161 Q50.9921 792.888 47.9134 797.494 Q44.8579 802.077 39.0477 802.077 Q33.2376 802.077 30.1589 797.494 Q27.1034 792.888 27.1034 784.161 Q27.1034 775.411 30.1589 770.827 Q33.2376 766.221 39.0477 766.221 Z\" fill=\"#000000\" fill-rule=\"nonzero\" fill-opacity=\"1\" /><path clip-path=\"url(#clip320)\" d=\"M-16.3686 419.26 L5.85348 419.26 L5.85348 421.251 L-6.69275 453.82 L-11.577 453.82 L0.228509 423.195 L-16.3686 423.195 L-16.3686 419.26 Z\" fill=\"#000000\" fill-rule=\"nonzero\" fill-opacity=\"1\" /><path clip-path=\"url(#clip320)\" d=\"M14.9738 447.941 L19.858 447.941 L19.858 453.82 L14.9738 453.82 L14.9738 447.941 Z\" fill=\"#000000\" fill-rule=\"nonzero\" fill-opacity=\"1\" /><path clip-path=\"url(#clip320)\" d=\"M30.0895 419.26 L48.4458 419.26 L48.4458 423.195 L34.3718 423.195 L34.3718 431.668 Q35.3904 431.32 36.4089 431.158 Q37.4274 430.973 38.4459 430.973 Q44.2329 430.973 47.6125 434.144 Q50.9921 437.316 50.9921 442.732 Q50.9921 448.311 47.5199 451.413 Q44.0477 454.491 37.7283 454.491 Q35.5524 454.491 33.2839 454.121 Q31.0385 453.751 28.6311 453.01 L28.6311 448.311 Q30.7145 449.445 32.9367 450.001 Q35.1589 450.556 37.6357 450.556 Q41.6403 450.556 43.9783 448.45 Q46.3162 446.343 46.3162 442.732 Q46.3162 439.121 43.9783 437.015 Q41.6403 434.908 37.6357 434.908 Q35.7607 434.908 33.8857 435.325 Q32.0339 435.742 30.0895 436.621 L30.0895 419.26 Z\" fill=\"#000000\" fill-rule=\"nonzero\" fill-opacity=\"1\" /><path clip-path=\"url(#clip320)\" d=\"M-45.5351 102.299 L-37.8963 102.299 L-37.8963 75.9336 L-46.2064 77.6003 L-46.2064 73.341 L-37.9426 71.6744 L-33.2667 71.6744 L-33.2667 102.299 L-25.6278 102.299 L-25.6278 106.234 L-45.5351 106.234 L-45.5351 102.299 Z\" fill=\"#000000\" fill-rule=\"nonzero\" fill-opacity=\"1\" /><path clip-path=\"url(#clip320)\" d=\"M-6.18349 74.7531 Q-9.79459 74.7531 -11.6233 78.3179 Q-13.4288 81.8595 -13.4288 88.9891 Q-13.4288 96.0956 -11.6233 99.6604 Q-9.79459 103.202 -6.18349 103.202 Q-2.54925 103.202 -0.743708 99.6604 Q1.08499 96.0956 1.08499 88.9891 Q1.08499 81.8595 -0.743708 78.3179 Q-2.54925 74.7531 -6.18349 74.7531 M-6.18349 71.0494 Q-0.37334 71.0494 2.6822 75.6559 Q5.76089 80.2392 5.76089 88.9891 Q5.76089 97.7159 2.6822 102.322 Q-0.37334 106.906 -6.18349 106.906 Q-11.9936 106.906 -15.0723 102.322 Q-18.1279 97.7159 -18.1279 88.9891 Q-18.1279 80.2392 -15.0723 75.6559 Q-11.9936 71.0494 -6.18349 71.0494 Z\" fill=\"#000000\" fill-rule=\"nonzero\" fill-opacity=\"1\" /><path clip-path=\"url(#clip320)\" d=\"M13.9784 100.355 L18.8627 100.355 L18.8627 106.234 L13.9784 106.234 L13.9784 100.355 Z\" fill=\"#000000\" fill-rule=\"nonzero\" fill-opacity=\"1\" /><path clip-path=\"url(#clip320)\" d=\"M39.0477 74.7531 Q35.4367 74.7531 33.608 78.3179 Q31.8024 81.8595 31.8024 88.9891 Q31.8024 96.0956 33.608 99.6604 Q35.4367 103.202 39.0477 103.202 Q42.682 103.202 44.4875 99.6604 Q46.3162 96.0956 46.3162 88.9891 Q46.3162 81.8595 44.4875 78.3179 Q42.682 74.7531 39.0477 74.7531 M39.0477 71.0494 Q44.8579 71.0494 47.9134 75.6559 Q50.9921 80.2392 50.9921 88.9891 Q50.9921 97.7159 47.9134 102.322 Q44.8579 106.906 39.0477 106.906 Q33.2376 106.906 30.1589 102.322 Q27.1034 97.7159 27.1034 88.9891 Q27.1034 80.2392 30.1589 75.6559 Q33.2376 71.0494 39.0477 71.0494 Z\" fill=\"#000000\" fill-rule=\"nonzero\" fill-opacity=\"1\" /><path clip-path=\"url(#clip322)\" d=\"M941.805 1479.3 L1497.94 1479.3 L1497.94 88.9544 L941.805 88.9544 L941.805 1479.3  Z\" fill=\"#ffff00\" fill-rule=\"evenodd\" fill-opacity=\"0.5\"/>\n",
       "<polyline clip-path=\"url(#clip322)\" style=\"stroke:#000000; stroke-linecap:round; stroke-linejoin:round; stroke-width:4; stroke-opacity:0.5; fill:none\" points=\"941.805,1479.3 1497.94,1479.3 1497.94,88.9544 941.805,88.9544 941.805,1479.3 \"/>\n",
       "<path clip-path=\"url(#clip322)\" d=\"M1080.84 1479.3 L1108.65 1479.3 L1108.65 227.989 L1080.84 227.989 L1080.84 1479.3  Z\" fill=\"#000000\" fill-rule=\"evenodd\" fill-opacity=\"1\"/>\n",
       "<polyline clip-path=\"url(#clip322)\" style=\"stroke:#000000; stroke-linecap:round; stroke-linejoin:round; stroke-width:4; stroke-opacity:1; fill:none\" points=\"1080.84,1479.3 1108.65,1479.3 1108.65,227.989 1080.84,227.989 1080.84,1479.3 \"/>\n",
       "<path clip-path=\"url(#clip322)\" d=\"M1247.68 1479.3 L1275.49 1479.3 L1275.49 784.126 L1247.68 784.126 L1247.68 1479.3  Z\" fill=\"#000000\" fill-rule=\"evenodd\" fill-opacity=\"1\"/>\n",
       "<polyline clip-path=\"url(#clip322)\" style=\"stroke:#000000; stroke-linecap:round; stroke-linejoin:round; stroke-width:4; stroke-opacity:1; fill:none\" points=\"1247.68,1479.3 1275.49,1479.3 1275.49,784.126 1247.68,784.126 1247.68,1479.3 \"/>\n",
       "<path clip-path=\"url(#clip322)\" d=\"M1247.68 645.092 L1275.49 645.092 L1275.49 88.9544 L1247.68 88.9544 L1247.68 645.092  Z\" fill=\"#000000\" fill-rule=\"evenodd\" fill-opacity=\"1\"/>\n",
       "<polyline clip-path=\"url(#clip322)\" style=\"stroke:#000000; stroke-linecap:round; stroke-linejoin:round; stroke-width:4; stroke-opacity:1; fill:none\" points=\"1247.68,645.092 1275.49,645.092 1275.49,88.9544 1247.68,88.9544 1247.68,645.092 \"/>\n",
       "<path clip-path=\"url(#clip322)\" d=\"M997.419 1423.68 L997.419 1423.68 L997.419 1423.68 L997.419 1423.68 L997.419 1423.68  Z\" fill=\"#008000\" fill-rule=\"evenodd\" fill-opacity=\"1\"/>\n",
       "<polyline clip-path=\"url(#clip322)\" style=\"stroke:#000000; stroke-linecap:round; stroke-linejoin:round; stroke-width:4; stroke-opacity:1; fill:none\" points=\"997.419,1423.68 997.419,1423.68 \"/>\n",
       "<path clip-path=\"url(#clip322)\" d=\"M1358.91 1409.78 L1442.33 1409.78 L1442.33 1368.07 L1358.91 1368.07 L1358.91 1409.78  Z\" fill=\"#ff0000\" fill-rule=\"evenodd\" fill-opacity=\"1\"/>\n",
       "<polyline clip-path=\"url(#clip322)\" style=\"stroke:#000000; stroke-linecap:round; stroke-linejoin:round; stroke-width:4; stroke-opacity:1; fill:none\" points=\"1358.91,1409.78 1442.33,1409.78 1442.33,1368.07 1358.91,1368.07 1358.91,1409.78 \"/>\n",
       "<circle clip-path=\"url(#clip322)\" cx=\"997.419\" cy=\"1423.68\" r=\"14.4\" fill=\"#000000\" fill-rule=\"evenodd\" fill-opacity=\"1\" stroke=\"none\"/>\n",
       "<circle clip-path=\"url(#clip322)\" cx=\"1030.25\" cy=\"1394.16\" r=\"14.4\" fill=\"#000000\" fill-rule=\"evenodd\" fill-opacity=\"1\" stroke=\"none\"/>\n",
       "<polyline clip-path=\"url(#clip322)\" style=\"stroke:#000000; stroke-linecap:round; stroke-linejoin:round; stroke-width:4; stroke-opacity:1; fill:none\" points=\"997.419,1423.68 1030.25,1394.16 \"/>\n",
       "<path clip-path=\"url(#clip322)\" d=\"M1003.48 1418.23 L991.448 1404.85 L1030.25 1394.16 L1015.52 1431.62  Z\" fill=\"#000000\" fill-rule=\"evenodd\" fill-opacity=\"1\"/>\n",
       "<polyline clip-path=\"url(#clip322)\" style=\"stroke:#000000; stroke-linecap:round; stroke-linejoin:round; stroke-width:4; stroke-opacity:1; fill:none\" points=\"1003.48,1418.23 997.419,1423.68 \"/>\n",
       "<circle clip-path=\"url(#clip322)\" cx=\"997.419\" cy=\"1423.68\" r=\"14.4\" fill=\"#000000\" fill-rule=\"evenodd\" fill-opacity=\"0\" stroke=\"none\"/>\n",
       "<circle clip-path=\"url(#clip322)\" cx=\"1030.25\" cy=\"1394.16\" r=\"14.4\" fill=\"#000000\" fill-rule=\"evenodd\" fill-opacity=\"0\" stroke=\"none\"/>\n",
       "<circle clip-path=\"url(#clip322)\" cx=\"1067.83\" cy=\"1388.67\" r=\"14.4\" fill=\"#000000\" fill-rule=\"evenodd\" fill-opacity=\"1\" stroke=\"none\"/>\n",
       "<polyline clip-path=\"url(#clip322)\" style=\"stroke:#000000; stroke-linecap:round; stroke-linejoin:round; stroke-width:4; stroke-opacity:1; fill:none\" points=\"1030.25,1394.16 1067.83,1388.67 \"/>\n",
       "<path clip-path=\"url(#clip322)\" d=\"M1032.21 1393.87 L1029.61 1376.06 L1067.83 1388.67 L1034.81 1411.69  Z\" fill=\"#000000\" fill-rule=\"evenodd\" fill-opacity=\"1\"/>\n",
       "<polyline clip-path=\"url(#clip322)\" style=\"stroke:#000000; stroke-linecap:round; stroke-linejoin:round; stroke-width:4; stroke-opacity:1; fill:none\" points=\"1032.21,1393.87 1030.25,1394.16 \"/>\n",
       "<circle clip-path=\"url(#clip322)\" cx=\"1030.25\" cy=\"1394.16\" r=\"14.4\" fill=\"#000000\" fill-rule=\"evenodd\" fill-opacity=\"0\" stroke=\"none\"/>\n",
       "<circle clip-path=\"url(#clip322)\" cx=\"1067.83\" cy=\"1388.67\" r=\"14.4\" fill=\"#000000\" fill-rule=\"evenodd\" fill-opacity=\"0\" stroke=\"none\"/>\n",
       "<circle clip-path=\"url(#clip322)\" cx=\"1104.14\" cy=\"1379.14\" r=\"14.4\" fill=\"#000000\" fill-rule=\"evenodd\" fill-opacity=\"1\" stroke=\"none\"/>\n",
       "<polyline clip-path=\"url(#clip322)\" style=\"stroke:#000000; stroke-linecap:round; stroke-linejoin:round; stroke-width:4; stroke-opacity:1; fill:none\" points=\"1067.83,1388.67 1104.14,1379.14 \"/>\n",
       "<path clip-path=\"url(#clip322)\" d=\"M1069.32 1388.28 L1064.75 1370.87 L1104.14 1379.14 L1073.89 1405.69  Z\" fill=\"#000000\" fill-rule=\"evenodd\" fill-opacity=\"1\"/>\n",
       "<polyline clip-path=\"url(#clip322)\" style=\"stroke:#000000; stroke-linecap:round; stroke-linejoin:round; stroke-width:4; stroke-opacity:1; fill:none\" points=\"1069.32,1388.28 1067.83,1388.67 \"/>\n",
       "<circle clip-path=\"url(#clip322)\" cx=\"1067.83\" cy=\"1388.67\" r=\"14.4\" fill=\"#000000\" fill-rule=\"evenodd\" fill-opacity=\"0\" stroke=\"none\"/>\n",
       "<circle clip-path=\"url(#clip322)\" cx=\"1104.14\" cy=\"1379.14\" r=\"14.4\" fill=\"#000000\" fill-rule=\"evenodd\" fill-opacity=\"0\" stroke=\"none\"/>\n",
       "<circle clip-path=\"url(#clip322)\" cx=\"1143.39\" cy=\"1399.36\" r=\"14.4\" fill=\"#000000\" fill-rule=\"evenodd\" fill-opacity=\"1\" stroke=\"none\"/>\n",
       "<polyline clip-path=\"url(#clip322)\" style=\"stroke:#000000; stroke-linecap:round; stroke-linejoin:round; stroke-width:4; stroke-opacity:1; fill:none\" points=\"1104.14,1379.14 1143.39,1399.36 \"/>\n",
       "<path clip-path=\"url(#clip322)\" d=\"M1111.39 1382.87 L1119.63 1366.87 L1143.39 1399.36 L1103.15 1398.88  Z\" fill=\"#000000\" fill-rule=\"evenodd\" fill-opacity=\"1\"/>\n",
       "<polyline clip-path=\"url(#clip322)\" style=\"stroke:#000000; stroke-linecap:round; stroke-linejoin:round; stroke-width:4; stroke-opacity:1; fill:none\" points=\"1111.39,1382.87 1104.14,1379.14 \"/>\n",
       "<circle clip-path=\"url(#clip322)\" cx=\"1104.14\" cy=\"1379.14\" r=\"14.4\" fill=\"#000000\" fill-rule=\"evenodd\" fill-opacity=\"0\" stroke=\"none\"/>\n",
       "<circle clip-path=\"url(#clip322)\" cx=\"1143.39\" cy=\"1399.36\" r=\"14.4\" fill=\"#000000\" fill-rule=\"evenodd\" fill-opacity=\"0\" stroke=\"none\"/>\n",
       "<circle clip-path=\"url(#clip322)\" cx=\"1181.13\" cy=\"1395.13\" r=\"14.4\" fill=\"#000000\" fill-rule=\"evenodd\" fill-opacity=\"1\" stroke=\"none\"/>\n",
       "<polyline clip-path=\"url(#clip322)\" style=\"stroke:#000000; stroke-linecap:round; stroke-linejoin:round; stroke-width:4; stroke-opacity:1; fill:none\" points=\"1143.39,1399.36 1181.13,1395.13 \"/>\n",
       "<path clip-path=\"url(#clip322)\" d=\"M1145.35 1399.14 L1143.35 1381.25 L1181.13 1395.13 L1147.36 1417.03  Z\" fill=\"#000000\" fill-rule=\"evenodd\" fill-opacity=\"1\"/>\n",
       "<polyline clip-path=\"url(#clip322)\" style=\"stroke:#000000; stroke-linecap:round; stroke-linejoin:round; stroke-width:4; stroke-opacity:1; fill:none\" points=\"1145.35,1399.14 1143.39,1399.36 \"/>\n",
       "<circle clip-path=\"url(#clip322)\" cx=\"1143.39\" cy=\"1399.36\" r=\"14.4\" fill=\"#000000\" fill-rule=\"evenodd\" fill-opacity=\"0\" stroke=\"none\"/>\n",
       "<circle clip-path=\"url(#clip322)\" cx=\"1181.13\" cy=\"1395.13\" r=\"14.4\" fill=\"#000000\" fill-rule=\"evenodd\" fill-opacity=\"0\" stroke=\"none\"/>\n",
       "<circle clip-path=\"url(#clip322)\" cx=\"1218.38\" cy=\"1387.76\" r=\"14.4\" fill=\"#000000\" fill-rule=\"evenodd\" fill-opacity=\"1\" stroke=\"none\"/>\n",
       "<polyline clip-path=\"url(#clip322)\" style=\"stroke:#000000; stroke-linecap:round; stroke-linejoin:round; stroke-width:4; stroke-opacity:1; fill:none\" points=\"1181.13,1395.13 1218.38,1387.76 \"/>\n",
       "<path clip-path=\"url(#clip322)\" d=\"M1183.07 1394.74 L1179.58 1377.09 L1218.38 1387.76 L1186.56 1412.4  Z\" fill=\"#000000\" fill-rule=\"evenodd\" fill-opacity=\"1\"/>\n",
       "<polyline clip-path=\"url(#clip322)\" style=\"stroke:#000000; stroke-linecap:round; stroke-linejoin:round; stroke-width:4; stroke-opacity:1; fill:none\" points=\"1183.07,1394.74 1181.13,1395.13 \"/>\n",
       "<circle clip-path=\"url(#clip322)\" cx=\"1181.13\" cy=\"1395.13\" r=\"14.4\" fill=\"#000000\" fill-rule=\"evenodd\" fill-opacity=\"0\" stroke=\"none\"/>\n",
       "<circle clip-path=\"url(#clip322)\" cx=\"1218.38\" cy=\"1387.76\" r=\"14.4\" fill=\"#000000\" fill-rule=\"evenodd\" fill-opacity=\"0\" stroke=\"none\"/>\n",
       "<circle clip-path=\"url(#clip322)\" cx=\"1254.89\" cy=\"1377.31\" r=\"14.4\" fill=\"#000000\" fill-rule=\"evenodd\" fill-opacity=\"1\" stroke=\"none\"/>\n",
       "<polyline clip-path=\"url(#clip322)\" style=\"stroke:#000000; stroke-linecap:round; stroke-linejoin:round; stroke-width:4; stroke-opacity:1; fill:none\" points=\"1218.38,1387.76 1254.89,1377.31 \"/>\n",
       "<path clip-path=\"url(#clip322)\" d=\"M1220.28 1387.22 L1215.33 1369.91 L1254.89 1377.31 L1225.23 1404.52  Z\" fill=\"#000000\" fill-rule=\"evenodd\" fill-opacity=\"1\"/>\n",
       "<polyline clip-path=\"url(#clip322)\" style=\"stroke:#000000; stroke-linecap:round; stroke-linejoin:round; stroke-width:4; stroke-opacity:1; fill:none\" points=\"1220.28,1387.22 1218.38,1387.76 \"/>\n",
       "<circle clip-path=\"url(#clip322)\" cx=\"1218.38\" cy=\"1387.76\" r=\"14.4\" fill=\"#000000\" fill-rule=\"evenodd\" fill-opacity=\"0\" stroke=\"none\"/>\n",
       "<circle clip-path=\"url(#clip322)\" cx=\"1254.89\" cy=\"1377.31\" r=\"14.4\" fill=\"#000000\" fill-rule=\"evenodd\" fill-opacity=\"0\" stroke=\"none\"/>\n",
       "<circle clip-path=\"url(#clip322)\" cx=\"1292.18\" cy=\"1400.97\" r=\"14.4\" fill=\"#000000\" fill-rule=\"evenodd\" fill-opacity=\"1\" stroke=\"none\"/>\n",
       "<polyline clip-path=\"url(#clip322)\" style=\"stroke:#000000; stroke-linecap:round; stroke-linejoin:round; stroke-width:4; stroke-opacity:1; fill:none\" points=\"1254.89,1377.31 1292.18,1400.97 \"/>\n",
       "<path clip-path=\"url(#clip322)\" d=\"M1261.78 1381.68 L1271.42 1366.48 L1292.18 1400.97 L1252.14 1396.88  Z\" fill=\"#000000\" fill-rule=\"evenodd\" fill-opacity=\"1\"/>\n",
       "<polyline clip-path=\"url(#clip322)\" style=\"stroke:#000000; stroke-linecap:round; stroke-linejoin:round; stroke-width:4; stroke-opacity:1; fill:none\" points=\"1261.78,1381.68 1254.89,1377.31 \"/>\n",
       "<circle clip-path=\"url(#clip322)\" cx=\"1254.89\" cy=\"1377.31\" r=\"14.4\" fill=\"#000000\" fill-rule=\"evenodd\" fill-opacity=\"0\" stroke=\"none\"/>\n",
       "<circle clip-path=\"url(#clip322)\" cx=\"1292.18\" cy=\"1400.97\" r=\"14.4\" fill=\"#000000\" fill-rule=\"evenodd\" fill-opacity=\"0\" stroke=\"none\"/>\n",
       "<circle clip-path=\"url(#clip322)\" cx=\"1329.61\" cy=\"1377.54\" r=\"14.4\" fill=\"#000000\" fill-rule=\"evenodd\" fill-opacity=\"1\" stroke=\"none\"/>\n",
       "<polyline clip-path=\"url(#clip322)\" style=\"stroke:#000000; stroke-linecap:round; stroke-linejoin:round; stroke-width:4; stroke-opacity:1; fill:none\" points=\"1292.18,1400.97 1329.61,1377.54 \"/>\n",
       "<path clip-path=\"url(#clip322)\" d=\"M1299.09 1396.64 L1289.54 1381.38 L1329.61 1377.54 L1308.64 1411.9  Z\" fill=\"#000000\" fill-rule=\"evenodd\" fill-opacity=\"1\"/>\n",
       "<polyline clip-path=\"url(#clip322)\" style=\"stroke:#000000; stroke-linecap:round; stroke-linejoin:round; stroke-width:4; stroke-opacity:1; fill:none\" points=\"1299.09,1396.64 1292.18,1400.97 \"/>\n",
       "<circle clip-path=\"url(#clip322)\" cx=\"1292.18\" cy=\"1400.97\" r=\"14.4\" fill=\"#000000\" fill-rule=\"evenodd\" fill-opacity=\"0\" stroke=\"none\"/>\n",
       "<circle clip-path=\"url(#clip322)\" cx=\"1329.61\" cy=\"1377.54\" r=\"14.4\" fill=\"#000000\" fill-rule=\"evenodd\" fill-opacity=\"0\" stroke=\"none\"/>\n",
       "<circle clip-path=\"url(#clip322)\" cx=\"1366.89\" cy=\"1401.2\" r=\"14.4\" fill=\"#000000\" fill-rule=\"evenodd\" fill-opacity=\"1\" stroke=\"none\"/>\n",
       "<polyline clip-path=\"url(#clip322)\" style=\"stroke:#000000; stroke-linecap:round; stroke-linejoin:round; stroke-width:4; stroke-opacity:1; fill:none\" points=\"1329.61,1377.54 1366.89,1401.2 \"/>\n",
       "<path clip-path=\"url(#clip322)\" d=\"M1336.5 1381.91 L1346.14 1366.71 L1366.89 1401.2 L1326.85 1397.11  Z\" fill=\"#000000\" fill-rule=\"evenodd\" fill-opacity=\"1\"/>\n",
       "<polyline clip-path=\"url(#clip322)\" style=\"stroke:#000000; stroke-linecap:round; stroke-linejoin:round; stroke-width:4; stroke-opacity:1; fill:none\" points=\"1336.5,1381.91 1329.61,1377.54 \"/>\n",
       "<circle clip-path=\"url(#clip322)\" cx=\"1329.61\" cy=\"1377.54\" r=\"14.4\" fill=\"#000000\" fill-rule=\"evenodd\" fill-opacity=\"0\" stroke=\"none\"/>\n",
       "<circle clip-path=\"url(#clip322)\" cx=\"1366.89\" cy=\"1401.2\" r=\"14.4\" fill=\"#000000\" fill-rule=\"evenodd\" fill-opacity=\"0\" stroke=\"none\"/>\n",
       "</svg>\n"
      ],
      "image/svg+xml": [
       "<?xml version=\"1.0\" encoding=\"utf-8\"?>\n",
       "<svg xmlns=\"http://www.w3.org/2000/svg\" xmlns:xlink=\"http://www.w3.org/1999/xlink\" width=\"600\" height=\"400\" viewBox=\"0 0 2400 1600\">\n",
       "<defs>\n",
       "  <clipPath id=\"clip290\">\n",
       "    <rect x=\"0\" y=\"0\" width=\"2400\" height=\"1600\"/>\n",
       "  </clipPath>\n",
       "</defs>\n",
       "<path clip-path=\"url(#clip290)\" d=\"M0 1600 L2400 1600 L2400 0 L0 0  Z\" fill=\"#ffffff\" fill-rule=\"evenodd\" fill-opacity=\"1\"/>\n",
       "<defs>\n",
       "  <clipPath id=\"clip291\">\n",
       "    <rect x=\"480\" y=\"0\" width=\"1681\" height=\"1600\"/>\n",
       "  </clipPath>\n",
       "</defs>\n",
       "<path clip-path=\"url(#clip290)\" d=\"M86.9921 1521.01 L2352.76 1521.01 L2352.76 47.2441 L86.9921 47.2441  Z\" fill=\"#ffffff\" fill-rule=\"evenodd\" fill-opacity=\"1\"/>\n",
       "<defs>\n",
       "  <clipPath id=\"clip292\">\n",
       "    <rect x=\"86\" y=\"47\" width=\"2267\" height=\"1475\"/>\n",
       "  </clipPath>\n",
       "</defs>\n",
       "<polyline clip-path=\"url(#clip292)\" style=\"stroke:#000000; stroke-linecap:round; stroke-linejoin:round; stroke-width:2; stroke-opacity:0.1; fill:none\" points=\"246.634,1521.01 246.634,47.2441 \"/>\n",
       "<polyline clip-path=\"url(#clip292)\" style=\"stroke:#000000; stroke-linecap:round; stroke-linejoin:round; stroke-width:2; stroke-opacity:0.1; fill:none\" points=\"941.805,1521.01 941.805,47.2441 \"/>\n",
       "<polyline clip-path=\"url(#clip292)\" style=\"stroke:#000000; stroke-linecap:round; stroke-linejoin:round; stroke-width:2; stroke-opacity:0.1; fill:none\" points=\"1636.98,1521.01 1636.98,47.2441 \"/>\n",
       "<polyline clip-path=\"url(#clip292)\" style=\"stroke:#000000; stroke-linecap:round; stroke-linejoin:round; stroke-width:2; stroke-opacity:0.1; fill:none\" points=\"2332.15,1521.01 2332.15,47.2441 \"/>\n",
       "<polyline clip-path=\"url(#clip290)\" style=\"stroke:#000000; stroke-linecap:round; stroke-linejoin:round; stroke-width:4; stroke-opacity:1; fill:none\" points=\"86.9921,1521.01 2352.76,1521.01 \"/>\n",
       "<polyline clip-path=\"url(#clip290)\" style=\"stroke:#000000; stroke-linecap:round; stroke-linejoin:round; stroke-width:4; stroke-opacity:1; fill:none\" points=\"246.634,1521.01 246.634,1502.11 \"/>\n",
       "<polyline clip-path=\"url(#clip290)\" style=\"stroke:#000000; stroke-linecap:round; stroke-linejoin:round; stroke-width:4; stroke-opacity:1; fill:none\" points=\"941.805,1521.01 941.805,1502.11 \"/>\n",
       "<polyline clip-path=\"url(#clip290)\" style=\"stroke:#000000; stroke-linecap:round; stroke-linejoin:round; stroke-width:4; stroke-opacity:1; fill:none\" points=\"1636.98,1521.01 1636.98,1502.11 \"/>\n",
       "<polyline clip-path=\"url(#clip290)\" style=\"stroke:#000000; stroke-linecap:round; stroke-linejoin:round; stroke-width:4; stroke-opacity:1; fill:none\" points=\"2332.15,1521.01 2332.15,1502.11 \"/>\n",
       "<path clip-path=\"url(#clip290)\" d=\"M216.275 1566.58 L245.951 1566.58 L245.951 1570.51 L216.275 1570.51 L216.275 1566.58 Z\" fill=\"#000000\" fill-rule=\"nonzero\" fill-opacity=\"1\" /><path clip-path=\"url(#clip290)\" d=\"M256.09 1548.85 L274.446 1548.85 L274.446 1552.78 L260.372 1552.78 L260.372 1561.26 Q261.391 1560.91 262.409 1560.75 Q263.428 1560.56 264.446 1560.56 Q270.233 1560.56 273.613 1563.73 Q276.992 1566.9 276.992 1572.32 Q276.992 1577.9 273.52 1581 Q270.048 1584.08 263.729 1584.08 Q261.553 1584.08 259.284 1583.71 Q257.039 1583.34 254.631 1582.6 L254.631 1577.9 Q256.715 1579.03 258.937 1579.59 Q261.159 1580.14 263.636 1580.14 Q267.641 1580.14 269.979 1578.04 Q272.317 1575.93 272.317 1572.32 Q272.317 1568.71 269.979 1566.6 Q267.641 1564.5 263.636 1564.5 Q261.761 1564.5 259.886 1564.91 Q258.034 1565.33 256.09 1566.21 L256.09 1548.85 Z\" fill=\"#000000\" fill-rule=\"nonzero\" fill-opacity=\"1\" /><path clip-path=\"url(#clip290)\" d=\"M941.805 1551.93 Q938.194 1551.93 936.366 1555.49 Q934.56 1559.03 934.56 1566.16 Q934.56 1573.27 936.366 1576.83 Q938.194 1580.38 941.805 1580.38 Q945.44 1580.38 947.245 1576.83 Q949.074 1573.27 949.074 1566.16 Q949.074 1559.03 947.245 1555.49 Q945.44 1551.93 941.805 1551.93 M941.805 1548.22 Q947.616 1548.22 950.671 1552.83 Q953.75 1557.41 953.75 1566.16 Q953.75 1574.89 950.671 1579.5 Q947.616 1584.08 941.805 1584.08 Q935.995 1584.08 932.917 1579.5 Q929.861 1574.89 929.861 1566.16 Q929.861 1557.41 932.917 1552.83 Q935.995 1548.22 941.805 1548.22 Z\" fill=\"#000000\" fill-rule=\"nonzero\" fill-opacity=\"1\" /><path clip-path=\"url(#clip290)\" d=\"M1627.25 1548.85 L1645.61 1548.85 L1645.61 1552.78 L1631.54 1552.78 L1631.54 1561.26 Q1632.56 1560.91 1633.57 1560.75 Q1634.59 1560.56 1635.61 1560.56 Q1641.4 1560.56 1644.78 1563.73 Q1648.16 1566.9 1648.16 1572.32 Q1648.16 1577.9 1644.69 1581 Q1641.21 1584.08 1634.89 1584.08 Q1632.72 1584.08 1630.45 1583.71 Q1628.2 1583.34 1625.8 1582.6 L1625.8 1577.9 Q1627.88 1579.03 1630.1 1579.59 Q1632.32 1580.14 1634.8 1580.14 Q1638.81 1580.14 1641.14 1578.04 Q1643.48 1575.93 1643.48 1572.32 Q1643.48 1568.71 1641.14 1566.6 Q1638.81 1564.5 1634.8 1564.5 Q1632.93 1564.5 1631.05 1564.91 Q1629.2 1565.33 1627.25 1566.21 L1627.25 1548.85 Z\" fill=\"#000000\" fill-rule=\"nonzero\" fill-opacity=\"1\" /><path clip-path=\"url(#clip290)\" d=\"M2306.84 1579.47 L2314.48 1579.47 L2314.48 1553.11 L2306.16 1554.77 L2306.16 1550.51 L2314.43 1548.85 L2319.1 1548.85 L2319.1 1579.47 L2326.74 1579.47 L2326.74 1583.41 L2306.84 1583.41 L2306.84 1579.47 Z\" fill=\"#000000\" fill-rule=\"nonzero\" fill-opacity=\"1\" /><path clip-path=\"url(#clip290)\" d=\"M2346.19 1551.93 Q2342.58 1551.93 2340.75 1555.49 Q2338.94 1559.03 2338.94 1566.16 Q2338.94 1573.27 2340.75 1576.83 Q2342.58 1580.38 2346.19 1580.38 Q2349.82 1580.38 2351.63 1576.83 Q2353.46 1573.27 2353.46 1566.16 Q2353.46 1559.03 2351.63 1555.49 Q2349.82 1551.93 2346.19 1551.93 M2346.19 1548.22 Q2352 1548.22 2355.05 1552.83 Q2358.13 1557.41 2358.13 1566.16 Q2358.13 1574.89 2355.05 1579.5 Q2352 1584.08 2346.19 1584.08 Q2340.38 1584.08 2337.3 1579.5 Q2334.24 1574.89 2334.24 1566.16 Q2334.24 1557.41 2337.3 1552.83 Q2340.38 1548.22 2346.19 1548.22 Z\" fill=\"#000000\" fill-rule=\"nonzero\" fill-opacity=\"1\" /><polyline clip-path=\"url(#clip292)\" style=\"stroke:#000000; stroke-linecap:round; stroke-linejoin:round; stroke-width:2; stroke-opacity:0.1; fill:none\" points=\"86.9921,1479.3 2352.76,1479.3 \"/>\n",
       "<polyline clip-path=\"url(#clip292)\" style=\"stroke:#000000; stroke-linecap:round; stroke-linejoin:round; stroke-width:2; stroke-opacity:0.1; fill:none\" points=\"86.9921,1131.71 2352.76,1131.71 \"/>\n",
       "<polyline clip-path=\"url(#clip292)\" style=\"stroke:#000000; stroke-linecap:round; stroke-linejoin:round; stroke-width:2; stroke-opacity:0.1; fill:none\" points=\"86.9921,784.126 2352.76,784.126 \"/>\n",
       "<polyline clip-path=\"url(#clip292)\" style=\"stroke:#000000; stroke-linecap:round; stroke-linejoin:round; stroke-width:2; stroke-opacity:0.1; fill:none\" points=\"86.9921,436.54 2352.76,436.54 \"/>\n",
       "<polyline clip-path=\"url(#clip292)\" style=\"stroke:#000000; stroke-linecap:round; stroke-linejoin:round; stroke-width:2; stroke-opacity:0.1; fill:none\" points=\"86.9921,88.9544 2352.76,88.9544 \"/>\n",
       "<polyline clip-path=\"url(#clip290)\" style=\"stroke:#000000; stroke-linecap:round; stroke-linejoin:round; stroke-width:4; stroke-opacity:1; fill:none\" points=\"86.9921,1521.01 86.9921,47.2441 \"/>\n",
       "<polyline clip-path=\"url(#clip290)\" style=\"stroke:#000000; stroke-linecap:round; stroke-linejoin:round; stroke-width:4; stroke-opacity:1; fill:none\" points=\"86.9921,1479.3 105.89,1479.3 \"/>\n",
       "<polyline clip-path=\"url(#clip290)\" style=\"stroke:#000000; stroke-linecap:round; stroke-linejoin:round; stroke-width:4; stroke-opacity:1; fill:none\" points=\"86.9921,1131.71 105.89,1131.71 \"/>\n",
       "<polyline clip-path=\"url(#clip290)\" style=\"stroke:#000000; stroke-linecap:round; stroke-linejoin:round; stroke-width:4; stroke-opacity:1; fill:none\" points=\"86.9921,784.126 105.89,784.126 \"/>\n",
       "<polyline clip-path=\"url(#clip290)\" style=\"stroke:#000000; stroke-linecap:round; stroke-linejoin:round; stroke-width:4; stroke-opacity:1; fill:none\" points=\"86.9921,436.54 105.89,436.54 \"/>\n",
       "<polyline clip-path=\"url(#clip290)\" style=\"stroke:#000000; stroke-linecap:round; stroke-linejoin:round; stroke-width:4; stroke-opacity:1; fill:none\" points=\"86.9921,88.9544 105.89,88.9544 \"/>\n",
       "<path clip-path=\"url(#clip290)\" d=\"M-6.18349 1465.1 Q-9.79459 1465.1 -11.6233 1468.66 Q-13.4288 1472.2 -13.4288 1479.33 Q-13.4288 1486.44 -11.6233 1490 Q-9.79459 1493.55 -6.18349 1493.55 Q-2.54925 1493.55 -0.743708 1490 Q1.08499 1486.44 1.08499 1479.33 Q1.08499 1472.2 -0.743708 1468.66 Q-2.54925 1465.1 -6.18349 1465.1 M-6.18349 1461.39 Q-0.37334 1461.39 2.6822 1466 Q5.76089 1470.58 5.76089 1479.33 Q5.76089 1488.06 2.6822 1492.67 Q-0.37334 1497.25 -6.18349 1497.25 Q-11.9936 1497.25 -15.0723 1492.67 Q-18.1279 1488.06 -18.1279 1479.33 Q-18.1279 1470.58 -15.0723 1466 Q-11.9936 1461.39 -6.18349 1461.39 Z\" fill=\"#000000\" fill-rule=\"nonzero\" fill-opacity=\"1\" /><path clip-path=\"url(#clip290)\" d=\"M13.9784 1490.7 L18.8627 1490.7 L18.8627 1496.58 L13.9784 1496.58 L13.9784 1490.7 Z\" fill=\"#000000\" fill-rule=\"nonzero\" fill-opacity=\"1\" /><path clip-path=\"url(#clip290)\" d=\"M39.0477 1465.1 Q35.4367 1465.1 33.608 1468.66 Q31.8024 1472.2 31.8024 1479.33 Q31.8024 1486.44 33.608 1490 Q35.4367 1493.55 39.0477 1493.55 Q42.682 1493.55 44.4875 1490 Q46.3162 1486.44 46.3162 1479.33 Q46.3162 1472.2 44.4875 1468.66 Q42.682 1465.1 39.0477 1465.1 M39.0477 1461.39 Q44.8579 1461.39 47.9134 1466 Q50.9921 1470.58 50.9921 1479.33 Q50.9921 1488.06 47.9134 1492.67 Q44.8579 1497.25 39.0477 1497.25 Q33.2376 1497.25 30.1589 1492.67 Q27.1034 1488.06 27.1034 1479.33 Q27.1034 1470.58 30.1589 1466 Q33.2376 1461.39 39.0477 1461.39 Z\" fill=\"#000000\" fill-rule=\"nonzero\" fill-opacity=\"1\" /><path clip-path=\"url(#clip290)\" d=\"M-11.1603 1145.06 L5.15904 1145.06 L5.15904 1148.99 L-16.7853 1148.99 L-16.7853 1145.06 Q-14.1233 1142.3 -9.53996 1137.67 Q-4.9335 1133.02 -3.75295 1131.68 Q-1.50759 1129.15 -0.627968 1127.42 Q0.274805 1125.66 0.274805 1123.97 Q0.274805 1121.21 -1.66963 1119.48 Q-3.59091 1117.74 -6.69275 1117.74 Q-8.89181 1117.74 -11.3455 1118.51 Q-13.776 1119.27 -16.5538 1120.82 L-16.5538 1116.1 Q-13.7297 1114.96 -11.2761 1114.39 Q-8.82237 1113.81 -6.78534 1113.81 Q-1.415 1113.81 1.77943 1116.49 Q4.97385 1119.18 4.97385 1123.67 Q4.97385 1125.8 4.16367 1127.72 Q3.37664 1129.62 1.27017 1132.21 Q0.69147 1132.88 -2.41037 1136.1 Q-5.5122 1139.29 -11.1603 1145.06 Z\" fill=\"#000000\" fill-rule=\"nonzero\" fill-opacity=\"1\" /><path clip-path=\"url(#clip290)\" d=\"M14.9738 1143.11 L19.858 1143.11 L19.858 1148.99 L14.9738 1148.99 L14.9738 1143.11 Z\" fill=\"#000000\" fill-rule=\"nonzero\" fill-opacity=\"1\" /><path clip-path=\"url(#clip290)\" d=\"M30.0895 1114.43 L48.4458 1114.43 L48.4458 1118.37 L34.3718 1118.37 L34.3718 1126.84 Q35.3904 1126.49 36.4089 1126.33 Q37.4274 1126.14 38.4459 1126.14 Q44.2329 1126.14 47.6125 1129.32 Q50.9921 1132.49 50.9921 1137.9 Q50.9921 1143.48 47.5199 1146.58 Q44.0477 1149.66 37.7283 1149.66 Q35.5524 1149.66 33.2839 1149.29 Q31.0385 1148.92 28.6311 1148.18 L28.6311 1143.48 Q30.7145 1144.62 32.9367 1145.17 Q35.1589 1145.73 37.6357 1145.73 Q41.6403 1145.73 43.9783 1143.62 Q46.3162 1141.51 46.3162 1137.9 Q46.3162 1134.29 43.9783 1132.19 Q41.6403 1130.08 37.6357 1130.08 Q35.7607 1130.08 33.8857 1130.5 Q32.0339 1130.91 30.0895 1131.79 L30.0895 1114.43 Z\" fill=\"#000000\" fill-rule=\"nonzero\" fill-opacity=\"1\" /><path clip-path=\"url(#clip290)\" d=\"M-16.1371 766.846 L2.21924 766.846 L2.21924 770.781 L-11.8548 770.781 L-11.8548 779.253 Q-10.8362 778.906 -9.81773 778.744 Q-8.79922 778.559 -7.78071 778.559 Q-1.9937 778.559 1.38591 781.73 Q4.76552 784.901 4.76552 790.318 Q4.76552 795.897 1.29332 798.999 Q-2.17889 802.077 -8.4983 802.077 Q-10.6742 802.077 -12.9427 801.707 Q-15.1881 801.337 -17.5955 800.596 L-17.5955 795.897 Q-15.5121 797.031 -13.2899 797.587 Q-11.0677 798.142 -8.59089 798.142 Q-4.58628 798.142 -2.24833 796.036 Q0.089621 793.929 0.089621 790.318 Q0.089621 786.707 -2.24833 784.601 Q-4.58628 782.494 -8.59089 782.494 Q-10.4659 782.494 -12.3409 782.911 Q-14.1927 783.327 -16.1371 784.207 L-16.1371 766.846 Z\" fill=\"#000000\" fill-rule=\"nonzero\" fill-opacity=\"1\" /><path clip-path=\"url(#clip290)\" d=\"M13.9784 795.526 L18.8627 795.526 L18.8627 801.406 L13.9784 801.406 L13.9784 795.526 Z\" fill=\"#000000\" fill-rule=\"nonzero\" fill-opacity=\"1\" /><path clip-path=\"url(#clip290)\" d=\"M39.0477 769.925 Q35.4367 769.925 33.608 773.489 Q31.8024 777.031 31.8024 784.161 Q31.8024 791.267 33.608 794.832 Q35.4367 798.374 39.0477 798.374 Q42.682 798.374 44.4875 794.832 Q46.3162 791.267 46.3162 784.161 Q46.3162 777.031 44.4875 773.489 Q42.682 769.925 39.0477 769.925 M39.0477 766.221 Q44.8579 766.221 47.9134 770.827 Q50.9921 775.411 50.9921 784.161 Q50.9921 792.888 47.9134 797.494 Q44.8579 802.077 39.0477 802.077 Q33.2376 802.077 30.1589 797.494 Q27.1034 792.888 27.1034 784.161 Q27.1034 775.411 30.1589 770.827 Q33.2376 766.221 39.0477 766.221 Z\" fill=\"#000000\" fill-rule=\"nonzero\" fill-opacity=\"1\" /><path clip-path=\"url(#clip290)\" d=\"M-16.3686 419.26 L5.85348 419.26 L5.85348 421.251 L-6.69275 453.82 L-11.577 453.82 L0.228509 423.195 L-16.3686 423.195 L-16.3686 419.26 Z\" fill=\"#000000\" fill-rule=\"nonzero\" fill-opacity=\"1\" /><path clip-path=\"url(#clip290)\" d=\"M14.9738 447.941 L19.858 447.941 L19.858 453.82 L14.9738 453.82 L14.9738 447.941 Z\" fill=\"#000000\" fill-rule=\"nonzero\" fill-opacity=\"1\" /><path clip-path=\"url(#clip290)\" d=\"M30.0895 419.26 L48.4458 419.26 L48.4458 423.195 L34.3718 423.195 L34.3718 431.668 Q35.3904 431.32 36.4089 431.158 Q37.4274 430.973 38.4459 430.973 Q44.2329 430.973 47.6125 434.144 Q50.9921 437.316 50.9921 442.732 Q50.9921 448.311 47.5199 451.413 Q44.0477 454.491 37.7283 454.491 Q35.5524 454.491 33.2839 454.121 Q31.0385 453.751 28.6311 453.01 L28.6311 448.311 Q30.7145 449.445 32.9367 450.001 Q35.1589 450.556 37.6357 450.556 Q41.6403 450.556 43.9783 448.45 Q46.3162 446.343 46.3162 442.732 Q46.3162 439.121 43.9783 437.015 Q41.6403 434.908 37.6357 434.908 Q35.7607 434.908 33.8857 435.325 Q32.0339 435.742 30.0895 436.621 L30.0895 419.26 Z\" fill=\"#000000\" fill-rule=\"nonzero\" fill-opacity=\"1\" /><path clip-path=\"url(#clip290)\" d=\"M-45.5351 102.299 L-37.8963 102.299 L-37.8963 75.9336 L-46.2064 77.6003 L-46.2064 73.341 L-37.9426 71.6744 L-33.2667 71.6744 L-33.2667 102.299 L-25.6278 102.299 L-25.6278 106.234 L-45.5351 106.234 L-45.5351 102.299 Z\" fill=\"#000000\" fill-rule=\"nonzero\" fill-opacity=\"1\" /><path clip-path=\"url(#clip290)\" d=\"M-6.18349 74.7531 Q-9.79459 74.7531 -11.6233 78.3179 Q-13.4288 81.8595 -13.4288 88.9891 Q-13.4288 96.0956 -11.6233 99.6604 Q-9.79459 103.202 -6.18349 103.202 Q-2.54925 103.202 -0.743708 99.6604 Q1.08499 96.0956 1.08499 88.9891 Q1.08499 81.8595 -0.743708 78.3179 Q-2.54925 74.7531 -6.18349 74.7531 M-6.18349 71.0494 Q-0.37334 71.0494 2.6822 75.6559 Q5.76089 80.2392 5.76089 88.9891 Q5.76089 97.7159 2.6822 102.322 Q-0.37334 106.906 -6.18349 106.906 Q-11.9936 106.906 -15.0723 102.322 Q-18.1279 97.7159 -18.1279 88.9891 Q-18.1279 80.2392 -15.0723 75.6559 Q-11.9936 71.0494 -6.18349 71.0494 Z\" fill=\"#000000\" fill-rule=\"nonzero\" fill-opacity=\"1\" /><path clip-path=\"url(#clip290)\" d=\"M13.9784 100.355 L18.8627 100.355 L18.8627 106.234 L13.9784 106.234 L13.9784 100.355 Z\" fill=\"#000000\" fill-rule=\"nonzero\" fill-opacity=\"1\" /><path clip-path=\"url(#clip290)\" d=\"M39.0477 74.7531 Q35.4367 74.7531 33.608 78.3179 Q31.8024 81.8595 31.8024 88.9891 Q31.8024 96.0956 33.608 99.6604 Q35.4367 103.202 39.0477 103.202 Q42.682 103.202 44.4875 99.6604 Q46.3162 96.0956 46.3162 88.9891 Q46.3162 81.8595 44.4875 78.3179 Q42.682 74.7531 39.0477 74.7531 M39.0477 71.0494 Q44.8579 71.0494 47.9134 75.6559 Q50.9921 80.2392 50.9921 88.9891 Q50.9921 97.7159 47.9134 102.322 Q44.8579 106.906 39.0477 106.906 Q33.2376 106.906 30.1589 102.322 Q27.1034 97.7159 27.1034 88.9891 Q27.1034 80.2392 30.1589 75.6559 Q33.2376 71.0494 39.0477 71.0494 Z\" fill=\"#000000\" fill-rule=\"nonzero\" fill-opacity=\"1\" /><path clip-path=\"url(#clip292)\" d=\"M941.805 1479.3 L1497.94 1479.3 L1497.94 88.9544 L941.805 88.9544 L941.805 1479.3  Z\" fill=\"#ffff00\" fill-rule=\"evenodd\" fill-opacity=\"0.5\"/>\n",
       "<polyline clip-path=\"url(#clip292)\" style=\"stroke:#000000; stroke-linecap:round; stroke-linejoin:round; stroke-width:4; stroke-opacity:0.5; fill:none\" points=\"941.805,1479.3 1497.94,1479.3 1497.94,88.9544 941.805,88.9544 941.805,1479.3 \"/>\n",
       "<path clip-path=\"url(#clip292)\" d=\"M1080.84 1479.3 L1108.65 1479.3 L1108.65 227.989 L1080.84 227.989 L1080.84 1479.3  Z\" fill=\"#000000\" fill-rule=\"evenodd\" fill-opacity=\"1\"/>\n",
       "<polyline clip-path=\"url(#clip292)\" style=\"stroke:#000000; stroke-linecap:round; stroke-linejoin:round; stroke-width:4; stroke-opacity:1; fill:none\" points=\"1080.84,1479.3 1108.65,1479.3 1108.65,227.989 1080.84,227.989 1080.84,1479.3 \"/>\n",
       "<path clip-path=\"url(#clip292)\" d=\"M1247.68 1479.3 L1275.49 1479.3 L1275.49 784.126 L1247.68 784.126 L1247.68 1479.3  Z\" fill=\"#000000\" fill-rule=\"evenodd\" fill-opacity=\"1\"/>\n",
       "<polyline clip-path=\"url(#clip292)\" style=\"stroke:#000000; stroke-linecap:round; stroke-linejoin:round; stroke-width:4; stroke-opacity:1; fill:none\" points=\"1247.68,1479.3 1275.49,1479.3 1275.49,784.126 1247.68,784.126 1247.68,1479.3 \"/>\n",
       "<path clip-path=\"url(#clip292)\" d=\"M1247.68 645.092 L1275.49 645.092 L1275.49 88.9544 L1247.68 88.9544 L1247.68 645.092  Z\" fill=\"#000000\" fill-rule=\"evenodd\" fill-opacity=\"1\"/>\n",
       "<polyline clip-path=\"url(#clip292)\" style=\"stroke:#000000; stroke-linecap:round; stroke-linejoin:round; stroke-width:4; stroke-opacity:1; fill:none\" points=\"1247.68,645.092 1275.49,645.092 1275.49,88.9544 1247.68,88.9544 1247.68,645.092 \"/>\n",
       "<path clip-path=\"url(#clip292)\" d=\"M997.419 1423.68 L997.419 1423.68 L997.419 1423.68 L997.419 1423.68 L997.419 1423.68  Z\" fill=\"#008000\" fill-rule=\"evenodd\" fill-opacity=\"1\"/>\n",
       "<polyline clip-path=\"url(#clip292)\" style=\"stroke:#000000; stroke-linecap:round; stroke-linejoin:round; stroke-width:4; stroke-opacity:1; fill:none\" points=\"997.419,1423.68 997.419,1423.68 \"/>\n",
       "<path clip-path=\"url(#clip292)\" d=\"M1358.91 1409.78 L1442.33 1409.78 L1442.33 1368.07 L1358.91 1368.07 L1358.91 1409.78  Z\" fill=\"#ff0000\" fill-rule=\"evenodd\" fill-opacity=\"1\"/>\n",
       "<polyline clip-path=\"url(#clip292)\" style=\"stroke:#000000; stroke-linecap:round; stroke-linejoin:round; stroke-width:4; stroke-opacity:1; fill:none\" points=\"1358.91,1409.78 1442.33,1409.78 1442.33,1368.07 1358.91,1368.07 1358.91,1409.78 \"/>\n",
       "<circle clip-path=\"url(#clip292)\" cx=\"997.419\" cy=\"1423.68\" r=\"14.4\" fill=\"#000000\" fill-rule=\"evenodd\" fill-opacity=\"1\" stroke=\"none\"/>\n",
       "<circle clip-path=\"url(#clip292)\" cx=\"1030.25\" cy=\"1394.16\" r=\"14.4\" fill=\"#000000\" fill-rule=\"evenodd\" fill-opacity=\"1\" stroke=\"none\"/>\n",
       "<polyline clip-path=\"url(#clip292)\" style=\"stroke:#000000; stroke-linecap:round; stroke-linejoin:round; stroke-width:4; stroke-opacity:1; fill:none\" points=\"997.419,1423.68 1030.25,1394.16 \"/>\n",
       "<path clip-path=\"url(#clip292)\" d=\"M1003.48 1418.23 L991.448 1404.85 L1030.25 1394.16 L1015.52 1431.62  Z\" fill=\"#000000\" fill-rule=\"evenodd\" fill-opacity=\"1\"/>\n",
       "<polyline clip-path=\"url(#clip292)\" style=\"stroke:#000000; stroke-linecap:round; stroke-linejoin:round; stroke-width:4; stroke-opacity:1; fill:none\" points=\"1003.48,1418.23 997.419,1423.68 \"/>\n",
       "<circle clip-path=\"url(#clip292)\" cx=\"997.419\" cy=\"1423.68\" r=\"14.4\" fill=\"#000000\" fill-rule=\"evenodd\" fill-opacity=\"0\" stroke=\"none\"/>\n",
       "<circle clip-path=\"url(#clip292)\" cx=\"1030.25\" cy=\"1394.16\" r=\"14.4\" fill=\"#000000\" fill-rule=\"evenodd\" fill-opacity=\"0\" stroke=\"none\"/>\n",
       "<circle clip-path=\"url(#clip292)\" cx=\"1067.83\" cy=\"1388.67\" r=\"14.4\" fill=\"#000000\" fill-rule=\"evenodd\" fill-opacity=\"1\" stroke=\"none\"/>\n",
       "<polyline clip-path=\"url(#clip292)\" style=\"stroke:#000000; stroke-linecap:round; stroke-linejoin:round; stroke-width:4; stroke-opacity:1; fill:none\" points=\"1030.25,1394.16 1067.83,1388.67 \"/>\n",
       "<path clip-path=\"url(#clip292)\" d=\"M1032.21 1393.87 L1029.61 1376.06 L1067.83 1388.67 L1034.81 1411.69  Z\" fill=\"#000000\" fill-rule=\"evenodd\" fill-opacity=\"1\"/>\n",
       "<polyline clip-path=\"url(#clip292)\" style=\"stroke:#000000; stroke-linecap:round; stroke-linejoin:round; stroke-width:4; stroke-opacity:1; fill:none\" points=\"1032.21,1393.87 1030.25,1394.16 \"/>\n",
       "<circle clip-path=\"url(#clip292)\" cx=\"1030.25\" cy=\"1394.16\" r=\"14.4\" fill=\"#000000\" fill-rule=\"evenodd\" fill-opacity=\"0\" stroke=\"none\"/>\n",
       "<circle clip-path=\"url(#clip292)\" cx=\"1067.83\" cy=\"1388.67\" r=\"14.4\" fill=\"#000000\" fill-rule=\"evenodd\" fill-opacity=\"0\" stroke=\"none\"/>\n",
       "<circle clip-path=\"url(#clip292)\" cx=\"1104.14\" cy=\"1379.14\" r=\"14.4\" fill=\"#000000\" fill-rule=\"evenodd\" fill-opacity=\"1\" stroke=\"none\"/>\n",
       "<polyline clip-path=\"url(#clip292)\" style=\"stroke:#000000; stroke-linecap:round; stroke-linejoin:round; stroke-width:4; stroke-opacity:1; fill:none\" points=\"1067.83,1388.67 1104.14,1379.14 \"/>\n",
       "<path clip-path=\"url(#clip292)\" d=\"M1069.32 1388.28 L1064.75 1370.87 L1104.14 1379.14 L1073.89 1405.69  Z\" fill=\"#000000\" fill-rule=\"evenodd\" fill-opacity=\"1\"/>\n",
       "<polyline clip-path=\"url(#clip292)\" style=\"stroke:#000000; stroke-linecap:round; stroke-linejoin:round; stroke-width:4; stroke-opacity:1; fill:none\" points=\"1069.32,1388.28 1067.83,1388.67 \"/>\n",
       "<circle clip-path=\"url(#clip292)\" cx=\"1067.83\" cy=\"1388.67\" r=\"14.4\" fill=\"#000000\" fill-rule=\"evenodd\" fill-opacity=\"0\" stroke=\"none\"/>\n",
       "<circle clip-path=\"url(#clip292)\" cx=\"1104.14\" cy=\"1379.14\" r=\"14.4\" fill=\"#000000\" fill-rule=\"evenodd\" fill-opacity=\"0\" stroke=\"none\"/>\n",
       "<circle clip-path=\"url(#clip292)\" cx=\"1143.39\" cy=\"1399.36\" r=\"14.4\" fill=\"#000000\" fill-rule=\"evenodd\" fill-opacity=\"1\" stroke=\"none\"/>\n",
       "<polyline clip-path=\"url(#clip292)\" style=\"stroke:#000000; stroke-linecap:round; stroke-linejoin:round; stroke-width:4; stroke-opacity:1; fill:none\" points=\"1104.14,1379.14 1143.39,1399.36 \"/>\n",
       "<path clip-path=\"url(#clip292)\" d=\"M1111.39 1382.87 L1119.63 1366.87 L1143.39 1399.36 L1103.15 1398.88  Z\" fill=\"#000000\" fill-rule=\"evenodd\" fill-opacity=\"1\"/>\n",
       "<polyline clip-path=\"url(#clip292)\" style=\"stroke:#000000; stroke-linecap:round; stroke-linejoin:round; stroke-width:4; stroke-opacity:1; fill:none\" points=\"1111.39,1382.87 1104.14,1379.14 \"/>\n",
       "<circle clip-path=\"url(#clip292)\" cx=\"1104.14\" cy=\"1379.14\" r=\"14.4\" fill=\"#000000\" fill-rule=\"evenodd\" fill-opacity=\"0\" stroke=\"none\"/>\n",
       "<circle clip-path=\"url(#clip292)\" cx=\"1143.39\" cy=\"1399.36\" r=\"14.4\" fill=\"#000000\" fill-rule=\"evenodd\" fill-opacity=\"0\" stroke=\"none\"/>\n",
       "<circle clip-path=\"url(#clip292)\" cx=\"1181.13\" cy=\"1395.13\" r=\"14.4\" fill=\"#000000\" fill-rule=\"evenodd\" fill-opacity=\"1\" stroke=\"none\"/>\n",
       "<polyline clip-path=\"url(#clip292)\" style=\"stroke:#000000; stroke-linecap:round; stroke-linejoin:round; stroke-width:4; stroke-opacity:1; fill:none\" points=\"1143.39,1399.36 1181.13,1395.13 \"/>\n",
       "<path clip-path=\"url(#clip292)\" d=\"M1145.35 1399.14 L1143.35 1381.25 L1181.13 1395.13 L1147.36 1417.03  Z\" fill=\"#000000\" fill-rule=\"evenodd\" fill-opacity=\"1\"/>\n",
       "<polyline clip-path=\"url(#clip292)\" style=\"stroke:#000000; stroke-linecap:round; stroke-linejoin:round; stroke-width:4; stroke-opacity:1; fill:none\" points=\"1145.35,1399.14 1143.39,1399.36 \"/>\n",
       "<circle clip-path=\"url(#clip292)\" cx=\"1143.39\" cy=\"1399.36\" r=\"14.4\" fill=\"#000000\" fill-rule=\"evenodd\" fill-opacity=\"0\" stroke=\"none\"/>\n",
       "<circle clip-path=\"url(#clip292)\" cx=\"1181.13\" cy=\"1395.13\" r=\"14.4\" fill=\"#000000\" fill-rule=\"evenodd\" fill-opacity=\"0\" stroke=\"none\"/>\n",
       "<circle clip-path=\"url(#clip292)\" cx=\"1218.38\" cy=\"1387.76\" r=\"14.4\" fill=\"#000000\" fill-rule=\"evenodd\" fill-opacity=\"1\" stroke=\"none\"/>\n",
       "<polyline clip-path=\"url(#clip292)\" style=\"stroke:#000000; stroke-linecap:round; stroke-linejoin:round; stroke-width:4; stroke-opacity:1; fill:none\" points=\"1181.13,1395.13 1218.38,1387.76 \"/>\n",
       "<path clip-path=\"url(#clip292)\" d=\"M1183.07 1394.74 L1179.58 1377.09 L1218.38 1387.76 L1186.56 1412.4  Z\" fill=\"#000000\" fill-rule=\"evenodd\" fill-opacity=\"1\"/>\n",
       "<polyline clip-path=\"url(#clip292)\" style=\"stroke:#000000; stroke-linecap:round; stroke-linejoin:round; stroke-width:4; stroke-opacity:1; fill:none\" points=\"1183.07,1394.74 1181.13,1395.13 \"/>\n",
       "<circle clip-path=\"url(#clip292)\" cx=\"1181.13\" cy=\"1395.13\" r=\"14.4\" fill=\"#000000\" fill-rule=\"evenodd\" fill-opacity=\"0\" stroke=\"none\"/>\n",
       "<circle clip-path=\"url(#clip292)\" cx=\"1218.38\" cy=\"1387.76\" r=\"14.4\" fill=\"#000000\" fill-rule=\"evenodd\" fill-opacity=\"0\" stroke=\"none\"/>\n",
       "<circle clip-path=\"url(#clip292)\" cx=\"1254.89\" cy=\"1377.31\" r=\"14.4\" fill=\"#000000\" fill-rule=\"evenodd\" fill-opacity=\"1\" stroke=\"none\"/>\n",
       "<polyline clip-path=\"url(#clip292)\" style=\"stroke:#000000; stroke-linecap:round; stroke-linejoin:round; stroke-width:4; stroke-opacity:1; fill:none\" points=\"1218.38,1387.76 1254.89,1377.31 \"/>\n",
       "<path clip-path=\"url(#clip292)\" d=\"M1220.28 1387.22 L1215.33 1369.91 L1254.89 1377.31 L1225.23 1404.52  Z\" fill=\"#000000\" fill-rule=\"evenodd\" fill-opacity=\"1\"/>\n",
       "<polyline clip-path=\"url(#clip292)\" style=\"stroke:#000000; stroke-linecap:round; stroke-linejoin:round; stroke-width:4; stroke-opacity:1; fill:none\" points=\"1220.28,1387.22 1218.38,1387.76 \"/>\n",
       "<circle clip-path=\"url(#clip292)\" cx=\"1218.38\" cy=\"1387.76\" r=\"14.4\" fill=\"#000000\" fill-rule=\"evenodd\" fill-opacity=\"0\" stroke=\"none\"/>\n",
       "<circle clip-path=\"url(#clip292)\" cx=\"1254.89\" cy=\"1377.31\" r=\"14.4\" fill=\"#000000\" fill-rule=\"evenodd\" fill-opacity=\"0\" stroke=\"none\"/>\n",
       "<circle clip-path=\"url(#clip292)\" cx=\"1292.18\" cy=\"1400.97\" r=\"14.4\" fill=\"#000000\" fill-rule=\"evenodd\" fill-opacity=\"1\" stroke=\"none\"/>\n",
       "<polyline clip-path=\"url(#clip292)\" style=\"stroke:#000000; stroke-linecap:round; stroke-linejoin:round; stroke-width:4; stroke-opacity:1; fill:none\" points=\"1254.89,1377.31 1292.18,1400.97 \"/>\n",
       "<path clip-path=\"url(#clip292)\" d=\"M1261.78 1381.68 L1271.42 1366.48 L1292.18 1400.97 L1252.14 1396.88  Z\" fill=\"#000000\" fill-rule=\"evenodd\" fill-opacity=\"1\"/>\n",
       "<polyline clip-path=\"url(#clip292)\" style=\"stroke:#000000; stroke-linecap:round; stroke-linejoin:round; stroke-width:4; stroke-opacity:1; fill:none\" points=\"1261.78,1381.68 1254.89,1377.31 \"/>\n",
       "<circle clip-path=\"url(#clip292)\" cx=\"1254.89\" cy=\"1377.31\" r=\"14.4\" fill=\"#000000\" fill-rule=\"evenodd\" fill-opacity=\"0\" stroke=\"none\"/>\n",
       "<circle clip-path=\"url(#clip292)\" cx=\"1292.18\" cy=\"1400.97\" r=\"14.4\" fill=\"#000000\" fill-rule=\"evenodd\" fill-opacity=\"0\" stroke=\"none\"/>\n",
       "<circle clip-path=\"url(#clip292)\" cx=\"1329.61\" cy=\"1377.54\" r=\"14.4\" fill=\"#000000\" fill-rule=\"evenodd\" fill-opacity=\"1\" stroke=\"none\"/>\n",
       "<polyline clip-path=\"url(#clip292)\" style=\"stroke:#000000; stroke-linecap:round; stroke-linejoin:round; stroke-width:4; stroke-opacity:1; fill:none\" points=\"1292.18,1400.97 1329.61,1377.54 \"/>\n",
       "<path clip-path=\"url(#clip292)\" d=\"M1299.09 1396.64 L1289.54 1381.38 L1329.61 1377.54 L1308.64 1411.9  Z\" fill=\"#000000\" fill-rule=\"evenodd\" fill-opacity=\"1\"/>\n",
       "<polyline clip-path=\"url(#clip292)\" style=\"stroke:#000000; stroke-linecap:round; stroke-linejoin:round; stroke-width:4; stroke-opacity:1; fill:none\" points=\"1299.09,1396.64 1292.18,1400.97 \"/>\n",
       "<circle clip-path=\"url(#clip292)\" cx=\"1292.18\" cy=\"1400.97\" r=\"14.4\" fill=\"#000000\" fill-rule=\"evenodd\" fill-opacity=\"0\" stroke=\"none\"/>\n",
       "<circle clip-path=\"url(#clip292)\" cx=\"1329.61\" cy=\"1377.54\" r=\"14.4\" fill=\"#000000\" fill-rule=\"evenodd\" fill-opacity=\"0\" stroke=\"none\"/>\n",
       "<circle clip-path=\"url(#clip292)\" cx=\"1366.89\" cy=\"1401.2\" r=\"14.4\" fill=\"#000000\" fill-rule=\"evenodd\" fill-opacity=\"1\" stroke=\"none\"/>\n",
       "<polyline clip-path=\"url(#clip292)\" style=\"stroke:#000000; stroke-linecap:round; stroke-linejoin:round; stroke-width:4; stroke-opacity:1; fill:none\" points=\"1329.61,1377.54 1366.89,1401.2 \"/>\n",
       "<path clip-path=\"url(#clip292)\" d=\"M1336.5 1381.91 L1346.14 1366.71 L1366.89 1401.2 L1326.85 1397.11  Z\" fill=\"#000000\" fill-rule=\"evenodd\" fill-opacity=\"1\"/>\n",
       "<polyline clip-path=\"url(#clip292)\" style=\"stroke:#000000; stroke-linecap:round; stroke-linejoin:round; stroke-width:4; stroke-opacity:1; fill:none\" points=\"1336.5,1381.91 1329.61,1377.54 \"/>\n",
       "<circle clip-path=\"url(#clip292)\" cx=\"1329.61\" cy=\"1377.54\" r=\"14.4\" fill=\"#000000\" fill-rule=\"evenodd\" fill-opacity=\"0\" stroke=\"none\"/>\n",
       "<circle clip-path=\"url(#clip292)\" cx=\"1366.89\" cy=\"1401.2\" r=\"14.4\" fill=\"#000000\" fill-rule=\"evenodd\" fill-opacity=\"0\" stroke=\"none\"/>\n",
       "</svg>\n"
      ]
     },
     "metadata": {}
    }
   ],
   "cell_type": "code",
   "source": [
    "fig = plot(aspect_ratio=:equal)\n",
    "Plots.plot!(problem.system.X; dims=[1,2], color=:yellow, opacity=0.5)\n",
    "Plots.plot!(problem.initial_set; dims=[1,2], color=:green)\n",
    "Plots.plot!(problem.target_set; dims=[1,2], color=:red)\n",
    "UT.plot_traj!(x_traj; dims=[1,2])\n",
    "display(fig)"
   ],
   "metadata": {},
   "execution_count": 10
  },
  {
   "cell_type": "markdown",
   "source": [
    "### References\n",
    "1. G. Reissig, A. Weber and M. Rungger, \"Feedback Refinement Relations for the Synthesis of Symbolic Controllers,\" in IEEE Transactions on Automatic Control, vol. 62, no. 4, pp. 1781-1796.\n",
    "2. K. J. Aström and R. M. Murray, Feedback systems. Princeton University Press, Princeton, NJ, 2008."
   ],
   "metadata": {}
  },
  {
   "cell_type": "markdown",
   "source": [
    "---\n",
    "\n",
    "*This notebook was generated using [Literate.jl](https://github.com/fredrikekre/Literate.jl).*"
   ],
   "metadata": {}
  }
 ],
 "nbformat_minor": 3,
 "metadata": {
  "language_info": {
   "file_extension": ".jl",
   "mimetype": "application/julia",
   "name": "julia",
   "version": "1.9.0"
  },
  "kernelspec": {
   "name": "julia-1.9",
   "display_name": "Julia 1.9.0",
   "language": "julia"
  }
 },
 "nbformat": 4
}
