{
 "cells": [
  {
   "cell_type": "markdown",
   "source": [
    "# Ellipsoids\n",
    "\n",
    "\n",
    "In this file, we will visit the basic features provided by Dionysos for manipulating ellipsoids:\n",
    "- inclusion\n",
    "- intersection\n",
    "\n",
    "First, let us import a few packages that are necessary to run this example."
   ],
   "metadata": {}
  },
  {
   "outputs": [],
   "cell_type": "code",
   "source": [
    "using Dionysos\n",
    "using StaticArrays\n",
    "using LinearAlgebra\n",
    "using Plots"
   ],
   "metadata": {},
   "execution_count": 1
  },
  {
   "cell_type": "markdown",
   "source": [
    "The main package [Dionysos](https://github.com/dionysos-dev/Dionysos.jl) provides most important data structures that we will need."
   ],
   "metadata": {}
  },
  {
   "outputs": [
    {
     "output_type": "execute_result",
     "data": {
      "text/plain": "Dionysos.Utils"
     },
     "metadata": {},
     "execution_count": 2
    }
   ],
   "cell_type": "code",
   "source": [
    "const DI = Dionysos\n",
    "const UT = DI.Utils"
   ],
   "metadata": {},
   "execution_count": 2
  },
  {
   "cell_type": "markdown",
   "source": [
    "We define a plotting functions"
   ],
   "metadata": {}
  },
  {
   "outputs": [
    {
     "output_type": "execute_result",
     "data": {
      "text/plain": "analyze (generic function with 1 method)"
     },
     "metadata": {},
     "execution_count": 3
    }
   ],
   "cell_type": "code",
   "source": [
    "function plot_config!(El0, El, Elnew)\n",
    "    fig = plot(aspect_ratio=:equal);\n",
    "    if Elnew∈El0\n",
    "        plot!(fig, El0, color=:red, label=\"El0\");\n",
    "        plot!(fig, Elnew, color=:green, label=\"Elnew\");\n",
    "    else\n",
    "        plot!(fig, Elnew, color=:green, label=\"Elnew\");\n",
    "        plot!(fig, El0, color=:red, label=\"El0\");\n",
    "    end\n",
    "    plot!(fig, El, color=:blue, label=\"El\", show = true)\n",
    "end\n",
    "\n",
    "function analyze(i)\n",
    "    El0 = E0L[i]\n",
    "    Elnew = UT.scale_for_inclusion_contact_point(El0, El)\n",
    "    plot_config!(El0, El, Elnew)\n",
    "    println(El0∈El)\n",
    "\n",
    "    Elnew = UT.scale_for_noninclusion_contact_point(El0, El)\n",
    "    plot_config!(El0, El, Elnew)\n",
    "    println(UT.intersect(El0, El))\n",
    "end"
   ],
   "metadata": {},
   "execution_count": 3
  },
  {
   "cell_type": "markdown",
   "source": [
    "We define some ellipsoids"
   ],
   "metadata": {}
  },
  {
   "outputs": [
    {
     "output_type": "execute_result",
     "data": {
      "text/plain": "4-element Vector{Dionysos.Utils.Ellipsoid{Float64, Matrix{Float64}, Vector{Float64}}}:\n Dionysos.Utils.Ellipsoid{Float64, Matrix{Float64}, Vector{Float64}}([0.4 -0.1; -0.1 0.5], [4.1, 3.8999999999999995])\n Dionysos.Utils.Ellipsoid{Float64, Matrix{Float64}, Vector{Float64}}([0.4 -0.1; -0.1 0.5], [3.32, 3.1199999999999997])\n Dionysos.Utils.Ellipsoid{Float64, Matrix{Float64}, Vector{Float64}}([0.4 -0.1; -0.1 0.5], [2.8, 2.5999999999999996])\n Dionysos.Utils.Ellipsoid{Float64, Matrix{Float64}, Vector{Float64}}([0.4 -0.1; -0.1 0.5], [2.4, 2.1999999999999997])"
     },
     "metadata": {},
     "execution_count": 4
    }
   ],
   "cell_type": "code",
   "source": [
    "c = [1.5; 1.5]\n",
    "P = [4.0 0.5;\n",
    "     0.5 6.0]\n",
    "El = UT.Ellipsoid(P, c)\n",
    "\n",
    "P0 = [0.4 -0.1;\n",
    "      -0.1 0.5]\n",
    "vals = [4.1, 3.32, 2.8, 2.4]\n",
    "E0L = [UT.Ellipsoid(P0, [c0x; c0x-0.2]) for c0x in vals]"
   ],
   "metadata": {},
   "execution_count": 4
  },
  {
   "cell_type": "markdown",
   "source": [
    "case 1 : non intersection"
   ],
   "metadata": {}
  },
  {
   "outputs": [
    {
     "name": "stdout",
     "output_type": "stream",
     "text": [
      "false\n",
      "false\n"
     ]
    }
   ],
   "cell_type": "code",
   "source": [
    "analyze(1)"
   ],
   "metadata": {},
   "execution_count": 5
  },
  {
   "cell_type": "markdown",
   "source": [
    "case 2 : non intersection"
   ],
   "metadata": {}
  },
  {
   "outputs": [
    {
     "name": "stdout",
     "output_type": "stream",
     "text": [
      "false\n",
      "false\n"
     ]
    }
   ],
   "cell_type": "code",
   "source": [
    "analyze(2)"
   ],
   "metadata": {},
   "execution_count": 6
  },
  {
   "cell_type": "markdown",
   "source": [
    "case 3 : intersection, non inclusion"
   ],
   "metadata": {}
  },
  {
   "outputs": [
    {
     "name": "stdout",
     "output_type": "stream",
     "text": [
      "false\n",
      "true\n"
     ]
    }
   ],
   "cell_type": "code",
   "source": [
    "analyze(3)"
   ],
   "metadata": {},
   "execution_count": 7
  },
  {
   "cell_type": "markdown",
   "source": [
    "case 4 : inclusion"
   ],
   "metadata": {}
  },
  {
   "outputs": [
    {
     "name": "stdout",
     "output_type": "stream",
     "text": [
      "false\n",
      "true\n"
     ]
    }
   ],
   "cell_type": "code",
   "source": [
    "analyze(4)"
   ],
   "metadata": {},
   "execution_count": 8
  },
  {
   "cell_type": "markdown",
   "source": [
    "---\n",
    "\n",
    "*This notebook was generated using [Literate.jl](https://github.com/fredrikekre/Literate.jl).*"
   ],
   "metadata": {}
  }
 ],
 "nbformat_minor": 3,
 "metadata": {
  "language_info": {
   "file_extension": ".jl",
   "mimetype": "application/julia",
   "name": "julia",
   "version": "1.9.1"
  },
  "kernelspec": {
   "name": "julia-1.9",
   "display_name": "Julia 1.9.1",
   "language": "julia"
  }
 },
 "nbformat": 4
}
