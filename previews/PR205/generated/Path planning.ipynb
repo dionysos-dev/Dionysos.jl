{
 "cells": [
  {
   "cell_type": "markdown",
   "source": [
    "# Example: Path planning problem\n",
    "\n",
    "\n",
    "This example was borrowed from [1, IX. Examples, A] whose dynamics comes from the model given in [2, Ch. 2.4].\n",
    "This is a **reachability problem** for a **continuous system**.\n",
    "\n",
    "Let us consider the 3-dimensional state space control system of the form\n",
    "$$\n",
    "\\dot{x} = f(x, u)\n",
    "$$\n",
    "with $f: \\mathbb{R}^3 × U ↦ \\mathbb{R}^3$ given by\n",
    "$$\n",
    "f(x,(u_1,u_2)) = \\begin{bmatrix} u_1 \\cos(α+x_3)\\cos(α^{-1}) \\\\ u_1 \\sin(α+x_3)\\cos(α^{-1}) \\\\ u_1 \\tan(u_2)  \\end{bmatrix}\n",
    "$$\n",
    "and with $U = [−1, 1] \\times [−1, 1]$ and $α = \\arctan(\\tan(u_2)/2)$. Here, $(x_1, x_2)$ is the position and $x_3$ is the\n",
    "orientation of the vehicle in the 2-dimensional plane. The control inputs $u_1$ and $u_2$ are the rear\n",
    "wheel velocity and the steering angle.\n",
    "The control objective is to drive the vehicle which is situated in a maze made of obstacles from an initial position to a target position.\n",
    "\n",
    "\n",
    "In order to study the concrete system and its symbolic abstraction in a unified framework, we will solve the problem\n",
    "for the sampled system with a sampling time $\\tau$.\n",
    "\n",
    "The abstraction is based on a feedback refinment relation [1,V.2 Definition].\n",
    "Basically, this is equivalent to an alternating simulation relationship with the additional constraint that the input of the\n",
    "concrete and symbolic system preserving the relation must be identical.\n",
    "This allows to easily determine the controller of the concrete system from the abstraction controller by simply adding a quantization step.\n",
    "\n",
    "For the construction of the relations in the abstraction, it is necessary to over-approximate attainable sets of\n",
    "a particular cell. In this example, we consider the used of a growth bound function  [1, VIII.2, VIII.5] which is one of the possible methods to over-approximate\n",
    "attainable sets of a particular cell based on the state reach by its center. Therefore, it is used\n",
    "to compute the relations in the abstraction based on the feedback refinement relation.\n",
    "\n",
    "For this reachability problem, the abstraction controller is built by solving a fixed-point equation which consists in computing the the pre-image\n",
    "of the target set."
   ],
   "metadata": {}
  },
  {
   "cell_type": "markdown",
   "source": [
    "First, let us import [StaticArrays](https://github.com/JuliaArrays/StaticArrays.jl)."
   ],
   "metadata": {}
  },
  {
   "outputs": [],
   "cell_type": "code",
   "source": [
    "using StaticArrays"
   ],
   "metadata": {},
   "execution_count": 1
  },
  {
   "cell_type": "markdown",
   "source": [
    "At this point, we import the useful Dionysos sub-module for this problem: [Abstraction](https://github.com/dionysos-dev/Dionysos.jl/blob/master/src/Abstraction/abstraction.jl)."
   ],
   "metadata": {}
  },
  {
   "outputs": [
    {
     "output_type": "execute_result",
     "data": {
      "text/plain": "Dionysos.Symbolic"
     },
     "metadata": {},
     "execution_count": 2
    }
   ],
   "cell_type": "code",
   "source": [
    "using Dionysos\n",
    "using Dionysos.Problem\n",
    "const DI = Dionysos\n",
    "const UT = DI.Utils\n",
    "const DO = DI.Domain\n",
    "const ST = DI.System\n",
    "const CO = DI.Control\n",
    "const SY = DI.Symbolic"
   ],
   "metadata": {},
   "execution_count": 2
  },
  {
   "cell_type": "markdown",
   "source": [
    "And the file defining the hybrid system for this problem"
   ],
   "metadata": {}
  },
  {
   "outputs": [
    {
     "output_type": "execute_result",
     "data": {
      "text/plain": "Main.var\"##356\".PathPlanning"
     },
     "metadata": {},
     "execution_count": 3
    }
   ],
   "cell_type": "code",
   "source": [
    "include(joinpath(dirname(dirname(pathof(Dionysos))), \"problems\", \"PathPlanning.jl\"))"
   ],
   "metadata": {},
   "execution_count": 3
  },
  {
   "cell_type": "markdown",
   "source": [
    "### Definition of the problem"
   ],
   "metadata": {}
  },
  {
   "cell_type": "markdown",
   "source": [
    "Now we instantiate the problem using the function provided by [PathPlanning.jl](https://github.com/dionysos-dev/Dionysos.jl/blob/master/problems/PathPlanning.jl)"
   ],
   "metadata": {}
  },
  {
   "outputs": [],
   "cell_type": "code",
   "source": [
    "problem = PathPlanning.problem();"
   ],
   "metadata": {},
   "execution_count": 4
  },
  {
   "cell_type": "markdown",
   "source": [
    "`F_sys` is the function, `_X_` the state domain and `_U_` the input domain"
   ],
   "metadata": {}
  },
  {
   "outputs": [],
   "cell_type": "code",
   "source": [
    "F_sys = problem.system.f;\n",
    "_X_ = problem.system.X;\n",
    "_U_ = problem.system.U;"
   ],
   "metadata": {},
   "execution_count": 5
  },
  {
   "cell_type": "markdown",
   "source": [
    "### Definition of the abstraction"
   ],
   "metadata": {}
  },
  {
   "cell_type": "markdown",
   "source": [
    "Definition of the grid of the state-space on which the abstraction is based (origin `x0` and state-space discretization `h`):"
   ],
   "metadata": {}
  },
  {
   "outputs": [],
   "cell_type": "code",
   "source": [
    "x0 = SVector(0.0, 0.0, 0.0);\n",
    "h = SVector(0.2, 0.2, 0.2);\n",
    "state_grid = DO.GridFree(x0, h);"
   ],
   "metadata": {},
   "execution_count": 6
  },
  {
   "cell_type": "markdown",
   "source": [
    "Definition of the grid of the input-space on which the abstraction is based (origin `u0` and input-space discretization `h`):"
   ],
   "metadata": {}
  },
  {
   "outputs": [],
   "cell_type": "code",
   "source": [
    "u0 = SVector(0.0, 0.0);\n",
    "h = SVector(0.3, 0.3);\n",
    "input_grid = DO.GridFree(u0, h);"
   ],
   "metadata": {},
   "execution_count": 7
  },
  {
   "cell_type": "markdown",
   "source": [
    "We now solve the optimal control problem with the `Abstraction.Optimizer`."
   ],
   "metadata": {}
  },
  {
   "outputs": [
    {
     "name": "stdout",
     "output_type": "stream",
     "text": [
      "compute_symmodel_from_controlsystem! started\n",
      "compute_symmodel_from_controlsystem! terminated with success: 19907665 transitions created\n",
      " 25.317545 seconds (144.69 M allocations: 6.501 GiB, 7.91% gc time, 1.00% compilation time)\n",
      "compute_controller_reach! started\n",
      "\n",
      "compute_controller_reach! terminated with success\n",
      " 34.168443 seconds (96.49 M allocations: 3.342 GiB, 2.46% gc time, 0.66% compilation time)\n"
     ]
    }
   ],
   "cell_type": "code",
   "source": [
    "using JuMP\n",
    "optimizer = MOI.instantiate(Abstraction.Optimizer)\n",
    "MOI.set(optimizer, MOI.RawOptimizerAttribute(\"problem\"), problem)\n",
    "MOI.set(optimizer, MOI.RawOptimizerAttribute(\"state_grid\"), state_grid)\n",
    "MOI.set(optimizer, MOI.RawOptimizerAttribute(\"input_grid\"), input_grid)\n",
    "MOI.optimize!(optimizer)\n",
    "\n",
    "controller = MOI.get(optimizer, MOI.RawOptimizerAttribute(\"controller\"));"
   ],
   "metadata": {},
   "execution_count": 8
  },
  {
   "cell_type": "markdown",
   "source": [
    "### Trajectory display\n",
    "We choose the number of steps `nsteps` for the sampled system, i.e. the total elapsed time: `nstep`*`tstep`\n",
    "as well as the true initial state `x0` which is contained in the initial state-space `_I_` defined previously."
   ],
   "metadata": {}
  },
  {
   "outputs": [],
   "cell_type": "code",
   "source": [
    "nstep = 100;\n",
    "x0 = SVector(0.4, 0.4, 0.0);"
   ],
   "metadata": {},
   "execution_count": 9
  },
  {
   "cell_type": "markdown",
   "source": [
    "Here we display the coordinate projection on the two first components of the state space along the trajectory.\n",
    "\n",
    "To complete"
   ],
   "metadata": {}
  },
  {
   "cell_type": "markdown",
   "source": [
    "### References\n",
    "1. G. Reissig, A. Weber and M. Rungger, \"Feedback Refinement Relations for the Synthesis of Symbolic Controllers,\" in IEEE Transactions on Automatic Control, vol. 62, no. 4, pp. 1781-1796.\n",
    "2. K. J. Aström and R. M. Murray, Feedback systems. Princeton University Press, Princeton, NJ, 2008."
   ],
   "metadata": {}
  },
  {
   "cell_type": "markdown",
   "source": [
    "---\n",
    "\n",
    "*This notebook was generated using [Literate.jl](https://github.com/fredrikekre/Literate.jl).*"
   ],
   "metadata": {}
  }
 ],
 "nbformat_minor": 3,
 "metadata": {
  "language_info": {
   "file_extension": ".jl",
   "mimetype": "application/julia",
   "name": "julia",
   "version": "1.9.0"
  },
  "kernelspec": {
   "name": "julia-1.9",
   "display_name": "Julia 1.9.0",
   "language": "julia"
  }
 },
 "nbformat": 4
}
