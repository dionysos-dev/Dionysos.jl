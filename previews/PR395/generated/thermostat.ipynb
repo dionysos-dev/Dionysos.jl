{
 "cells": [
  {
   "outputs": [],
   "cell_type": "code",
   "source": [
    "using Test"
   ],
   "metadata": {},
   "execution_count": 1
  },
  {
   "cell_type": "markdown",
   "source": [
    "# Example: Thermostat problem solved by [Uniform grid abstraction](https://github.com/dionysos-dev/Dionysos.jl/blob/master/docs/src/manual/manual.md#solvers).\n",
    "\n",
    "Let us consider the 1-dimensional state space control system of the form\n",
    "$$\n",
    "\\dot{x} = f(T, u)\n",
    "$$\n",
    "with $T=T(t)$ the temperature of the room at time $t$ and $u=u(t)$ the heating intensity, where $0 \\leq u(t) \\leq 1$. A value of 1 represents maximum heating, and 0 represents no heating.\n",
    "$f: \\mathbb{R} × U \\to \\mathbb{R}$. The system can operate in two modes: heating (mode=1) and idle (mode=0).\n",
    "1. In heating mode, the temperature increases at a rate proportional to the heating intensity (the control input $u(t)$).\n",
    "$$\n",
    "f(T, u) = k \\cdot u(t)\n",
    "$$\n",
    "2. In idle mode, the temperature decreases (or remains constant if $\\alpha=0$) in this mode due to the abient cooling.\n",
    "$$\n",
    "f(T, u) = -\\alpha\n",
    "$$\n",
    "where $k$ is Maximum heating rate (degrees per unit time).\n",
    "\n",
    "The control objective is to maintain the temperature of the room at a desired reference temperature $T_r$ with a tolerance of $\\delta$. This introduces a constraint on the control input $u(t)$.\n",
    "$$\n",
    "|T(t) - T_r| \\leq \\delta\n",
    "$$\n",
    "or equivalently\n",
    "$$\n",
    "T_r - \\delta \\leq T(t) \\leq T_r + \\delta\n",
    "$$\n",
    "\n",
    "In this example, we will consider the hybrid system where the system can switch between the two modes."
   ],
   "metadata": {}
  },
  {
   "cell_type": "markdown",
   "source": [
    "First, let us import [StaticArrays](https://github.com/JuliaArrays/StaticArrays.jl) and [Plots](https://github.com/JuliaPlots/Plots.jl)."
   ],
   "metadata": {}
  },
  {
   "outputs": [],
   "cell_type": "code",
   "source": [
    "using StaticArrays, Plots"
   ],
   "metadata": {},
   "execution_count": 2
  },
  {
   "cell_type": "markdown",
   "source": [
    "At this point, we import Dionysos and JuMP."
   ],
   "metadata": {}
  },
  {
   "outputs": [],
   "cell_type": "code",
   "source": [
    "using JuMP, Dionysos"
   ],
   "metadata": {},
   "execution_count": 3
  },
  {
   "cell_type": "markdown",
   "source": [
    "We define the parameters of the system."
   ],
   "metadata": {}
  },
  {
   "outputs": [
    {
     "output_type": "execute_result",
     "data": {
      "text/plain": "1.0"
     },
     "metadata": {},
     "execution_count": 4
    }
   ],
   "cell_type": "code",
   "source": [
    "k = 0.5 # Maximum heating rate (degrees per unit time)\n",
    "α = 0.1 # Ambient cooling rate (degrees per unit time)\n",
    "T_r = 20.0 # Reference temperature\n",
    "δ = 1.0 # Tolerance"
   ],
   "metadata": {},
   "execution_count": 4
  },
  {
   "cell_type": "markdown",
   "source": [
    "### Definition of the problem"
   ],
   "metadata": {}
  },
  {
   "cell_type": "markdown",
   "source": [
    "We define the problem using JuMP as follows.\n",
    "We first create a JuMP model:"
   ],
   "metadata": {}
  },
  {
   "outputs": [
    {
     "output_type": "execute_result",
     "data": {
      "text/plain": "A JuMP Model\n├ solver: unknown\n├ objective_sense: FEASIBILITY_SENSE\n├ num_variables: 0\n├ num_constraints: 0\n└ Names registered in the model: none"
     },
     "metadata": {},
     "execution_count": 5
    }
   ],
   "cell_type": "code",
   "source": [
    "model = Model(Dionysos.Optimizer)"
   ],
   "metadata": {},
   "execution_count": 5
  },
  {
   "cell_type": "markdown",
   "source": [
    "Define the state variables: T(t)"
   ],
   "metadata": {}
  },
  {
   "outputs": [
    {
     "output_type": "execute_result",
     "data": {
      "text/plain": "T",
      "text/latex": "$ T $"
     },
     "metadata": {},
     "execution_count": 6
    }
   ],
   "cell_type": "code",
   "source": [
    "T_low, T_upp = 0.0, 30.0\n",
    "T_start = 10.0\n",
    "@variable(model, T_low <= T <= T_upp, start = T_start)"
   ],
   "metadata": {},
   "execution_count": 6
  },
  {
   "cell_type": "markdown",
   "source": [
    "Define the control variables: u(t)"
   ],
   "metadata": {}
  },
  {
   "outputs": [
    {
     "output_type": "execute_result",
     "data": {
      "text/plain": "u",
      "text/latex": "$ u $"
     },
     "metadata": {},
     "execution_count": 7
    }
   ],
   "cell_type": "code",
   "source": [
    "@variable(model, 0 <= u <= 1)"
   ],
   "metadata": {},
   "execution_count": 7
  },
  {
   "cell_type": "markdown",
   "source": [
    "Define the mode variable: mode(t)"
   ],
   "metadata": {}
  },
  {
   "outputs": [
    {
     "output_type": "execute_result",
     "data": {
      "text/plain": "mode",
      "text/latex": "$ mode $"
     },
     "metadata": {},
     "execution_count": 8
    }
   ],
   "cell_type": "code",
   "source": [
    "@variable(model, 1 <= mode <= 2, integer = true)"
   ],
   "metadata": {},
   "execution_count": 8
  },
  {
   "cell_type": "markdown",
   "source": [
    "### Define the dynamics of the system\n",
    "Define the modes"
   ],
   "metadata": {}
  },
  {
   "outputs": [
    {
     "output_type": "execute_result",
     "data": {
      "text/plain": "(mode == 1.0) == (∂(T) - -0.1) = 0",
      "text/latex": "$$ {\\left({mode} = {1.0}\\right)} = {\\left({\\textsf{∂}\\left({T}\\right)} - {-0.1}\\right)} = 0 $$"
     },
     "metadata": {},
     "execution_count": 9
    }
   ],
   "cell_type": "code",
   "source": [
    "@constraint(model, mode == 2 => {∂(T) == k * u})\n",
    "@constraint(model, mode == 1 => {∂(T) == -α})"
   ],
   "metadata": {},
   "execution_count": 9
  },
  {
   "cell_type": "markdown",
   "source": [
    "Define the guards and resetmaps for each transition"
   ],
   "metadata": {}
  },
  {
   "cell_type": "markdown",
   "source": [
    "Transition 0 -> 1"
   ],
   "metadata": {}
  },
  {
   "outputs": [
    {
     "output_type": "execute_result",
     "data": {
      "text/plain": "guard(mode == 2.0, mode == 1.0) == ((T) - 19.0) ≥ 19",
      "text/latex": "$$ {\\textsf{guard}\\left({{mode} = {2.0}}, {{mode} = {1.0}}\\right)} = {\\left({\\left(T\\right)} - {19.0}\\right)} \\geq 19 $$"
     },
     "metadata": {},
     "execution_count": 10
    }
   ],
   "cell_type": "code",
   "source": [
    "@constraint(model, guard(mode == 2, mode == 1) => {T >= T_r - δ})"
   ],
   "metadata": {},
   "execution_count": 10
  },
  {
   "cell_type": "markdown",
   "source": [
    "The resetmaps can be defined as follows:\n",
    "```julia\n",
    "@constraint(model, resetmaps(mode == 1, mode == 2) => {Δ(T) == ...})\n",
    "```"
   ],
   "metadata": {}
  },
  {
   "cell_type": "markdown",
   "source": [
    "Alternatively we can define the transitions using `add_transition!` function\n",
    "```julia\n",
    "add_transition!(model, mode, 1, 2) do t\n",
    "   @constraint(t, T <= T_r + δ) # guard\n",
    "   @constraint(t, Δ(T) == ...) # resetmap\n",
    "end\n",
    "```"
   ],
   "metadata": {}
  },
  {
   "cell_type": "markdown",
   "source": [
    "Transition 2 -> 1"
   ],
   "metadata": {}
  },
  {
   "outputs": [
    {
     "output_type": "execute_result",
     "data": {
      "text/plain": "guard(mode == 1.0, mode == 2.0) == ((T) - 21.0) ≤ 21",
      "text/latex": "$$ {\\textsf{guard}\\left({{mode} = {1.0}}, {{mode} = {2.0}}\\right)} = {\\left({\\left(T\\right)} - {21.0}\\right)} \\leq 21 $$"
     },
     "metadata": {},
     "execution_count": 11
    }
   ],
   "cell_type": "code",
   "source": [
    "@constraint(model, guard(mode == 1, mode == 2) => {T <= T_r + δ})"
   ],
   "metadata": {},
   "execution_count": 11
  },
  {
   "cell_type": "markdown",
   "source": [
    "Define the initial set"
   ],
   "metadata": {}
  },
  {
   "outputs": [
    {
     "output_type": "execute_result",
     "data": {
      "text/plain": "start(T) ∈ [9.5, 10.5]",
      "text/latex": "$$ \\textsf{start}\\left({T}\\right) \\in [9.5, 10.5] $$"
     },
     "metadata": {},
     "execution_count": 12
    }
   ],
   "cell_type": "code",
   "source": [
    "@constraint(model, start(T) in MOI.Interval(9.5, 10.5))"
   ],
   "metadata": {},
   "execution_count": 12
  },
  {
   "cell_type": "markdown",
   "source": [
    "Define the target set"
   ],
   "metadata": {}
  },
  {
   "outputs": [
    {
     "output_type": "execute_result",
     "data": {
      "text/plain": "final(T) ∈ [19, 21]",
      "text/latex": "$$ \\textsf{final}\\left({T}\\right) \\in [19, 21] $$"
     },
     "metadata": {},
     "execution_count": 13
    }
   ],
   "cell_type": "code",
   "source": [
    "@constraint(model, final(T) in MOI.Interval(19.0, 21.0))"
   ],
   "metadata": {},
   "execution_count": 13
  },
  {
   "cell_type": "markdown",
   "source": [
    "Define the time step"
   ],
   "metadata": {}
  },
  {
   "outputs": [],
   "cell_type": "code",
   "source": [
    "set_attribute(model, \"time_step\", 0.1)"
   ],
   "metadata": {},
   "execution_count": 14
  },
  {
   "cell_type": "markdown",
   "source": [
    "### Definition of the abstraction"
   ],
   "metadata": {}
  },
  {
   "cell_type": "markdown",
   "source": [
    "Definition of the grid of the state-space on which the abstraction is based (origin `x0` and state-space discretization `h`):"
   ],
   "metadata": {}
  },
  {
   "outputs": [],
   "cell_type": "code",
   "source": [
    "x0 = SVector(0.0);\n",
    "h = SVector(0.1);\n",
    "set_attribute(model, \"state_grid\", Dionysos.Domain.GridFree(x0, h))"
   ],
   "metadata": {},
   "execution_count": 15
  },
  {
   "cell_type": "markdown",
   "source": [
    "Definition of the grid of the input-space on which the abstraction is based (origin `u0` and input-space discretization `h`):"
   ],
   "metadata": {}
  },
  {
   "outputs": [],
   "cell_type": "code",
   "source": [
    "u0 = SVector(0.0);\n",
    "h = SVector(0.3);\n",
    "set_attribute(model, \"input_grid\", Dionysos.Domain.GridFree(u0, h))"
   ],
   "metadata": {},
   "execution_count": 16
  },
  {
   "cell_type": "markdown",
   "source": [
    "### Solving the problem"
   ],
   "metadata": {}
  },
  {
   "outputs": [
    {
     "name": "stdout",
     "output_type": "stream",
     "text": [
      ">>Adding variable\n",
      ">>Adding variable\n",
      ">>Adding variable\n",
      ">>Adding mode setup\n",
      ">>Adding mode setup\n",
      ">>Adding guard setup\n",
      ">>Adding guard setup\n",
      "(model.modes[key]).dynamic = Union{Nothing, MathOptInterface.ScalarNonlinearFunction}[+(*(0.5, MOI.VariableIndex(2))), nothing, nothing]\n",
      "(model.modes[key]).dynamic = Union{Nothing, MathOptInterface.ScalarNonlinearFunction}[+(-0.1), nothing, nothing]\n",
      "(model.transitions[key]).guard = Union{Nothing, MathOptInterface.ScalarNonlinearFunction}[nothing, nothing, >=(MOI.VariableIndex(1), 21.0)]\n",
      "(model.transitions[key]).guard = Union{Nothing, MathOptInterface.ScalarNonlinearFunction}[nothing, nothing, <=(MOI.VariableIndex(1), 19.0)]\n",
      "(model.transitions[key]).resetmap = Union{Nothing, MathOptInterface.ScalarNonlinearFunction}[nothing, nothing, nothing]\n",
      "[v.type for v = model.variables] = Dionysos.VariableType[Dionysos.INPUT, Dionysos.INPUT, Dionysos.MODE]\n",
      ">>Setting up the model\n",
      ">>Model setup complete\n",
      ">>Solving the hybrid system\n",
      ">>Assembling the hybrid system\n"
     ]
    }
   ],
   "cell_type": "code",
   "source": [
    "optimize!(model)"
   ],
   "metadata": {},
   "execution_count": 17
  },
  {
   "cell_type": "markdown",
   "source": [
    "---\n",
    "\n",
    "*This notebook was generated using [Literate.jl](https://github.com/fredrikekre/Literate.jl).*"
   ],
   "metadata": {}
  }
 ],
 "nbformat_minor": 3,
 "metadata": {
  "language_info": {
   "file_extension": ".jl",
   "mimetype": "application/julia",
   "name": "julia",
   "version": "1.11.2"
  },
  "kernelspec": {
   "name": "julia-1.11",
   "display_name": "Julia 1.11.2",
   "language": "julia"
  }
 },
 "nbformat": 4
}
