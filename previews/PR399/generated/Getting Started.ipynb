{
 "cells": [
  {
   "cell_type": "markdown",
   "source": [
    "# Getting Started\n",
    "\n",
    "\n",
    "In this file we will visit the basic functionalities provided by Dionysos for the optimal control of complex systems. In summary, the topics covered are\n",
    "- Grids and discretizations\n",
    "- Dynamical system declaration\n",
    "- Continuous and discrete state image mapping\n",
    "- Plotting\n",
    "\n",
    "First, let us import a few packages that are necessary to run this example."
   ],
   "metadata": {}
  },
  {
   "outputs": [],
   "cell_type": "code",
   "source": [
    "using Dionysos\n",
    "using StaticArrays\n",
    "using LinearAlgebra\n",
    "using Plots"
   ],
   "metadata": {},
   "execution_count": 1
  },
  {
   "cell_type": "markdown",
   "source": [
    "The main package [Dionysos](https://github.com/dionysos-dev/Dionysos.jl) provides most important data structures that we will need.\n",
    "Additionally  [StaticArrays](https://github.com/JuliaArrays/StaticArrays.jl) provides faster implementation of Arrays (which have static memory allocation),\n",
    "[LinearAlgebra](https://docs.julialang.org/en/v1/stdlib/LinearAlgebra/) allows us to perform some additional operations."
   ],
   "metadata": {}
  },
  {
   "outputs": [
    {
     "output_type": "execute_result",
     "data": {
      "text/plain": "Dionysos.Symbolic"
     },
     "metadata": {},
     "execution_count": 2
    }
   ],
   "cell_type": "code",
   "source": [
    "const DI = Dionysos\n",
    "const UT = DI.Utils\n",
    "const DO = DI.Domain\n",
    "const ST = DI.System\n",
    "const SY = DI.Symbolic"
   ],
   "metadata": {},
   "execution_count": 2
  },
  {
   "cell_type": "markdown",
   "source": [
    "Additionally, we will short the submodules accondingly\n",
    "\n",
    "We use `HyperRectangle` to represent the boundary of the state space `rectX` and the input space `rectU`."
   ],
   "metadata": {}
  },
  {
   "outputs": [],
   "cell_type": "code",
   "source": [
    "rectX = UT.HyperRectangle(SVector(-2, -2), SVector(2, 2));\n",
    "rectU = UT.HyperRectangle(SVector(-5), SVector(5));"
   ],
   "metadata": {},
   "execution_count": 3
  },
  {
   "cell_type": "markdown",
   "source": [
    "A discretization of the state space is declared using the `GridFree` structure, which requires the definition of a center `x0` and\n",
    "a vector `h` of discretization steps in each direction."
   ],
   "metadata": {}
  },
  {
   "outputs": [],
   "cell_type": "code",
   "source": [
    "x0 = SVector(0.0, 0.0);\n",
    "h = SVector(1.0 / 5, 1.0 / 5);\n",
    "Xgrid = DO.GridFree(x0, h);"
   ],
   "metadata": {},
   "execution_count": 4
  },
  {
   "cell_type": "markdown",
   "source": [
    "`Xgrid` represents the state space grid and holds information of `x0` and `h`, but is not a collection of cells. Indeed, a cell can be efficiently represented by a tuple of `Int`, for instance 'pos', with which the corresponding cartesian position can be computed by `x0 + h .* pos` or using functions to be shown. In Dionysos, a set of cells is called a `Domain`\n",
    "and the `DomainList` structure is used to represent this set. In the following, `domainX` is defined as an empty `DomainList` over the grid `Xgrid` and the `add_set!`\n",
    "method is responsible for adding a set of cells to the `DomainList`"
   ],
   "metadata": {}
  },
  {
   "outputs": [],
   "cell_type": "code",
   "source": [
    "domainX = DO.DomainList(Xgrid);\n",
    "DO.add_set!(domainX, rectX, DO.INNER)"
   ],
   "metadata": {},
   "execution_count": 5
  },
  {
   "cell_type": "markdown",
   "source": [
    "In this last line of code, `add_set!` add all the cells of the grid `Xgrid` to the DomainList `domainX` that are contained in the HyperRectangle `rectX`\n",
    "Construction of the struct `DomainList` containing the feasible cells of the state-space.\n",
    "Note, we used `DO.INNER` to make sure to add cells entirely contained in the domain. If we would like to add also cells partially covered by a given\n",
    "HyperRectangle, `DO.OUTER` should be used instead."
   ],
   "metadata": {}
  },
  {
   "cell_type": "markdown",
   "source": [
    "Similarly, we define a discretization of the input-space on which the abstraction is based (origin `u0` and input-space discretization `h`):"
   ],
   "metadata": {}
  },
  {
   "outputs": [],
   "cell_type": "code",
   "source": [
    "u0 = SVector(0.0);\n",
    "h = SVector(1.0 / 5);\n",
    "Ugrid = DO.GridFree(u0, h);\n",
    "domainU = DO.DomainList(Ugrid);\n",
    "DO.add_set!(domainU, rectU, DO.INNER);"
   ],
   "metadata": {},
   "execution_count": 6
  },
  {
   "cell_type": "markdown",
   "source": [
    "Now we have to define our dynamical system. For the sake of simplicity, note that we consider a linear time-invariant dynamical system but the functions\n",
    "defining it allow the definition of a generic nonlinear and time-dependent system. We also define a step time `tstep` for discretizing the continuous-time dynamic.\n",
    "The parameters"
   ],
   "metadata": {}
  },
  {
   "outputs": [],
   "cell_type": "code",
   "source": [
    "tstep = 0.1;\n",
    "nsys = 10; # Runge-Kutta pre-scaling\n",
    "\n",
    "A = SMatrix{2, 2}(0.0, 1.0, -3.0, 1.0);\n",
    "B = SMatrix{2, 1}(0.0, 1.0);\n",
    "\n",
    "F_sys = let A = A\n",
    "    (x, u) -> A * x + B * u\n",
    "end;"
   ],
   "metadata": {},
   "execution_count": 7
  },
  {
   "cell_type": "markdown",
   "source": [
    "We also need to define a growth-bound function, which allows for the state-space discretization errors. For more details on growth bounds, please refer to [(Reissig, Weber, and Rungger, 2016)](https://arxiv.org/pdf/1503.03715v1.pdf)."
   ],
   "metadata": {}
  },
  {
   "outputs": [
    {
     "output_type": "execute_result",
     "data": {
      "text/plain": "#3 (generic function with 1 method)"
     },
     "metadata": {},
     "execution_count": 8
    }
   ],
   "cell_type": "code",
   "source": [
    "ngrowthbound = 10; # Runge-Kutta pre-scaling\n",
    "A_diag = diagm(diag(A));\n",
    "A_abs = abs.(A) - abs.(A_diag) + A_diag\n",
    "L_growthbound = x -> abs.(A)"
   ],
   "metadata": {},
   "execution_count": 8
  },
  {
   "cell_type": "markdown",
   "source": [
    "Finally we define the bounds on the input noise `sysnoise` and for the measurement noise `measnoise` of the system"
   ],
   "metadata": {}
  },
  {
   "outputs": [],
   "cell_type": "code",
   "source": [
    "measnoise = SVector(0.0, 0.0);\n",
    "sysnoise = SVector(0.0, 0.0);"
   ],
   "metadata": {},
   "execution_count": 9
  },
  {
   "cell_type": "markdown",
   "source": [
    "And now the instantiation of the ControlSystem"
   ],
   "metadata": {}
  },
  {
   "outputs": [],
   "cell_type": "code",
   "source": [
    "contsys = ST.discretize_system_with_growth_bound(\n",
    "    tstep,\n",
    "    F_sys,\n",
    "    L_growthbound,\n",
    "    sysnoise,\n",
    "    measnoise,\n",
    "    nsys,\n",
    "    ngrowthbound,\n",
    ");"
   ],
   "metadata": {},
   "execution_count": 10
  },
  {
   "cell_type": "markdown",
   "source": [
    "With that in hand, we can now proceed to the construction of a symbolic model of our system"
   ],
   "metadata": {}
  },
  {
   "outputs": [],
   "cell_type": "code",
   "source": [
    "symmodel = SY.NewSymbolicModelListList(domainX, domainU);"
   ],
   "metadata": {},
   "execution_count": 11
  },
  {
   "cell_type": "markdown",
   "source": [
    "The method `compute_symmodel_from_controlsystem!` builds the transitions of the symbolic control system based on the provided domains and the dynamics\n",
    "defined in `contsys`"
   ],
   "metadata": {}
  },
  {
   "outputs": [
    {
     "name": "stdout",
     "output_type": "stream",
     "text": [
      "compute_symmodel_from_controlsystem! started\n",
      "compute_symmodel_from_controlsystem! terminated with success: 68817 transitions created\n"
     ]
    }
   ],
   "cell_type": "code",
   "source": [
    "SY.compute_symmodel_from_controlsystem!(symmodel, contsys)"
   ],
   "metadata": {},
   "execution_count": 12
  },
  {
   "cell_type": "markdown",
   "source": [
    "Let us now explore what transitions have been created considering, for instance, the state `x`=[1.1  1.3] and the input `u`=-1. First, let us pin point the cell in the grid\n",
    "associated with this state and this input. The method `get_pos_by_coord` returns a tuple of integers defining the indices of a cell coontaining a given coordinate."
   ],
   "metadata": {}
  },
  {
   "outputs": [
    {
     "output_type": "execute_result",
     "data": {
      "text/plain": "(-5,)"
     },
     "metadata": {},
     "execution_count": 13
    }
   ],
   "cell_type": "code",
   "source": [
    "xpos = DO.get_pos_by_coord(Xgrid, SVector(1.1, 1.3))\n",
    "upos = DO.get_pos_by_coord(Ugrid, SVector(-1))"
   ],
   "metadata": {},
   "execution_count": 13
  },
  {
   "cell_type": "markdown",
   "source": [
    "On the other hand, `get_coord_by_pos` returns the coordinates of the center of a cell defined by its indices."
   ],
   "metadata": {}
  },
  {
   "outputs": [
    {
     "output_type": "execute_result",
     "data": {
      "text/plain": "1-element StaticArraysCore.SVector{1, Float64} with indices SOneTo(1):\n -1.0"
     },
     "metadata": {},
     "execution_count": 14
    }
   ],
   "cell_type": "code",
   "source": [
    "x = DO.get_coord_by_pos(Xgrid, xpos)\n",
    "u = DO.get_coord_by_pos(Ugrid, upos)"
   ],
   "metadata": {},
   "execution_count": 14
  },
  {
   "cell_type": "markdown",
   "source": [
    "Now we create the vector `post` to receive the number of all the cells that are in the Post of `x` under `u`."
   ],
   "metadata": {}
  },
  {
   "outputs": [],
   "cell_type": "code",
   "source": [
    "post = Int[]\n",
    "SY.compute_post!(post, symmodel.autom, symmodel.xpos2int[xpos], symmodel.upos2int[upos])"
   ],
   "metadata": {},
   "execution_count": 15
  },
  {
   "cell_type": "markdown",
   "source": [
    "It is important to highlight the differences between `xpos` and the elements of `post`. The Tuple `xpos`\n",
    "contains information about a cell with respect to the grid `Xgrid` whereas the elements of `post` are Int's\n",
    "containing an internal code of each cell added to the Symbolic Model `symmodel`. To alterante between the\n",
    "two different representations we use the dictionaries `xint2pos` and `xpos2int`. Similarly, the same can be said\n",
    "about `upos`. That said, we can build a domain of Post of `xpos` under `upos` as following:"
   ],
   "metadata": {}
  },
  {
   "outputs": [],
   "cell_type": "code",
   "source": [
    "domainPostx = DO.DomainList(Xgrid);\n",
    "for pos in symmodel.xint2pos[post]\n",
    "    DO.add_pos!(domainPostx, pos)\n",
    "end"
   ],
   "metadata": {},
   "execution_count": 16
  },
  {
   "cell_type": "markdown",
   "source": [
    "Let us visualize this"
   ],
   "metadata": {}
  },
  {
   "outputs": [
    {
     "output_type": "execute_result",
     "data": {
      "text/plain": "Plot{Plots.GRBackend() n=22}",
      "image/png": "[encoded data removed]",
      "text/html": [
       "<?xml version=\"1.0\" encoding=\"utf-8\"?>\n",
       "<svg xmlns=\"http://www.w3.org/2000/svg\" xmlns:xlink=\"http://www.w3.org/1999/xlink\" width=\"600\" height=\"400\" viewBox=\"0 0 2400 1600\">\n",
       "<defs>\n",
       "  <clipPath id=\"clip500\">\n",
       "    <rect x=\"0\" y=\"0\" width=\"2400\" height=\"1600\"/>\n",
       "  </clipPath>\n",
       "</defs>\n",
       "<path clip-path=\"url(#clip500)\" d=\"M0 1600 L2400 1600 L2400 0 L0 0  Z\" fill=\"#ffffff\" fill-rule=\"evenodd\" fill-opacity=\"1\"/>\n",
       "<defs>\n",
       "  <clipPath id=\"clip501\">\n",
       "    <rect x=\"480\" y=\"0\" width=\"1681\" height=\"1600\"/>\n",
       "  </clipPath>\n",
       "</defs>\n",
       "<path clip-path=\"url(#clip500)\" d=\"M542.396 1477.81 L1972.96 1477.81 L1972.96 47.2441 L542.396 47.2441  Z\" fill=\"#ffffff\" fill-rule=\"evenodd\" fill-opacity=\"1\"/>\n",
       "<defs>\n",
       "  <clipPath id=\"clip502\">\n",
       "    <rect x=\"542\" y=\"47\" width=\"1432\" height=\"1432\"/>\n",
       "  </clipPath>\n",
       "</defs>\n",
       "<polyline clip-path=\"url(#clip502)\" style=\"stroke:#000000; stroke-linecap:round; stroke-linejoin:round; stroke-width:2; stroke-opacity:0.1; fill:none\" points=\"542.396,1477.81 542.396,47.2441 \"/>\n",
       "<polyline clip-path=\"url(#clip502)\" style=\"stroke:#000000; stroke-linecap:round; stroke-linejoin:round; stroke-width:2; stroke-opacity:0.1; fill:none\" points=\"900.037,1477.81 900.037,47.2441 \"/>\n",
       "<polyline clip-path=\"url(#clip502)\" style=\"stroke:#000000; stroke-linecap:round; stroke-linejoin:round; stroke-width:2; stroke-opacity:0.1; fill:none\" points=\"1257.68,1477.81 1257.68,47.2441 \"/>\n",
       "<polyline clip-path=\"url(#clip502)\" style=\"stroke:#000000; stroke-linecap:round; stroke-linejoin:round; stroke-width:2; stroke-opacity:0.1; fill:none\" points=\"1615.32,1477.81 1615.32,47.2441 \"/>\n",
       "<polyline clip-path=\"url(#clip502)\" style=\"stroke:#000000; stroke-linecap:round; stroke-linejoin:round; stroke-width:2; stroke-opacity:0.1; fill:none\" points=\"1972.96,1477.81 1972.96,47.2441 \"/>\n",
       "<polyline clip-path=\"url(#clip502)\" style=\"stroke:#000000; stroke-linecap:round; stroke-linejoin:round; stroke-width:2; stroke-opacity:0.1; fill:none\" points=\"542.396,1477.81 1972.96,1477.81 \"/>\n",
       "<polyline clip-path=\"url(#clip502)\" style=\"stroke:#000000; stroke-linecap:round; stroke-linejoin:round; stroke-width:2; stroke-opacity:0.1; fill:none\" points=\"542.396,1120.17 1972.96,1120.17 \"/>\n",
       "<polyline clip-path=\"url(#clip502)\" style=\"stroke:#000000; stroke-linecap:round; stroke-linejoin:round; stroke-width:2; stroke-opacity:0.1; fill:none\" points=\"542.396,762.526 1972.96,762.526 \"/>\n",
       "<polyline clip-path=\"url(#clip502)\" style=\"stroke:#000000; stroke-linecap:round; stroke-linejoin:round; stroke-width:2; stroke-opacity:0.1; fill:none\" points=\"542.396,404.885 1972.96,404.885 \"/>\n",
       "<polyline clip-path=\"url(#clip502)\" style=\"stroke:#000000; stroke-linecap:round; stroke-linejoin:round; stroke-width:2; stroke-opacity:0.1; fill:none\" points=\"542.396,47.2441 1972.96,47.2441 \"/>\n",
       "<polyline clip-path=\"url(#clip500)\" style=\"stroke:#000000; stroke-linecap:round; stroke-linejoin:round; stroke-width:4; stroke-opacity:1; fill:none\" points=\"542.396,1477.81 1972.96,1477.81 \"/>\n",
       "<polyline clip-path=\"url(#clip500)\" style=\"stroke:#000000; stroke-linecap:round; stroke-linejoin:round; stroke-width:4; stroke-opacity:1; fill:none\" points=\"542.396,1477.81 542.396,1458.91 \"/>\n",
       "<polyline clip-path=\"url(#clip500)\" style=\"stroke:#000000; stroke-linecap:round; stroke-linejoin:round; stroke-width:4; stroke-opacity:1; fill:none\" points=\"900.037,1477.81 900.037,1458.91 \"/>\n",
       "<polyline clip-path=\"url(#clip500)\" style=\"stroke:#000000; stroke-linecap:round; stroke-linejoin:round; stroke-width:4; stroke-opacity:1; fill:none\" points=\"1257.68,1477.81 1257.68,1458.91 \"/>\n",
       "<polyline clip-path=\"url(#clip500)\" style=\"stroke:#000000; stroke-linecap:round; stroke-linejoin:round; stroke-width:4; stroke-opacity:1; fill:none\" points=\"1615.32,1477.81 1615.32,1458.91 \"/>\n",
       "<polyline clip-path=\"url(#clip500)\" style=\"stroke:#000000; stroke-linecap:round; stroke-linejoin:round; stroke-width:4; stroke-opacity:1; fill:none\" points=\"1972.96,1477.81 1972.96,1458.91 \"/>\n",
       "<path clip-path=\"url(#clip500)\" d=\"M504.824 1529.97 L541.918 1529.97 L541.918 1534.89 L504.824 1534.89 L504.824 1529.97 Z\" fill=\"#000000\" fill-rule=\"nonzero\" fill-opacity=\"1\" /><path clip-path=\"url(#clip500)\" d=\"M559.569 1546.09 L579.968 1546.09 L579.968 1551.01 L552.537 1551.01 L552.537 1546.09 Q555.865 1542.65 561.594 1536.86 Q567.352 1531.04 568.828 1529.36 Q571.635 1526.21 572.734 1524.04 Q573.863 1521.84 573.863 1519.73 Q573.863 1516.29 571.432 1514.12 Q569.03 1511.95 565.153 1511.95 Q562.404 1511.95 559.337 1512.9 Q556.299 1513.86 552.827 1515.79 L552.827 1509.89 Q556.357 1508.47 559.424 1507.75 Q562.491 1507.03 565.037 1507.03 Q571.75 1507.03 575.743 1510.38 Q579.736 1513.74 579.736 1519.35 Q579.736 1522.01 578.724 1524.42 Q577.74 1526.79 575.107 1530.03 Q574.383 1530.87 570.506 1534.89 Q566.629 1538.88 559.569 1546.09 Z\" fill=\"#000000\" fill-rule=\"nonzero\" fill-opacity=\"1\" /><path clip-path=\"url(#clip500)\" d=\"M862.233 1529.97 L899.328 1529.97 L899.328 1534.89 L862.233 1534.89 L862.233 1529.97 Z\" fill=\"#000000\" fill-rule=\"nonzero\" fill-opacity=\"1\" /><path clip-path=\"url(#clip500)\" d=\"M912.956 1546.09 L922.505 1546.09 L922.505 1513.13 L912.117 1515.22 L912.117 1509.89 L922.447 1507.81 L928.292 1507.81 L928.292 1546.09 L937.84 1546.09 L937.84 1551.01 L912.956 1551.01 L912.956 1546.09 Z\" fill=\"#000000\" fill-rule=\"nonzero\" fill-opacity=\"1\" /><path clip-path=\"url(#clip500)\" d=\"M1257.68 1511.66 Q1253.16 1511.66 1250.88 1516.11 Q1248.62 1520.54 1248.62 1529.45 Q1248.62 1538.33 1250.88 1542.79 Q1253.16 1547.22 1257.68 1547.22 Q1262.22 1547.22 1264.48 1542.79 Q1266.76 1538.33 1266.76 1529.45 Q1266.76 1520.54 1264.48 1516.11 Q1262.22 1511.66 1257.68 1511.66 M1257.68 1507.03 Q1264.94 1507.03 1268.76 1512.78 Q1272.61 1518.51 1272.61 1529.45 Q1272.61 1540.36 1268.76 1546.12 Q1264.94 1551.85 1257.68 1551.85 Q1250.41 1551.85 1246.57 1546.12 Q1242.75 1540.36 1242.75 1529.45 Q1242.75 1518.51 1246.57 1512.78 Q1250.41 1507.03 1257.68 1507.03 Z\" fill=\"#000000\" fill-rule=\"nonzero\" fill-opacity=\"1\" /><path clip-path=\"url(#clip500)\" d=\"M1603.3 1546.09 L1612.84 1546.09 L1612.84 1513.13 L1602.46 1515.22 L1602.46 1509.89 L1612.79 1507.81 L1618.63 1507.81 L1618.63 1546.09 L1628.18 1546.09 L1628.18 1551.01 L1603.3 1551.01 L1603.3 1546.09 Z\" fill=\"#000000\" fill-rule=\"nonzero\" fill-opacity=\"1\" /><path clip-path=\"url(#clip500)\" d=\"M1966.28 1546.09 L1986.67 1546.09 L1986.67 1551.01 L1959.24 1551.01 L1959.24 1546.09 Q1962.57 1542.65 1968.3 1536.86 Q1974.06 1531.04 1975.53 1529.36 Q1978.34 1526.21 1979.44 1524.04 Q1980.57 1521.84 1980.57 1519.73 Q1980.57 1516.29 1978.14 1514.12 Q1975.74 1511.95 1971.86 1511.95 Q1969.11 1511.95 1966.04 1512.9 Q1963.01 1513.86 1959.53 1515.79 L1959.53 1509.89 Q1963.06 1508.47 1966.13 1507.75 Q1969.2 1507.03 1971.74 1507.03 Q1978.46 1507.03 1982.45 1510.38 Q1986.44 1513.74 1986.44 1519.35 Q1986.44 1522.01 1985.43 1524.42 Q1984.45 1526.79 1981.81 1530.03 Q1981.09 1530.87 1977.21 1534.89 Q1973.34 1538.88 1966.28 1546.09 Z\" fill=\"#000000\" fill-rule=\"nonzero\" fill-opacity=\"1\" /><polyline clip-path=\"url(#clip500)\" style=\"stroke:#000000; stroke-linecap:round; stroke-linejoin:round; stroke-width:4; stroke-opacity:1; fill:none\" points=\"542.396,1477.81 542.396,47.2441 \"/>\n",
       "<polyline clip-path=\"url(#clip500)\" style=\"stroke:#000000; stroke-linecap:round; stroke-linejoin:round; stroke-width:4; stroke-opacity:1; fill:none\" points=\"542.396,1477.81 554.739,1477.81 \"/>\n",
       "<polyline clip-path=\"url(#clip500)\" style=\"stroke:#000000; stroke-linecap:round; stroke-linejoin:round; stroke-width:4; stroke-opacity:1; fill:none\" points=\"542.396,1120.17 554.739,1120.17 \"/>\n",
       "<polyline clip-path=\"url(#clip500)\" style=\"stroke:#000000; stroke-linecap:round; stroke-linejoin:round; stroke-width:4; stroke-opacity:1; fill:none\" points=\"542.396,762.526 554.739,762.526 \"/>\n",
       "<polyline clip-path=\"url(#clip500)\" style=\"stroke:#000000; stroke-linecap:round; stroke-linejoin:round; stroke-width:4; stroke-opacity:1; fill:none\" points=\"542.396,404.885 554.739,404.885 \"/>\n",
       "<polyline clip-path=\"url(#clip500)\" style=\"stroke:#000000; stroke-linecap:round; stroke-linejoin:round; stroke-width:4; stroke-opacity:1; fill:none\" points=\"542.396,47.2441 554.739,47.2441 \"/>\n",
       "<path clip-path=\"url(#clip500)\" d=\"M431.251 1478.37 L468.346 1478.37 L468.346 1483.29 L431.251 1483.29 L431.251 1478.37 Z\" fill=\"#000000\" fill-rule=\"nonzero\" fill-opacity=\"1\" /><path clip-path=\"url(#clip500)\" d=\"M485.997 1494.49 L506.396 1494.49 L506.396 1499.41 L478.965 1499.41 L478.965 1494.49 Q482.293 1491.05 488.022 1485.26 Q493.78 1479.44 495.256 1477.76 Q498.062 1474.61 499.162 1472.44 Q500.29 1470.24 500.29 1468.13 Q500.29 1464.69 497.86 1462.52 Q495.458 1460.35 491.581 1460.35 Q488.832 1460.35 485.765 1461.3 Q482.727 1462.26 479.255 1464.19 L479.255 1458.29 Q482.785 1456.87 485.852 1456.15 Q488.919 1455.43 491.465 1455.43 Q498.178 1455.43 502.171 1458.78 Q506.164 1462.14 506.164 1467.75 Q506.164 1470.41 505.152 1472.82 Q504.168 1475.19 501.535 1478.43 Q500.811 1479.27 496.934 1483.29 Q493.057 1487.28 485.997 1494.49 Z\" fill=\"#000000\" fill-rule=\"nonzero\" fill-opacity=\"1\" /><path clip-path=\"url(#clip500)\" d=\"M430.789 1120.73 L467.883 1120.73 L467.883 1125.65 L430.789 1125.65 L430.789 1120.73 Z\" fill=\"#000000\" fill-rule=\"nonzero\" fill-opacity=\"1\" /><path clip-path=\"url(#clip500)\" d=\"M481.512 1136.85 L491.06 1136.85 L491.06 1103.89 L480.673 1105.97 L480.673 1100.65 L491.002 1098.57 L496.847 1098.57 L496.847 1136.85 L506.396 1136.85 L506.396 1141.77 L481.512 1141.77 L481.512 1136.85 Z\" fill=\"#000000\" fill-rule=\"nonzero\" fill-opacity=\"1\" /><path clip-path=\"url(#clip500)\" d=\"M491.465 744.774 Q486.951 744.774 484.666 749.23 Q482.409 753.657 482.409 762.569 Q482.409 771.452 484.666 775.908 Q486.951 780.335 491.465 780.335 Q496.008 780.335 498.265 775.908 Q500.551 771.452 500.551 762.569 Q500.551 753.657 498.265 749.23 Q496.008 744.774 491.465 744.774 M491.465 740.145 Q498.728 740.145 502.547 745.903 Q506.396 751.632 506.396 762.569 Q506.396 773.478 502.547 779.236 Q498.728 784.965 491.465 784.965 Q484.203 784.965 480.354 779.236 Q476.535 773.478 476.535 762.569 Q476.535 751.632 480.354 745.903 Q484.203 740.145 491.465 740.145 Z\" fill=\"#000000\" fill-rule=\"nonzero\" fill-opacity=\"1\" /><path clip-path=\"url(#clip500)\" d=\"M481.512 421.566 L491.06 421.566 L491.06 388.609 L480.673 390.692 L480.673 385.368 L491.002 383.285 L496.847 383.285 L496.847 421.566 L506.396 421.566 L506.396 426.485 L481.512 426.485 L481.512 421.566 Z\" fill=\"#000000\" fill-rule=\"nonzero\" fill-opacity=\"1\" /><path clip-path=\"url(#clip500)\" d=\"M485.997 63.9251 L506.396 63.9251 L506.396 68.8441 L478.965 68.8441 L478.965 63.9251 Q482.293 60.4819 488.022 54.6949 Q493.78 48.8789 495.256 47.2007 Q498.062 44.0468 499.162 41.8766 Q500.29 39.6776 500.29 37.5653 Q500.29 34.1221 497.86 31.9519 Q495.458 29.7818 491.581 29.7818 Q488.832 29.7818 485.765 30.7367 Q482.727 31.6915 479.255 33.6302 L479.255 27.7274 Q482.785 26.3096 485.852 25.5862 Q488.919 24.8628 491.465 24.8628 Q498.178 24.8628 502.171 28.2193 Q506.164 31.5758 506.164 37.1892 Q506.164 39.8512 505.152 42.2528 Q504.168 44.6255 501.535 47.8662 Q500.811 48.7053 496.934 52.7273 Q493.057 56.7203 485.997 63.9251 Z\" fill=\"#000000\" fill-rule=\"nonzero\" fill-opacity=\"1\" /><path clip-path=\"url(#clip502)\" d=\"M578.16 1442.04 L1937.2 1442.04 L1937.2 83.0082 L578.16 83.0082 L578.16 1442.04 L578.16 1442.04  Z\" fill=\"#ffffff\" fill-rule=\"evenodd\" fill-opacity=\"1\"/>\n",
       "<polyline clip-path=\"url(#clip502)\" style=\"stroke:#000000; stroke-linecap:round; stroke-linejoin:round; stroke-width:4; stroke-opacity:1; fill:none\" points=\"578.16,1442.04 1937.2,1442.04 1937.2,83.0082 578.16,83.0082 578.16,1442.04 \"/>\n",
       "<path clip-path=\"url(#clip502)\" d=\"M578.16 1370.52 L1865.67 1370.52 L1865.67 83.0082 L578.16 83.0082 L578.16 1370.52 L578.16 1370.52  Z\" fill=\"#ffffff\" fill-rule=\"evenodd\" fill-opacity=\"1\"/>\n",
       "<polyline clip-path=\"url(#clip502)\" style=\"stroke:#000000; stroke-linecap:round; stroke-linejoin:round; stroke-width:4; stroke-opacity:1; fill:none\" points=\"578.16,1370.52 1865.67,1370.52 1865.67,83.0082 578.16,83.0082 578.16,1370.52 \"/>\n",
       "<path clip-path=\"url(#clip502)\" d=\"M578.16 1298.99 L1794.14 1298.99 L1794.14 83.0082 L578.16 83.0082 L578.16 1298.99 L578.16 1298.99  Z\" fill=\"#ffffff\" fill-rule=\"evenodd\" fill-opacity=\"1\"/>\n",
       "<polyline clip-path=\"url(#clip502)\" style=\"stroke:#000000; stroke-linecap:round; stroke-linejoin:round; stroke-width:4; stroke-opacity:1; fill:none\" points=\"578.16,1298.99 1794.14,1298.99 1794.14,83.0082 578.16,83.0082 578.16,1298.99 \"/>\n",
       "<path clip-path=\"url(#clip502)\" d=\"M578.16 1227.46 L1722.61 1227.46 L1722.61 83.0082 L578.16 83.0082 L578.16 1227.46 L578.16 1227.46  Z\" fill=\"#ffffff\" fill-rule=\"evenodd\" fill-opacity=\"1\"/>\n",
       "<polyline clip-path=\"url(#clip502)\" style=\"stroke:#000000; stroke-linecap:round; stroke-linejoin:round; stroke-width:4; stroke-opacity:1; fill:none\" points=\"578.16,1227.46 1722.61,1227.46 1722.61,83.0082 578.16,83.0082 578.16,1227.46 \"/>\n",
       "<path clip-path=\"url(#clip502)\" d=\"M578.16 1155.93 L1651.08 1155.93 L1651.08 83.0082 L578.16 83.0082 L578.16 1155.93 L578.16 1155.93  Z\" fill=\"#ffffff\" fill-rule=\"evenodd\" fill-opacity=\"1\"/>\n",
       "<polyline clip-path=\"url(#clip502)\" style=\"stroke:#000000; stroke-linecap:round; stroke-linejoin:round; stroke-width:4; stroke-opacity:1; fill:none\" points=\"578.16,1155.93 1651.08,1155.93 1651.08,83.0082 578.16,83.0082 578.16,1155.93 \"/>\n",
       "<path clip-path=\"url(#clip502)\" d=\"M578.16 1084.4 L1579.55 1084.4 L1579.55 83.0082 L578.16 83.0082 L578.16 1084.4 L578.16 1084.4  Z\" fill=\"#ffffff\" fill-rule=\"evenodd\" fill-opacity=\"1\"/>\n",
       "<polyline clip-path=\"url(#clip502)\" style=\"stroke:#000000; stroke-linecap:round; stroke-linejoin:round; stroke-width:4; stroke-opacity:1; fill:none\" points=\"578.16,1084.4 1579.55,1084.4 1579.55,83.0082 578.16,83.0082 578.16,1084.4 \"/>\n",
       "<path clip-path=\"url(#clip502)\" d=\"M578.16 1012.87 L1508.03 1012.87 L1508.03 83.0082 L578.16 83.0082 L578.16 1012.87 L578.16 1012.87  Z\" fill=\"#ffffff\" fill-rule=\"evenodd\" fill-opacity=\"1\"/>\n",
       "<polyline clip-path=\"url(#clip502)\" style=\"stroke:#000000; stroke-linecap:round; stroke-linejoin:round; stroke-width:4; stroke-opacity:1; fill:none\" points=\"578.16,1012.87 1508.03,1012.87 1508.03,83.0082 578.16,83.0082 578.16,1012.87 \"/>\n",
       "<path clip-path=\"url(#clip502)\" d=\"M578.16 941.346 L1436.5 941.346 L1436.5 83.0082 L578.16 83.0082 L578.16 941.346 L578.16 941.346  Z\" fill=\"#ffffff\" fill-rule=\"evenodd\" fill-opacity=\"1\"/>\n",
       "<polyline clip-path=\"url(#clip502)\" style=\"stroke:#000000; stroke-linecap:round; stroke-linejoin:round; stroke-width:4; stroke-opacity:1; fill:none\" points=\"578.16,941.346 1436.5,941.346 1436.5,83.0082 578.16,83.0082 578.16,941.346 \"/>\n",
       "<path clip-path=\"url(#clip502)\" d=\"M578.16 869.818 L1364.97 869.818 L1364.97 83.0082 L578.16 83.0082 L578.16 869.818 L578.16 869.818  Z\" fill=\"#ffffff\" fill-rule=\"evenodd\" fill-opacity=\"1\"/>\n",
       "<polyline clip-path=\"url(#clip502)\" style=\"stroke:#000000; stroke-linecap:round; stroke-linejoin:round; stroke-width:4; stroke-opacity:1; fill:none\" points=\"578.16,869.818 1364.97,869.818 1364.97,83.0082 578.16,83.0082 578.16,869.818 \"/>\n",
       "<path clip-path=\"url(#clip502)\" d=\"M578.16 798.29 L1293.44 798.29 L1293.44 83.0082 L578.16 83.0082 L578.16 798.29 L578.16 798.29  Z\" fill=\"#ffffff\" fill-rule=\"evenodd\" fill-opacity=\"1\"/>\n",
       "<polyline clip-path=\"url(#clip502)\" style=\"stroke:#000000; stroke-linecap:round; stroke-linejoin:round; stroke-width:4; stroke-opacity:1; fill:none\" points=\"578.16,798.29 1293.44,798.29 1293.44,83.0082 578.16,83.0082 578.16,798.29 \"/>\n",
       "<path clip-path=\"url(#clip502)\" d=\"M578.16 726.762 L1221.91 726.762 L1221.91 83.0082 L578.16 83.0082 L578.16 726.762 L578.16 726.762  Z\" fill=\"#ffffff\" fill-rule=\"evenodd\" fill-opacity=\"1\"/>\n",
       "<polyline clip-path=\"url(#clip502)\" style=\"stroke:#000000; stroke-linecap:round; stroke-linejoin:round; stroke-width:4; stroke-opacity:1; fill:none\" points=\"578.16,726.762 1221.91,726.762 1221.91,83.0082 578.16,83.0082 578.16,726.762 \"/>\n",
       "<path clip-path=\"url(#clip502)\" d=\"M578.16 655.234 L1150.39 655.234 L1150.39 83.0082 L578.16 83.0082 L578.16 655.234 L578.16 655.234  Z\" fill=\"#ffffff\" fill-rule=\"evenodd\" fill-opacity=\"1\"/>\n",
       "<polyline clip-path=\"url(#clip502)\" style=\"stroke:#000000; stroke-linecap:round; stroke-linejoin:round; stroke-width:4; stroke-opacity:1; fill:none\" points=\"578.16,655.234 1150.39,655.234 1150.39,83.0082 578.16,83.0082 578.16,655.234 \"/>\n",
       "<path clip-path=\"url(#clip502)\" d=\"M578.16 583.706 L1078.86 583.706 L1078.86 83.0082 L578.16 83.0082 L578.16 583.706 L578.16 583.706  Z\" fill=\"#ffffff\" fill-rule=\"evenodd\" fill-opacity=\"1\"/>\n",
       "<polyline clip-path=\"url(#clip502)\" style=\"stroke:#000000; stroke-linecap:round; stroke-linejoin:round; stroke-width:4; stroke-opacity:1; fill:none\" points=\"578.16,583.706 1078.86,583.706 1078.86,83.0082 578.16,83.0082 578.16,583.706 \"/>\n",
       "<path clip-path=\"url(#clip502)\" d=\"M578.16 512.177 L1007.33 512.177 L1007.33 83.0082 L578.16 83.0082 L578.16 512.177 L578.16 512.177  Z\" fill=\"#ffffff\" fill-rule=\"evenodd\" fill-opacity=\"1\"/>\n",
       "<polyline clip-path=\"url(#clip502)\" style=\"stroke:#000000; stroke-linecap:round; stroke-linejoin:round; stroke-width:4; stroke-opacity:1; fill:none\" points=\"578.16,512.177 1007.33,512.177 1007.33,83.0082 578.16,83.0082 578.16,512.177 \"/>\n",
       "<path clip-path=\"url(#clip502)\" d=\"M578.16 440.649 L935.801 440.649 L935.801 83.0082 L578.16 83.0082 L578.16 440.649 L578.16 440.649  Z\" fill=\"#ffffff\" fill-rule=\"evenodd\" fill-opacity=\"1\"/>\n",
       "<polyline clip-path=\"url(#clip502)\" style=\"stroke:#000000; stroke-linecap:round; stroke-linejoin:round; stroke-width:4; stroke-opacity:1; fill:none\" points=\"578.16,440.649 935.801,440.649 935.801,83.0082 578.16,83.0082 578.16,440.649 \"/>\n",
       "<path clip-path=\"url(#clip502)\" d=\"M578.16 369.121 L864.273 369.121 L864.273 83.0082 L578.16 83.0082 L578.16 369.121 L578.16 369.121  Z\" fill=\"#ffffff\" fill-rule=\"evenodd\" fill-opacity=\"1\"/>\n",
       "<polyline clip-path=\"url(#clip502)\" style=\"stroke:#000000; stroke-linecap:round; stroke-linejoin:round; stroke-width:4; stroke-opacity:1; fill:none\" points=\"578.16,369.121 864.273,369.121 864.273,83.0082 578.16,83.0082 578.16,369.121 \"/>\n",
       "<path clip-path=\"url(#clip502)\" d=\"M578.16 297.593 L792.744 297.593 L792.744 83.0082 L578.16 83.0082 L578.16 297.593 L578.16 297.593  Z\" fill=\"#ffffff\" fill-rule=\"evenodd\" fill-opacity=\"1\"/>\n",
       "<polyline clip-path=\"url(#clip502)\" style=\"stroke:#000000; stroke-linecap:round; stroke-linejoin:round; stroke-width:4; stroke-opacity:1; fill:none\" points=\"578.16,297.593 792.744,297.593 792.744,83.0082 578.16,83.0082 578.16,297.593 \"/>\n",
       "<path clip-path=\"url(#clip502)\" d=\"M578.16 226.065 L721.216 226.065 L721.216 83.0082 L578.16 83.0082 L578.16 226.065 L578.16 226.065  Z\" fill=\"#ffffff\" fill-rule=\"evenodd\" fill-opacity=\"1\"/>\n",
       "<polyline clip-path=\"url(#clip502)\" style=\"stroke:#000000; stroke-linecap:round; stroke-linejoin:round; stroke-width:4; stroke-opacity:1; fill:none\" points=\"578.16,226.065 721.216,226.065 721.216,83.0082 578.16,83.0082 578.16,226.065 \"/>\n",
       "<path clip-path=\"url(#clip502)\" d=\"M578.16 154.536 L649.688 154.536 L649.688 83.0082 L578.16 83.0082 L578.16 154.536 L578.16 154.536  Z\" fill=\"#ffffff\" fill-rule=\"evenodd\" fill-opacity=\"1\"/>\n",
       "<polyline clip-path=\"url(#clip502)\" style=\"stroke:#000000; stroke-linecap:round; stroke-linejoin:round; stroke-width:4; stroke-opacity:1; fill:none\" points=\"578.16,154.536 649.688,154.536 649.688,83.0082 578.16,83.0082 578.16,154.536 \"/>\n",
       "<path clip-path=\"url(#clip502)\" d=\"M1651.08 369.121 L1722.61 369.121 L1722.61 297.593 L1651.08 297.593 L1651.08 369.121 L1651.08 369.121  Z\" fill=\"#0000ff\" fill-rule=\"evenodd\" fill-opacity=\"1\"/>\n",
       "<polyline clip-path=\"url(#clip502)\" style=\"stroke:#000000; stroke-linecap:round; stroke-linejoin:round; stroke-width:4; stroke-opacity:1; fill:none\" points=\"1651.08,369.121 1722.61,369.121 1722.61,297.593 1651.08,297.593 1651.08,369.121 \"/>\n",
       "<path clip-path=\"url(#clip502)\" d=\"M1436.5 369.121 L1651.08 369.121 L1651.08 226.065 L1436.5 226.065 L1436.5 369.121 L1436.5 369.121  Z\" fill=\"#008000\" fill-rule=\"evenodd\" fill-opacity=\"1\"/>\n",
       "<polyline clip-path=\"url(#clip502)\" style=\"stroke:#000000; stroke-linecap:round; stroke-linejoin:round; stroke-width:4; stroke-opacity:1; fill:none\" points=\"1436.5,369.121 1651.08,369.121 1651.08,226.065 1436.5,226.065 1436.5,369.121 \"/>\n",
       "<path clip-path=\"url(#clip502)\" d=\"M1436.5 297.593 L1579.55 297.593 L1579.55 226.065 L1436.5 226.065 L1436.5 297.593 L1436.5 297.593  Z\" fill=\"#008000\" fill-rule=\"evenodd\" fill-opacity=\"1\"/>\n",
       "<polyline clip-path=\"url(#clip502)\" style=\"stroke:#000000; stroke-linecap:round; stroke-linejoin:round; stroke-width:4; stroke-opacity:1; fill:none\" points=\"1436.5,297.593 1579.55,297.593 1579.55,226.065 1436.5,226.065 1436.5,297.593 \"/>\n",
       "</svg>\n"
      ],
      "image/svg+xml": [
       "<?xml version=\"1.0\" encoding=\"utf-8\"?>\n",
       "<svg xmlns=\"http://www.w3.org/2000/svg\" xmlns:xlink=\"http://www.w3.org/1999/xlink\" width=\"600\" height=\"400\" viewBox=\"0 0 2400 1600\">\n",
       "<defs>\n",
       "  <clipPath id=\"clip470\">\n",
       "    <rect x=\"0\" y=\"0\" width=\"2400\" height=\"1600\"/>\n",
       "  </clipPath>\n",
       "</defs>\n",
       "<path clip-path=\"url(#clip470)\" d=\"M0 1600 L2400 1600 L2400 0 L0 0  Z\" fill=\"#ffffff\" fill-rule=\"evenodd\" fill-opacity=\"1\"/>\n",
       "<defs>\n",
       "  <clipPath id=\"clip471\">\n",
       "    <rect x=\"480\" y=\"0\" width=\"1681\" height=\"1600\"/>\n",
       "  </clipPath>\n",
       "</defs>\n",
       "<path clip-path=\"url(#clip470)\" d=\"M542.396 1477.81 L1972.96 1477.81 L1972.96 47.2441 L542.396 47.2441  Z\" fill=\"#ffffff\" fill-rule=\"evenodd\" fill-opacity=\"1\"/>\n",
       "<defs>\n",
       "  <clipPath id=\"clip472\">\n",
       "    <rect x=\"542\" y=\"47\" width=\"1432\" height=\"1432\"/>\n",
       "  </clipPath>\n",
       "</defs>\n",
       "<polyline clip-path=\"url(#clip472)\" style=\"stroke:#000000; stroke-linecap:round; stroke-linejoin:round; stroke-width:2; stroke-opacity:0.1; fill:none\" points=\"542.396,1477.81 542.396,47.2441 \"/>\n",
       "<polyline clip-path=\"url(#clip472)\" style=\"stroke:#000000; stroke-linecap:round; stroke-linejoin:round; stroke-width:2; stroke-opacity:0.1; fill:none\" points=\"900.037,1477.81 900.037,47.2441 \"/>\n",
       "<polyline clip-path=\"url(#clip472)\" style=\"stroke:#000000; stroke-linecap:round; stroke-linejoin:round; stroke-width:2; stroke-opacity:0.1; fill:none\" points=\"1257.68,1477.81 1257.68,47.2441 \"/>\n",
       "<polyline clip-path=\"url(#clip472)\" style=\"stroke:#000000; stroke-linecap:round; stroke-linejoin:round; stroke-width:2; stroke-opacity:0.1; fill:none\" points=\"1615.32,1477.81 1615.32,47.2441 \"/>\n",
       "<polyline clip-path=\"url(#clip472)\" style=\"stroke:#000000; stroke-linecap:round; stroke-linejoin:round; stroke-width:2; stroke-opacity:0.1; fill:none\" points=\"1972.96,1477.81 1972.96,47.2441 \"/>\n",
       "<polyline clip-path=\"url(#clip472)\" style=\"stroke:#000000; stroke-linecap:round; stroke-linejoin:round; stroke-width:2; stroke-opacity:0.1; fill:none\" points=\"542.396,1477.81 1972.96,1477.81 \"/>\n",
       "<polyline clip-path=\"url(#clip472)\" style=\"stroke:#000000; stroke-linecap:round; stroke-linejoin:round; stroke-width:2; stroke-opacity:0.1; fill:none\" points=\"542.396,1120.17 1972.96,1120.17 \"/>\n",
       "<polyline clip-path=\"url(#clip472)\" style=\"stroke:#000000; stroke-linecap:round; stroke-linejoin:round; stroke-width:2; stroke-opacity:0.1; fill:none\" points=\"542.396,762.526 1972.96,762.526 \"/>\n",
       "<polyline clip-path=\"url(#clip472)\" style=\"stroke:#000000; stroke-linecap:round; stroke-linejoin:round; stroke-width:2; stroke-opacity:0.1; fill:none\" points=\"542.396,404.885 1972.96,404.885 \"/>\n",
       "<polyline clip-path=\"url(#clip472)\" style=\"stroke:#000000; stroke-linecap:round; stroke-linejoin:round; stroke-width:2; stroke-opacity:0.1; fill:none\" points=\"542.396,47.2441 1972.96,47.2441 \"/>\n",
       "<polyline clip-path=\"url(#clip470)\" style=\"stroke:#000000; stroke-linecap:round; stroke-linejoin:round; stroke-width:4; stroke-opacity:1; fill:none\" points=\"542.396,1477.81 1972.96,1477.81 \"/>\n",
       "<polyline clip-path=\"url(#clip470)\" style=\"stroke:#000000; stroke-linecap:round; stroke-linejoin:round; stroke-width:4; stroke-opacity:1; fill:none\" points=\"542.396,1477.81 542.396,1458.91 \"/>\n",
       "<polyline clip-path=\"url(#clip470)\" style=\"stroke:#000000; stroke-linecap:round; stroke-linejoin:round; stroke-width:4; stroke-opacity:1; fill:none\" points=\"900.037,1477.81 900.037,1458.91 \"/>\n",
       "<polyline clip-path=\"url(#clip470)\" style=\"stroke:#000000; stroke-linecap:round; stroke-linejoin:round; stroke-width:4; stroke-opacity:1; fill:none\" points=\"1257.68,1477.81 1257.68,1458.91 \"/>\n",
       "<polyline clip-path=\"url(#clip470)\" style=\"stroke:#000000; stroke-linecap:round; stroke-linejoin:round; stroke-width:4; stroke-opacity:1; fill:none\" points=\"1615.32,1477.81 1615.32,1458.91 \"/>\n",
       "<polyline clip-path=\"url(#clip470)\" style=\"stroke:#000000; stroke-linecap:round; stroke-linejoin:round; stroke-width:4; stroke-opacity:1; fill:none\" points=\"1972.96,1477.81 1972.96,1458.91 \"/>\n",
       "<path clip-path=\"url(#clip470)\" d=\"M504.824 1529.97 L541.918 1529.97 L541.918 1534.89 L504.824 1534.89 L504.824 1529.97 Z\" fill=\"#000000\" fill-rule=\"nonzero\" fill-opacity=\"1\" /><path clip-path=\"url(#clip470)\" d=\"M559.569 1546.09 L579.968 1546.09 L579.968 1551.01 L552.537 1551.01 L552.537 1546.09 Q555.865 1542.65 561.594 1536.86 Q567.352 1531.04 568.828 1529.36 Q571.635 1526.21 572.734 1524.04 Q573.863 1521.84 573.863 1519.73 Q573.863 1516.29 571.432 1514.12 Q569.03 1511.95 565.153 1511.95 Q562.404 1511.95 559.337 1512.9 Q556.299 1513.86 552.827 1515.79 L552.827 1509.89 Q556.357 1508.47 559.424 1507.75 Q562.491 1507.03 565.037 1507.03 Q571.75 1507.03 575.743 1510.38 Q579.736 1513.74 579.736 1519.35 Q579.736 1522.01 578.724 1524.42 Q577.74 1526.79 575.107 1530.03 Q574.383 1530.87 570.506 1534.89 Q566.629 1538.88 559.569 1546.09 Z\" fill=\"#000000\" fill-rule=\"nonzero\" fill-opacity=\"1\" /><path clip-path=\"url(#clip470)\" d=\"M862.233 1529.97 L899.328 1529.97 L899.328 1534.89 L862.233 1534.89 L862.233 1529.97 Z\" fill=\"#000000\" fill-rule=\"nonzero\" fill-opacity=\"1\" /><path clip-path=\"url(#clip470)\" d=\"M912.956 1546.09 L922.505 1546.09 L922.505 1513.13 L912.117 1515.22 L912.117 1509.89 L922.447 1507.81 L928.292 1507.81 L928.292 1546.09 L937.84 1546.09 L937.84 1551.01 L912.956 1551.01 L912.956 1546.09 Z\" fill=\"#000000\" fill-rule=\"nonzero\" fill-opacity=\"1\" /><path clip-path=\"url(#clip470)\" d=\"M1257.68 1511.66 Q1253.16 1511.66 1250.88 1516.11 Q1248.62 1520.54 1248.62 1529.45 Q1248.62 1538.33 1250.88 1542.79 Q1253.16 1547.22 1257.68 1547.22 Q1262.22 1547.22 1264.48 1542.79 Q1266.76 1538.33 1266.76 1529.45 Q1266.76 1520.54 1264.48 1516.11 Q1262.22 1511.66 1257.68 1511.66 M1257.68 1507.03 Q1264.94 1507.03 1268.76 1512.78 Q1272.61 1518.51 1272.61 1529.45 Q1272.61 1540.36 1268.76 1546.12 Q1264.94 1551.85 1257.68 1551.85 Q1250.41 1551.85 1246.57 1546.12 Q1242.75 1540.36 1242.75 1529.45 Q1242.75 1518.51 1246.57 1512.78 Q1250.41 1507.03 1257.68 1507.03 Z\" fill=\"#000000\" fill-rule=\"nonzero\" fill-opacity=\"1\" /><path clip-path=\"url(#clip470)\" d=\"M1603.3 1546.09 L1612.84 1546.09 L1612.84 1513.13 L1602.46 1515.22 L1602.46 1509.89 L1612.79 1507.81 L1618.63 1507.81 L1618.63 1546.09 L1628.18 1546.09 L1628.18 1551.01 L1603.3 1551.01 L1603.3 1546.09 Z\" fill=\"#000000\" fill-rule=\"nonzero\" fill-opacity=\"1\" /><path clip-path=\"url(#clip470)\" d=\"M1966.28 1546.09 L1986.67 1546.09 L1986.67 1551.01 L1959.24 1551.01 L1959.24 1546.09 Q1962.57 1542.65 1968.3 1536.86 Q1974.06 1531.04 1975.53 1529.36 Q1978.34 1526.21 1979.44 1524.04 Q1980.57 1521.84 1980.57 1519.73 Q1980.57 1516.29 1978.14 1514.12 Q1975.74 1511.95 1971.86 1511.95 Q1969.11 1511.95 1966.04 1512.9 Q1963.01 1513.86 1959.53 1515.79 L1959.53 1509.89 Q1963.06 1508.47 1966.13 1507.75 Q1969.2 1507.03 1971.74 1507.03 Q1978.46 1507.03 1982.45 1510.38 Q1986.44 1513.74 1986.44 1519.35 Q1986.44 1522.01 1985.43 1524.42 Q1984.45 1526.79 1981.81 1530.03 Q1981.09 1530.87 1977.21 1534.89 Q1973.34 1538.88 1966.28 1546.09 Z\" fill=\"#000000\" fill-rule=\"nonzero\" fill-opacity=\"1\" /><polyline clip-path=\"url(#clip470)\" style=\"stroke:#000000; stroke-linecap:round; stroke-linejoin:round; stroke-width:4; stroke-opacity:1; fill:none\" points=\"542.396,1477.81 542.396,47.2441 \"/>\n",
       "<polyline clip-path=\"url(#clip470)\" style=\"stroke:#000000; stroke-linecap:round; stroke-linejoin:round; stroke-width:4; stroke-opacity:1; fill:none\" points=\"542.396,1477.81 554.739,1477.81 \"/>\n",
       "<polyline clip-path=\"url(#clip470)\" style=\"stroke:#000000; stroke-linecap:round; stroke-linejoin:round; stroke-width:4; stroke-opacity:1; fill:none\" points=\"542.396,1120.17 554.739,1120.17 \"/>\n",
       "<polyline clip-path=\"url(#clip470)\" style=\"stroke:#000000; stroke-linecap:round; stroke-linejoin:round; stroke-width:4; stroke-opacity:1; fill:none\" points=\"542.396,762.526 554.739,762.526 \"/>\n",
       "<polyline clip-path=\"url(#clip470)\" style=\"stroke:#000000; stroke-linecap:round; stroke-linejoin:round; stroke-width:4; stroke-opacity:1; fill:none\" points=\"542.396,404.885 554.739,404.885 \"/>\n",
       "<polyline clip-path=\"url(#clip470)\" style=\"stroke:#000000; stroke-linecap:round; stroke-linejoin:round; stroke-width:4; stroke-opacity:1; fill:none\" points=\"542.396,47.2441 554.739,47.2441 \"/>\n",
       "<path clip-path=\"url(#clip470)\" d=\"M431.251 1478.37 L468.346 1478.37 L468.346 1483.29 L431.251 1483.29 L431.251 1478.37 Z\" fill=\"#000000\" fill-rule=\"nonzero\" fill-opacity=\"1\" /><path clip-path=\"url(#clip470)\" d=\"M485.997 1494.49 L506.396 1494.49 L506.396 1499.41 L478.965 1499.41 L478.965 1494.49 Q482.293 1491.05 488.022 1485.26 Q493.78 1479.44 495.256 1477.76 Q498.062 1474.61 499.162 1472.44 Q500.29 1470.24 500.29 1468.13 Q500.29 1464.69 497.86 1462.52 Q495.458 1460.35 491.581 1460.35 Q488.832 1460.35 485.765 1461.3 Q482.727 1462.26 479.255 1464.19 L479.255 1458.29 Q482.785 1456.87 485.852 1456.15 Q488.919 1455.43 491.465 1455.43 Q498.178 1455.43 502.171 1458.78 Q506.164 1462.14 506.164 1467.75 Q506.164 1470.41 505.152 1472.82 Q504.168 1475.19 501.535 1478.43 Q500.811 1479.27 496.934 1483.29 Q493.057 1487.28 485.997 1494.49 Z\" fill=\"#000000\" fill-rule=\"nonzero\" fill-opacity=\"1\" /><path clip-path=\"url(#clip470)\" d=\"M430.789 1120.73 L467.883 1120.73 L467.883 1125.65 L430.789 1125.65 L430.789 1120.73 Z\" fill=\"#000000\" fill-rule=\"nonzero\" fill-opacity=\"1\" /><path clip-path=\"url(#clip470)\" d=\"M481.512 1136.85 L491.06 1136.85 L491.06 1103.89 L480.673 1105.97 L480.673 1100.65 L491.002 1098.57 L496.847 1098.57 L496.847 1136.85 L506.396 1136.85 L506.396 1141.77 L481.512 1141.77 L481.512 1136.85 Z\" fill=\"#000000\" fill-rule=\"nonzero\" fill-opacity=\"1\" /><path clip-path=\"url(#clip470)\" d=\"M491.465 744.774 Q486.951 744.774 484.666 749.23 Q482.409 753.657 482.409 762.569 Q482.409 771.452 484.666 775.908 Q486.951 780.335 491.465 780.335 Q496.008 780.335 498.265 775.908 Q500.551 771.452 500.551 762.569 Q500.551 753.657 498.265 749.23 Q496.008 744.774 491.465 744.774 M491.465 740.145 Q498.728 740.145 502.547 745.903 Q506.396 751.632 506.396 762.569 Q506.396 773.478 502.547 779.236 Q498.728 784.965 491.465 784.965 Q484.203 784.965 480.354 779.236 Q476.535 773.478 476.535 762.569 Q476.535 751.632 480.354 745.903 Q484.203 740.145 491.465 740.145 Z\" fill=\"#000000\" fill-rule=\"nonzero\" fill-opacity=\"1\" /><path clip-path=\"url(#clip470)\" d=\"M481.512 421.566 L491.06 421.566 L491.06 388.609 L480.673 390.692 L480.673 385.368 L491.002 383.285 L496.847 383.285 L496.847 421.566 L506.396 421.566 L506.396 426.485 L481.512 426.485 L481.512 421.566 Z\" fill=\"#000000\" fill-rule=\"nonzero\" fill-opacity=\"1\" /><path clip-path=\"url(#clip470)\" d=\"M485.997 63.9251 L506.396 63.9251 L506.396 68.8441 L478.965 68.8441 L478.965 63.9251 Q482.293 60.4819 488.022 54.6949 Q493.78 48.8789 495.256 47.2007 Q498.062 44.0468 499.162 41.8766 Q500.29 39.6776 500.29 37.5653 Q500.29 34.1221 497.86 31.9519 Q495.458 29.7818 491.581 29.7818 Q488.832 29.7818 485.765 30.7367 Q482.727 31.6915 479.255 33.6302 L479.255 27.7274 Q482.785 26.3096 485.852 25.5862 Q488.919 24.8628 491.465 24.8628 Q498.178 24.8628 502.171 28.2193 Q506.164 31.5758 506.164 37.1892 Q506.164 39.8512 505.152 42.2528 Q504.168 44.6255 501.535 47.8662 Q500.811 48.7053 496.934 52.7273 Q493.057 56.7203 485.997 63.9251 Z\" fill=\"#000000\" fill-rule=\"nonzero\" fill-opacity=\"1\" /><path clip-path=\"url(#clip472)\" d=\"M578.16 1442.04 L1937.2 1442.04 L1937.2 83.0082 L578.16 83.0082 L578.16 1442.04 L578.16 1442.04  Z\" fill=\"#ffffff\" fill-rule=\"evenodd\" fill-opacity=\"1\"/>\n",
       "<polyline clip-path=\"url(#clip472)\" style=\"stroke:#000000; stroke-linecap:round; stroke-linejoin:round; stroke-width:4; stroke-opacity:1; fill:none\" points=\"578.16,1442.04 1937.2,1442.04 1937.2,83.0082 578.16,83.0082 578.16,1442.04 \"/>\n",
       "<path clip-path=\"url(#clip472)\" d=\"M578.16 1370.52 L1865.67 1370.52 L1865.67 83.0082 L578.16 83.0082 L578.16 1370.52 L578.16 1370.52  Z\" fill=\"#ffffff\" fill-rule=\"evenodd\" fill-opacity=\"1\"/>\n",
       "<polyline clip-path=\"url(#clip472)\" style=\"stroke:#000000; stroke-linecap:round; stroke-linejoin:round; stroke-width:4; stroke-opacity:1; fill:none\" points=\"578.16,1370.52 1865.67,1370.52 1865.67,83.0082 578.16,83.0082 578.16,1370.52 \"/>\n",
       "<path clip-path=\"url(#clip472)\" d=\"M578.16 1298.99 L1794.14 1298.99 L1794.14 83.0082 L578.16 83.0082 L578.16 1298.99 L578.16 1298.99  Z\" fill=\"#ffffff\" fill-rule=\"evenodd\" fill-opacity=\"1\"/>\n",
       "<polyline clip-path=\"url(#clip472)\" style=\"stroke:#000000; stroke-linecap:round; stroke-linejoin:round; stroke-width:4; stroke-opacity:1; fill:none\" points=\"578.16,1298.99 1794.14,1298.99 1794.14,83.0082 578.16,83.0082 578.16,1298.99 \"/>\n",
       "<path clip-path=\"url(#clip472)\" d=\"M578.16 1227.46 L1722.61 1227.46 L1722.61 83.0082 L578.16 83.0082 L578.16 1227.46 L578.16 1227.46  Z\" fill=\"#ffffff\" fill-rule=\"evenodd\" fill-opacity=\"1\"/>\n",
       "<polyline clip-path=\"url(#clip472)\" style=\"stroke:#000000; stroke-linecap:round; stroke-linejoin:round; stroke-width:4; stroke-opacity:1; fill:none\" points=\"578.16,1227.46 1722.61,1227.46 1722.61,83.0082 578.16,83.0082 578.16,1227.46 \"/>\n",
       "<path clip-path=\"url(#clip472)\" d=\"M578.16 1155.93 L1651.08 1155.93 L1651.08 83.0082 L578.16 83.0082 L578.16 1155.93 L578.16 1155.93  Z\" fill=\"#ffffff\" fill-rule=\"evenodd\" fill-opacity=\"1\"/>\n",
       "<polyline clip-path=\"url(#clip472)\" style=\"stroke:#000000; stroke-linecap:round; stroke-linejoin:round; stroke-width:4; stroke-opacity:1; fill:none\" points=\"578.16,1155.93 1651.08,1155.93 1651.08,83.0082 578.16,83.0082 578.16,1155.93 \"/>\n",
       "<path clip-path=\"url(#clip472)\" d=\"M578.16 1084.4 L1579.55 1084.4 L1579.55 83.0082 L578.16 83.0082 L578.16 1084.4 L578.16 1084.4  Z\" fill=\"#ffffff\" fill-rule=\"evenodd\" fill-opacity=\"1\"/>\n",
       "<polyline clip-path=\"url(#clip472)\" style=\"stroke:#000000; stroke-linecap:round; stroke-linejoin:round; stroke-width:4; stroke-opacity:1; fill:none\" points=\"578.16,1084.4 1579.55,1084.4 1579.55,83.0082 578.16,83.0082 578.16,1084.4 \"/>\n",
       "<path clip-path=\"url(#clip472)\" d=\"M578.16 1012.87 L1508.03 1012.87 L1508.03 83.0082 L578.16 83.0082 L578.16 1012.87 L578.16 1012.87  Z\" fill=\"#ffffff\" fill-rule=\"evenodd\" fill-opacity=\"1\"/>\n",
       "<polyline clip-path=\"url(#clip472)\" style=\"stroke:#000000; stroke-linecap:round; stroke-linejoin:round; stroke-width:4; stroke-opacity:1; fill:none\" points=\"578.16,1012.87 1508.03,1012.87 1508.03,83.0082 578.16,83.0082 578.16,1012.87 \"/>\n",
       "<path clip-path=\"url(#clip472)\" d=\"M578.16 941.346 L1436.5 941.346 L1436.5 83.0082 L578.16 83.0082 L578.16 941.346 L578.16 941.346  Z\" fill=\"#ffffff\" fill-rule=\"evenodd\" fill-opacity=\"1\"/>\n",
       "<polyline clip-path=\"url(#clip472)\" style=\"stroke:#000000; stroke-linecap:round; stroke-linejoin:round; stroke-width:4; stroke-opacity:1; fill:none\" points=\"578.16,941.346 1436.5,941.346 1436.5,83.0082 578.16,83.0082 578.16,941.346 \"/>\n",
       "<path clip-path=\"url(#clip472)\" d=\"M578.16 869.818 L1364.97 869.818 L1364.97 83.0082 L578.16 83.0082 L578.16 869.818 L578.16 869.818  Z\" fill=\"#ffffff\" fill-rule=\"evenodd\" fill-opacity=\"1\"/>\n",
       "<polyline clip-path=\"url(#clip472)\" style=\"stroke:#000000; stroke-linecap:round; stroke-linejoin:round; stroke-width:4; stroke-opacity:1; fill:none\" points=\"578.16,869.818 1364.97,869.818 1364.97,83.0082 578.16,83.0082 578.16,869.818 \"/>\n",
       "<path clip-path=\"url(#clip472)\" d=\"M578.16 798.29 L1293.44 798.29 L1293.44 83.0082 L578.16 83.0082 L578.16 798.29 L578.16 798.29  Z\" fill=\"#ffffff\" fill-rule=\"evenodd\" fill-opacity=\"1\"/>\n",
       "<polyline clip-path=\"url(#clip472)\" style=\"stroke:#000000; stroke-linecap:round; stroke-linejoin:round; stroke-width:4; stroke-opacity:1; fill:none\" points=\"578.16,798.29 1293.44,798.29 1293.44,83.0082 578.16,83.0082 578.16,798.29 \"/>\n",
       "<path clip-path=\"url(#clip472)\" d=\"M578.16 726.762 L1221.91 726.762 L1221.91 83.0082 L578.16 83.0082 L578.16 726.762 L578.16 726.762  Z\" fill=\"#ffffff\" fill-rule=\"evenodd\" fill-opacity=\"1\"/>\n",
       "<polyline clip-path=\"url(#clip472)\" style=\"stroke:#000000; stroke-linecap:round; stroke-linejoin:round; stroke-width:4; stroke-opacity:1; fill:none\" points=\"578.16,726.762 1221.91,726.762 1221.91,83.0082 578.16,83.0082 578.16,726.762 \"/>\n",
       "<path clip-path=\"url(#clip472)\" d=\"M578.16 655.234 L1150.39 655.234 L1150.39 83.0082 L578.16 83.0082 L578.16 655.234 L578.16 655.234  Z\" fill=\"#ffffff\" fill-rule=\"evenodd\" fill-opacity=\"1\"/>\n",
       "<polyline clip-path=\"url(#clip472)\" style=\"stroke:#000000; stroke-linecap:round; stroke-linejoin:round; stroke-width:4; stroke-opacity:1; fill:none\" points=\"578.16,655.234 1150.39,655.234 1150.39,83.0082 578.16,83.0082 578.16,655.234 \"/>\n",
       "<path clip-path=\"url(#clip472)\" d=\"M578.16 583.706 L1078.86 583.706 L1078.86 83.0082 L578.16 83.0082 L578.16 583.706 L578.16 583.706  Z\" fill=\"#ffffff\" fill-rule=\"evenodd\" fill-opacity=\"1\"/>\n",
       "<polyline clip-path=\"url(#clip472)\" style=\"stroke:#000000; stroke-linecap:round; stroke-linejoin:round; stroke-width:4; stroke-opacity:1; fill:none\" points=\"578.16,583.706 1078.86,583.706 1078.86,83.0082 578.16,83.0082 578.16,583.706 \"/>\n",
       "<path clip-path=\"url(#clip472)\" d=\"M578.16 512.177 L1007.33 512.177 L1007.33 83.0082 L578.16 83.0082 L578.16 512.177 L578.16 512.177  Z\" fill=\"#ffffff\" fill-rule=\"evenodd\" fill-opacity=\"1\"/>\n",
       "<polyline clip-path=\"url(#clip472)\" style=\"stroke:#000000; stroke-linecap:round; stroke-linejoin:round; stroke-width:4; stroke-opacity:1; fill:none\" points=\"578.16,512.177 1007.33,512.177 1007.33,83.0082 578.16,83.0082 578.16,512.177 \"/>\n",
       "<path clip-path=\"url(#clip472)\" d=\"M578.16 440.649 L935.801 440.649 L935.801 83.0082 L578.16 83.0082 L578.16 440.649 L578.16 440.649  Z\" fill=\"#ffffff\" fill-rule=\"evenodd\" fill-opacity=\"1\"/>\n",
       "<polyline clip-path=\"url(#clip472)\" style=\"stroke:#000000; stroke-linecap:round; stroke-linejoin:round; stroke-width:4; stroke-opacity:1; fill:none\" points=\"578.16,440.649 935.801,440.649 935.801,83.0082 578.16,83.0082 578.16,440.649 \"/>\n",
       "<path clip-path=\"url(#clip472)\" d=\"M578.16 369.121 L864.273 369.121 L864.273 83.0082 L578.16 83.0082 L578.16 369.121 L578.16 369.121  Z\" fill=\"#ffffff\" fill-rule=\"evenodd\" fill-opacity=\"1\"/>\n",
       "<polyline clip-path=\"url(#clip472)\" style=\"stroke:#000000; stroke-linecap:round; stroke-linejoin:round; stroke-width:4; stroke-opacity:1; fill:none\" points=\"578.16,369.121 864.273,369.121 864.273,83.0082 578.16,83.0082 578.16,369.121 \"/>\n",
       "<path clip-path=\"url(#clip472)\" d=\"M578.16 297.593 L792.744 297.593 L792.744 83.0082 L578.16 83.0082 L578.16 297.593 L578.16 297.593  Z\" fill=\"#ffffff\" fill-rule=\"evenodd\" fill-opacity=\"1\"/>\n",
       "<polyline clip-path=\"url(#clip472)\" style=\"stroke:#000000; stroke-linecap:round; stroke-linejoin:round; stroke-width:4; stroke-opacity:1; fill:none\" points=\"578.16,297.593 792.744,297.593 792.744,83.0082 578.16,83.0082 578.16,297.593 \"/>\n",
       "<path clip-path=\"url(#clip472)\" d=\"M578.16 226.065 L721.216 226.065 L721.216 83.0082 L578.16 83.0082 L578.16 226.065 L578.16 226.065  Z\" fill=\"#ffffff\" fill-rule=\"evenodd\" fill-opacity=\"1\"/>\n",
       "<polyline clip-path=\"url(#clip472)\" style=\"stroke:#000000; stroke-linecap:round; stroke-linejoin:round; stroke-width:4; stroke-opacity:1; fill:none\" points=\"578.16,226.065 721.216,226.065 721.216,83.0082 578.16,83.0082 578.16,226.065 \"/>\n",
       "<path clip-path=\"url(#clip472)\" d=\"M578.16 154.536 L649.688 154.536 L649.688 83.0082 L578.16 83.0082 L578.16 154.536 L578.16 154.536  Z\" fill=\"#ffffff\" fill-rule=\"evenodd\" fill-opacity=\"1\"/>\n",
       "<polyline clip-path=\"url(#clip472)\" style=\"stroke:#000000; stroke-linecap:round; stroke-linejoin:round; stroke-width:4; stroke-opacity:1; fill:none\" points=\"578.16,154.536 649.688,154.536 649.688,83.0082 578.16,83.0082 578.16,154.536 \"/>\n",
       "<path clip-path=\"url(#clip472)\" d=\"M1651.08 369.121 L1722.61 369.121 L1722.61 297.593 L1651.08 297.593 L1651.08 369.121 L1651.08 369.121  Z\" fill=\"#0000ff\" fill-rule=\"evenodd\" fill-opacity=\"1\"/>\n",
       "<polyline clip-path=\"url(#clip472)\" style=\"stroke:#000000; stroke-linecap:round; stroke-linejoin:round; stroke-width:4; stroke-opacity:1; fill:none\" points=\"1651.08,369.121 1722.61,369.121 1722.61,297.593 1651.08,297.593 1651.08,369.121 \"/>\n",
       "<path clip-path=\"url(#clip472)\" d=\"M1436.5 369.121 L1651.08 369.121 L1651.08 226.065 L1436.5 226.065 L1436.5 369.121 L1436.5 369.121  Z\" fill=\"#008000\" fill-rule=\"evenodd\" fill-opacity=\"1\"/>\n",
       "<polyline clip-path=\"url(#clip472)\" style=\"stroke:#000000; stroke-linecap:round; stroke-linejoin:round; stroke-width:4; stroke-opacity:1; fill:none\" points=\"1436.5,369.121 1651.08,369.121 1651.08,226.065 1436.5,226.065 1436.5,369.121 \"/>\n",
       "<path clip-path=\"url(#clip472)\" d=\"M1436.5 297.593 L1579.55 297.593 L1579.55 226.065 L1436.5 226.065 L1436.5 297.593 L1436.5 297.593  Z\" fill=\"#008000\" fill-rule=\"evenodd\" fill-opacity=\"1\"/>\n",
       "<polyline clip-path=\"url(#clip472)\" style=\"stroke:#000000; stroke-linecap:round; stroke-linejoin:round; stroke-width:4; stroke-opacity:1; fill:none\" points=\"1436.5,297.593 1579.55,297.593 1579.55,226.065 1436.5,226.065 1436.5,297.593 \"/>\n",
       "</svg>\n"
      ]
     },
     "metadata": {},
     "execution_count": 17
    }
   ],
   "cell_type": "code",
   "source": [
    "fig = plot(;\n",
    "    aspect_ratio = :equal,\n",
    "    xtickfontsize = 10,\n",
    "    ytickfontsize = 10,\n",
    "    guidefontsize = 16,\n",
    ");\n",
    "xlims!(-2, 2)\n",
    "ylims!(-2, 2)\n",
    "dims = [1, 2]\n",
    "\n",
    "plot!(domainX; fc = \"white\", dims = dims);\n",
    "domainx = DO.DomainList(Xgrid);\n",
    "DO.add_pos!(domainx, xpos)\n",
    "plot!(domainx; fc = \"blue\", dims = dims);\n",
    "plot!(domainPostx; fc = \"green\", dims = dims)"
   ],
   "metadata": {},
   "execution_count": 17
  },
  {
   "cell_type": "markdown",
   "source": [
    "In the previous picture, we have the state space lattice in white, the chosen cell `xpos` in blue and\n",
    "the corresponding Post domain in green. The argument `vars` given to the Plot functions refer to the projection\n",
    "of the state space onto the subspace of variables 1 and 2. In this case this is an identity mapping but for\n",
    "higher-order systems, this projection is useful to visualize the behavior of the system on a 2-dimensional space."
   ],
   "metadata": {}
  },
  {
   "cell_type": "markdown",
   "source": [
    "---\n",
    "\n",
    "*This notebook was generated using [Literate.jl](https://github.com/fredrikekre/Literate.jl).*"
   ],
   "metadata": {}
  }
 ],
 "nbformat_minor": 3,
 "metadata": {
  "language_info": {
   "file_extension": ".jl",
   "mimetype": "application/julia",
   "name": "julia",
   "version": "1.11.3"
  },
  "kernelspec": {
   "name": "julia-1.11",
   "display_name": "Julia 1.11.3",
   "language": "julia"
  }
 },
 "nbformat": 4
}
